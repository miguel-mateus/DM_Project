{
 "cells": [
  {
   "cell_type": "markdown",
   "metadata": {
    "id": "RbaI3_4NwnYS"
   },
   "source": [
    "##### Drive"
   ]
  },
  {
   "cell_type": "code",
   "execution_count": null,
   "metadata": {
    "executionInfo": {
     "elapsed": 10024,
     "status": "ok",
     "timestamp": 1609782318636,
     "user": {
      "displayName": "",
      "photoUrl": "",
      "userId": ""
     },
     "user_tz": 0
    },
    "hidden": true,
    "id": "5jgCp_tlfsEp"
   },
   "outputs": [],
   "source": [
    "#Uncomment all if the notebook is opened on Google Collab\n",
    "#from pydrive.auth import GoogleAuth\n",
    "#from pydrive.drive import GoogleDrive\n",
    "#from google.colab import auth\n",
    "#from oauth2client.client import GoogleCredentials\n",
    "\n",
    "#auth.authenticate_user() \n",
    "#gauth = GoogleAuth()\n",
    "#gauth.credentials = GoogleCredentials.get_application_default()\n",
    "#drive = GoogleDrive(gauth)\n",
    "\n",
    "#downloaded = drive.CreateFile({'id':\"1Ob8eKK0ajYN6YCwM9XTUeyevLwTn3T_F\"})  \n",
    "#downloaded.GetContentFile('donors.csv')"
   ]
  },
  {
   "cell_type": "markdown",
   "metadata": {
    "heading_collapsed": true,
    "id": "pajApwV8dDY6"
   },
   "source": [
    "##### Libraries & Packages"
   ]
  },
  {
   "cell_type": "code",
   "execution_count": null,
   "metadata": {
    "colab": {
     "base_uri": "https://localhost:8080/"
    },
    "executionInfo": {
     "elapsed": 19141,
     "status": "ok",
     "timestamp": 1609782328865,
     "user": {
      "displayName": "",
      "photoUrl": "",
      "userId": ""
     },
     "user_tz": 0
    },
    "hidden": true,
    "id": "Qij7CqN0oyth",
    "outputId": "4c098b84-be1e-4573-bf4d-c7b7cc1bb84d"
   },
   "outputs": [],
   "source": [
    "#!conda install git\n",
    "#!pip install -U git+https://github.com/joaopfonseca/SOMPY.git #If this takes too long to download, please paste the command on the conda prompt\n",
    "!pip install -r requirements_DM.txt"
   ]
  },
  {
   "cell_type": "code",
   "execution_count": null,
   "metadata": {
    "ExecuteTime": {
     "end_time": "2020-11-23T19:37:30.417156Z",
     "start_time": "2020-11-23T19:37:30.360308Z"
    },
    "colab": {
     "base_uri": "https://localhost:8080/"
    },
    "executionInfo": {
     "elapsed": 19581,
     "status": "ok",
     "timestamp": 1609782329319,
     "user": {
      "displayName": "",
      "photoUrl": "",
      "userId": ""
     },
     "user_tz": 0
    },
    "hidden": true,
    "id": "0E20j6UUdDY6",
    "outputId": "b12c0823-21e6-4a28-a866-a220b53dcc12"
   },
   "outputs": [],
   "source": [
    "import pandas as pd\n",
    "import numpy as np\n",
    "import scipy as sc\n",
    "import pandas as pd\n",
    "import matplotlib.pyplot as plt\n",
    "from matplotlib import style\n",
    "import seaborn as sns\n",
    "from math import ceil\n",
    "from pandas_profiling import ProfileReport\n",
    "import scipy.cluster.hierarchy as shc\n",
    "from sklearn import datasets\n",
    "from sklearn.feature_selection import VarianceThreshold\n",
    "from sklearn.impute import KNNImputer\n",
    "from sklearn.preprocessing import MinMaxScaler, StandardScaler, OneHotEncoder\n",
    "import category_encoders as ce\n",
    "from sklearn.cluster import KMeans, AgglomerativeClustering\n",
    "from scipy.cluster.hierarchy import dendrogram\n",
    "from factor_analyzer import FactorAnalyzer\n",
    "from factor_analyzer.factor_analyzer import calculate_bartlett_sphericity\n",
    "from factor_analyzer.factor_analyzer import calculate_kmo\n",
    "from sklearn.decomposition import PCA\n",
    "from pyclustertend import hopkins\n",
    "from sklearn.preprocessing import scale\n",
    "import warnings\n",
    "import sompy\n",
    "from sompy.visualization.mapview import View2D\n",
    "from sompy.visualization.bmuhits import BmuHitsView\n",
    "from sompy.visualization.hitmap import HitMapView\n",
    "from sklearn.neighbors import NearestNeighbors\n",
    "from math import isnan\n",
    "from random import sample\n",
    "from numpy.random import uniform\n",
    "import matplotlib.cm as cm\n",
    "from sklearn.base import clone\n",
    "from sklearn.model_selection import train_test_split\n",
    "from sklearn.ensemble import GradientBoostingClassifier\n",
    "from sklearn.metrics import confusion_matrix, accuracy_score, precision_score, recall_score, f1_score, classification_report\n",
    "warnings.filterwarnings(\"ignore\")\n",
    "from sklearn.model_selection import train_test_split\n",
    "from sklearn.ensemble import AdaBoostClassifier\n",
    "from sklearn.metrics import confusion_matrix, accuracy_score, precision_score, recall_score, f1_score, classification_report\n",
    "from sklearn.model_selection import GridSearchCV\n",
    "\n",
    "from sklearn.metrics import silhouette_score, silhouette_samples\n",
    "\n",
    "# for better resolution plots\n",
    "%config InlineBackend.figure_format = 'retina' # optionally, you can change 'svg' to 'retina'\n",
    "\n",
    "%matplotlib inline"
   ]
  },
  {
   "cell_type": "markdown",
   "metadata": {
    "heading_collapsed": true,
    "id": "prQnd6sYdDY7"
   },
   "source": [
    "##### Functions"
   ]
  },
  {
   "cell_type": "code",
   "execution_count": null,
   "metadata": {
    "ExecuteTime": {
     "end_time": "2020-11-23T19:37:30.480012Z",
     "start_time": "2020-11-23T19:37:30.452085Z"
    },
    "executionInfo": {
     "elapsed": 23877,
     "status": "ok",
     "timestamp": 1609782334747,
     "user": {
      "displayName": "",
      "photoUrl": "",
      "userId": ""
     },
     "user_tz": 0
    },
    "hidden": true,
    "id": "GHVYjAe3dDY7"
   },
   "outputs": [],
   "source": [
    "def empty_space_Value_to_binary(df, column, value):\n",
    "    '''\n",
    "    This function turns a binary variable with values ' ' or any given string in to 0 or 1\n",
    "    It needs as input the dataframe, the column name and the string symbolizing 1\n",
    "    (column name and value needs to be between '')\n",
    "    '''\n",
    "    df[column] = df[column].map(lambda x: 1 if x == value else 0 if (x == ' ') else x)\n",
    "\n",
    "def from_object_to_datetime(df, column):\n",
    "    \n",
    "    df[column] = pd.to_datetime(df[column], infer_datetime_format=True)\n",
    "\n",
    "def x_to_bin(df, column): #from sim/nao to binary values\n",
    "    \n",
    "    df[column] = df[column].map(lambda x: 1 if x == 'X' else 0)\n",
    "    \n",
    "def gender_treatment(df, column): #os valores de U (unknown) e todos os outros valores que n tinham significado algum, vamos por como np.nan\n",
    " \n",
    "    df[column] = df[column].replace(['A', 'U', 'C', ' '], np.nan)\n",
    "\n",
    "def pandas_profiling(df, title):\n",
    "    \n",
    "    profile = ProfileReport(df,\n",
    "                           title = title,\n",
    "                           correlations = {'pearson' : {'calculate' : True},\n",
    "                                          'spearman' : {'calculate' : False},\n",
    "                                          'kendall' : {'calculate' : False},\n",
    "                                          'phi_k' : {'calculate' : False},\n",
    "                                          'cramers' : {'calculate' : False}})\n",
    "    return profile.to_notebook_iframe()\n",
    "\n",
    "def pandas_profiling_minimal(df, title):\n",
    "    \n",
    "    profile = ProfileReport(df,\n",
    "                           title = title,\n",
    "                           minimal = True)\n",
    "    return profile.to_notebook_iframe()\n",
    "    \n",
    "def pandas_profiling_binary(df, title):\n",
    "    \n",
    "    profile = ProfileReport(df,\n",
    "                           title = title,\n",
    "                           correlations = {'pearson' : {'calculate' : False},\n",
    "                                          'spearman' : {'calculate' : True},\n",
    "                                          'kendall' : {'calculate' : False},\n",
    "                                          'phi_k' : {'calculate' : False},\n",
    "                                          'cramers' : {'calculate' : False}})\n",
    "    return profile.to_notebook_iframe()\n",
    "\n",
    "def hist_box_maker(df,titl, num_of_rows, figx, figy):\n",
    "    %matplotlib inline\n",
    "    fig, axes = plt.subplots(num_of_rows, ceil((len(df.columns)*2)/num_of_rows), figsize=(figx, figy))\n",
    "    temp = (list(df.columns)*2)\n",
    "    temp.sort()\n",
    "    # Plot data\n",
    "    # Iterate across axes objects and associate each histogram (hint: use the ax.hist() instead of plt.hist()):\n",
    "    i = 0 \n",
    "    for ax, feat in zip(axes.flatten(), temp):\n",
    "        \n",
    "        if i%2 == 0:\n",
    "            ax.hist(df[feat], bins = 100)\n",
    "            ax.set_title(feat, y=-0.13)\n",
    "            pltiswork=feat\n",
    "            \n",
    "        else:\n",
    "            sns.boxplot(x=df[pltiswork], ax = ax)\n",
    "        \n",
    "        i+=1\n",
    "            \n",
    "    # Layout\n",
    "    # Add a centered title to the figure:\n",
    "    title = titl\n",
    "\n",
    "    plt.suptitle(title)\n",
    "\n",
    "    plt.show()# All Numeric Variables' Box Plots in one figure\n",
    "    \n",
    "def iqr_X(df, X): #Compute IQR\n",
    "\n",
    "    q1 = df.quantile(.25)\n",
    "    q3 = df.quantile(.75)\n",
    "\n",
    "    iqr = (q3 - q1)\n",
    "\n",
    "    #Compute upper and lower limits\n",
    "    lower_lim = q1 - X * iqr\n",
    "    upper_lim = q3 + X * iqr\n",
    "\n",
    "    filters = []\n",
    "\n",
    "    for metric in df.columns:\n",
    "        llim = lower_lim[metric]\n",
    "        ulim = upper_lim[metric]\n",
    "        filters.append(df[metric].between(llim, ulim, inclusive = True))\n",
    "    \n",
    "    return np.all(filters, 0)\n",
    "\n",
    "def ohe(df, column_list):\n",
    "    ohc = OneHotEncoder(sparse = False)\n",
    "    ohc_feat = ohc.fit_transform(df[column_list])\n",
    "    ohc_feat_names = ohc.get_feature_names()\n",
    "    ohc_df = pd.DataFrame(ohc_feat, index = df.index, columns = ohc_feat_names)\n",
    "    return ohc_df\n",
    "\n",
    "def missing_zero_values_table(df):\n",
    "        zero_val = (df == 0.00).astype(int).sum(axis=0)\n",
    "        mis_val = df.isnull().sum()\n",
    "        mis_val_percent = 100 * df.isnull().sum() / len(df)\n",
    "        mz_table = pd.concat([zero_val, mis_val, mis_val_percent], axis=1)\n",
    "        mz_table = mz_table.rename(\n",
    "        columns = {0 : 'Zero Values', 1 : 'Missing Values', 2 : '% of Total Values'})\n",
    "        mz_table['Total Zero Missing Values'] = mz_table['Zero Values'] + mz_table['Missing Values']\n",
    "        mz_table['% Total Zero Missing Values'] = 100 * mz_table['Total Zero Missing Values'] / len(df)\n",
    "        mz_table['Data Type'] = df.dtypes\n",
    "        mz_table = mz_table[\n",
    "            mz_table.iloc[:,1] != 0].sort_values(\n",
    "        '% of Total Values', ascending=False).round(1)\n",
    "        print (\"Your selected dataframe has \" + str(df.shape[1]) + \" columns and \" + str(df.shape[0]) + \" Rows.\\n\"      \n",
    "            \"There are \" + str(mz_table.shape[0]) +\n",
    "              \" columns that have missing values.\")\n",
    "#         mz_table.to_excel('D:/sampledata/missing_and_zero_values.xlsx', freeze_panes=(1,0), index = False)\n",
    "        return mz_table\n",
    "\n",
    "def corr_df(x, corr_val):\n",
    "    '''\n",
    "    Obj: Drops features that are strongly correlated to other features.\n",
    "          This lowers model complexity, and aids in generalizing the model.\n",
    "    Inputs:\n",
    "          df: features df (x)\n",
    "          corr_val: Columns are dropped relative to the corr_val input (e.g. 0.8)\n",
    "    Output: df that only includes uncorrelated features\n",
    "    '''\n",
    "    \n",
    "    # Creates Correlation Matrix and Instantiates\n",
    "    corr_matrix = x.corr()\n",
    "    iters = range(len(corr_matrix.columns) - 1)\n",
    "    drop_cols = []\n",
    "\n",
    "    # Iterates through Correlation Matrix Table to find correlated columns\n",
    "    for i in iters:\n",
    "        for j in range(i):\n",
    "            item = corr_matrix.iloc[j:(j+1), (i+1):(i+2)]\n",
    "            col = item.columns\n",
    "            row = item.index\n",
    "            val = item.values\n",
    "            if abs(val) >= corr_val:\n",
    "                # Prints the correlated feature set and the corr val\n",
    "                print(col.values[0], \"|\", row.values[0], \"|\", round(val[0][0], 2))\n",
    "                drop_cols.append(i)\n",
    "\n",
    "    drops = sorted(set(drop_cols))[::-1]\n",
    "\n",
    "    # Drops the correlated columns\n",
    "    for i in drops:\n",
    "        col = x.iloc[:, (i+1):(i+2)].columns.values\n",
    "        x = x.drop(col, axis=1)\n",
    "    return x\n",
    "\n",
    "\n",
    "def hierarchical_ontop_of_kmeans1(df):\n",
    "    %matplotlib inline\n",
    "    kmeans = KMeans(n_clusters = 200, init = 'k-means++', n_init = 10, random_state = 42, n_jobs = -1)\n",
    "    kmeans.fit(df)\n",
    "    #Saving the labls\n",
    "    centroids_descript = df.copy()\n",
    "    centroids_descript['labels'] = kmeans.predict(df)\n",
    "    #kmeans_labels = kmeans.predict(df)\n",
    "    #Getting the centroid values for each column\n",
    "    #centroids_descript = pd.concat((df, pd.Series(kmeans_labels, name='labels')), axis=1)\n",
    "    centroids_descript = centroids_descript.groupby('labels').mean()\n",
    "    def get_r2_hc(df, link_method, max_nclus, min_nclus=1, dist=\"euclidean\"):\n",
    "        \"\"\"This function computes the R2 for a set of cluster solutions given by the application of a hierarchical method.\n",
    "        The R2 is a measure of the homogenity of a cluster solution. It is based on SSt = SSw + SSb and R2 = SSb/SSt. \n",
    "    \n",
    "        Parameters:\n",
    "        df (DataFrame): Dataset to apply clustering\n",
    "        link_method (str): either \"ward\", \"complete\", \"average\", \"single\"\n",
    "        max_nclus (int): maximum number of clusters to compare the methods\n",
    "        min_nclus (int): minimum number of clusters to compare the methods. Defaults to 1.\n",
    "        dist (str): distance to use to compute the clustering solution. Must be a valid distance. Defaults to \"euclidean\".\n",
    "    \n",
    "        Returns:\n",
    "        ndarray: R2 values for the range of cluster solutions\n",
    "        \"\"\"\n",
    "        def get_ss(df):\n",
    "            ss = np.sum(df.var() * (df.count() - 1))\n",
    "            return ss  # return sum of sum of squares of each df variable\n",
    "    \n",
    "        sst = get_ss(df)  # get total sum of squares\n",
    "    \n",
    "        r2 = []  # where we will store the R2 metrics for each cluster solution\n",
    "    \n",
    "        for i in range(min_nclus, max_nclus+1):  # iterate over desired ncluster range\n",
    "            cluster = AgglomerativeClustering(n_clusters=i, affinity=dist, linkage=link_method)\n",
    "            hclabels = cluster.fit_predict(df) #get cluster labels\n",
    "            df_concat = pd.concat((df, pd.Series(hclabels, name='labels')), axis=1)  # concat df with labels\n",
    "            ssw_labels = df_concat.groupby(by='labels').apply(get_ss)  # compute ssw for each cluster labels\n",
    "            ssb = sst - np.sum(ssw_labels)  # remember: SST = SSW + SSB\n",
    "            r2.append(ssb / sst)  # save the R2 of the given cluster solution\n",
    "        \n",
    "        return np.array(r2)\n",
    "    # Prepare input\n",
    "    hc_methods = [\"ward\", \"complete\", \"average\", \"single\"]\n",
    "    # Call function defined above to obtain the R2 statistic for each hc_method\n",
    "    max_nclus = 20\n",
    "    r2_hc_methods = np.vstack([get_r2_hc(df=centroids_descript, link_method=link, max_nclus=max_nclus) for link in hc_methods]).T\n",
    "    r2_hc_methods = pd.DataFrame(r2_hc_methods, index=range(1, max_nclus + 1), columns=hc_methods)\n",
    "\n",
    "    sns.set()\n",
    "    # Plot data\n",
    "    fig = plt.figure(figsize=(11,5))\n",
    "    sns.lineplot(data=r2_hc_methods, linewidth=2.5, markers=[\"o\"]*4)\n",
    "\n",
    "    # Finalize the plot\n",
    "    fig.suptitle(\"R2 plot for various hierarchical methods\", fontsize=21)\n",
    "    plt.gca().invert_xaxis()  # invert x axis\n",
    "    plt.legend(title=\"HC methods\", title_fontsize=11)\n",
    "    plt.xticks(range(1, max_nclus + 1))\n",
    "    plt.xlabel(\"Number of clusters\", fontsize=13)\n",
    "    plt.ylabel(\"R2 metric\", fontsize=13)\n",
    "\n",
    "    plt.show()\n",
    "\n",
    "def hierarchical_ontop_of_kmeans2(df, linkage):\n",
    "    %matplotlib inline\n",
    "    kmeans = KMeans(n_clusters = 200, init = 'k-means++', n_init = 10, random_state = 42, n_jobs = -1)\n",
    "    kmeans.fit(df)\n",
    "    #Saving the labls\n",
    "    original_data = df.copy()\n",
    "    original_data['labels'] = kmeans.predict(df)\n",
    "    #kmeans_labels = kmeans.predict(df)\n",
    "    #Getting the centroid values for each column\n",
    "    #centroids_descript = pd.concat((df, pd.Series(kmeans_labels, name='labels')), axis=1)\n",
    "    centroids_descript = original_data.groupby('labels').mean()\n",
    "    distance = 'euclidean'\n",
    "    hclust1 = AgglomerativeClustering(linkage=linkage, affinity='euclidean', distance_threshold=0, n_clusters=None)\n",
    "    hclust1.fit_predict(centroids_descript)\n",
    "    # Adapted from:\n",
    "    # https://scikit-learn.org/stable/auto_examples/cluster/plot_agglomerative_dendrogram.html#sphx-glr-auto-examples-cluster-plot-agglomerative-dendrogram-py\n",
    "\n",
    "    # create the counts of samples under each node (number of points being merged)\n",
    "    counts = np.zeros(hclust1.children_.shape[0])\n",
    "    n_samples = len(hclust1.labels_)\n",
    "\n",
    "    # hclust.children_ contains the observation ids that are being merged together\n",
    "    # At the i-th iteration, children[i][0] and children[i][1] are merged to form node n_samples + i\n",
    "    for i, merge in enumerate(hclust1.children_):\n",
    "        # track the number of observations in the current cluster being formed\n",
    "        current_count = 0\n",
    "        for child_idx in merge:\n",
    "            if child_idx < n_samples:\n",
    "                # If this is True, then we are merging an observation\n",
    "                current_count += 1  # leaf node\n",
    "            else:\n",
    "                # Otherwise, we are merging a previously formed cluster\n",
    "                current_count += counts[child_idx - n_samples]\n",
    "        counts[i] = current_count\n",
    "\n",
    "    # the hclust.children_ is used to indicate the two points/clusters being merged (dendrogram's u-joins)\n",
    "    # the hclust.distances_ indicates the distance between the two points/clusters (height of the u-joins)\n",
    "    # the counts indicate the number of points being merged (dendrogram's x-axis)\n",
    "    linkage_matrix = np.column_stack(\n",
    "        [hclust1.children_, hclust1.distances_, counts]\n",
    "    ).astype(float)\n",
    "\n",
    "    # Plot the corresponding dendrogram\n",
    "    sns.set()\n",
    "    fig = plt.figure(figsize=(11,5))\n",
    "    # The Dendrogram parameters need to be tuned\n",
    "    y_threshold = 100\n",
    "    dendrogram(linkage_matrix, truncate_mode='level', p=5, color_threshold=y_threshold, above_threshold_color='k')\n",
    "    plt.title(f'Hierarchical Clustering - {linkage.title()}\\'s Dendrogram', fontsize=21)\n",
    "    plt.xlabel('Number of points in node (or index of point if no parenthesis)')\n",
    "    plt.ylabel(f'{distance.title()} Distance', fontsize=13)\n",
    "    plt.show()\n",
    "\n",
    "    return centroids_descript, original_data\n",
    "    \n",
    "def kmeans(df, numclust):\n",
    "    df_with_labels = df.copy()\n",
    "    #Defining the KMeans model\n",
    "    kmeans = KMeans(n_clusters = numclust, init = 'k-means++', n_init = 10, random_state = 42, n_jobs = -1)\n",
    "    #Fitting it to the data\n",
    "    kmeans.fit(df)\n",
    "    #Saving the labels\n",
    "    df_with_labels['Labels'] = kmeans.predict(df)\n",
    "    #Getting the centroid values for each column\n",
    "    clust_descript = df_with_labels.groupby('Labels').mean()\n",
    "    return df_with_labels, clust_descript\n",
    "\n",
    "\n",
    "def pca_1(df, columns):\n",
    "\n",
    "    #Define, fit and transform pca\n",
    "    pca = PCA()\n",
    "    pca_feat = pca.fit_transform(df[columns])\n",
    "\n",
    "    #PCA Table\n",
    "    print(pd.DataFrame(\n",
    "        {\"Eigenvalue\": pca.explained_variance_,\n",
    "        \"Difference\": np.insert(np.diff(pca.explained_variance_), 0, 0),\n",
    "        \"Proportion\": pca.explained_variance_ratio_,\n",
    "        \"Cumulative\": np.cumsum(pca.explained_variance_ratio_)},\n",
    "        index=range(1, pca.n_components_ + 1)\n",
    "    ))\n",
    "\n",
    "    #Plot elbow graph\n",
    "    %matplotlib inline\n",
    "    # figure and axes\n",
    "    fig, (ax1, ax2) = plt.subplots(1, 2, figsize=(15, 5))\n",
    "\n",
    "    # draw plots\n",
    "    ax1.plot(pca.explained_variance_, marker=\".\", markersize=12)\n",
    "    ax2.plot(pca.explained_variance_ratio_, marker=\".\", markersize=12, label=\"Proportion\")\n",
    "    ax2.plot(np.cumsum(pca.explained_variance_ratio_), marker=\".\", markersize=12, linestyle=\"--\", label=\"Cumulative\")\n",
    "\n",
    "    # customizations\n",
    "    ax2.legend()\n",
    "    ax1.set_title(\"Scree Plot\", fontsize=14)\n",
    "    ax2.set_title(\"Variance Explained\", fontsize=14)\n",
    "    ax1.set_ylabel(\"Eigenvalue\")\n",
    "    ax2.set_ylabel(\"Proportion\")\n",
    "    ax1.set_xlabel(\"Components\")\n",
    "    ax2.set_xlabel(\"Components\")\n",
    "    ax1.set_xticks(range(0, pca.n_components_, 2))\n",
    "    ax1.set_xticklabels(range(1, pca.n_components_ + 1, 2))\n",
    "    ax2.set_xticks(range(0, pca.n_components_, 2))\n",
    "    ax2.set_xticklabels(range(1, pca.n_components_ + 1, 2))\n",
    "\n",
    "    plt.show()\n",
    "\n",
    "def pca_2(df, columns, n):\n",
    "\n",
    "    #Compute PC with the \"correct\" number of components\n",
    "    pca = PCA(n_components=n)\n",
    "    pca_feat = pca.fit_transform(df[columns])\n",
    "    pca_feat_names = [f\"PC{i}\" for i in range(pca.n_components_)]\n",
    "    pca_df = pd.DataFrame(pca_feat, index=df.index, columns=pca_feat_names)\n",
    "\n",
    "    #Standardize the PC's\n",
    "    scaler = StandardScaler()\n",
    "    pca_df[pca_df.columns.to_list()] = scaler.fit_transform(pca_df)\n",
    "\n",
    "    # Reassigning df to contain pca variables\n",
    "    df = pd.concat([df, pca_df], axis=1)\n",
    "\n",
    "    def _color_red_or_green(val):\n",
    "        if val < -0.45:\n",
    "            color = 'background-color: red'\n",
    "        elif val > 0.45:\n",
    "            color = 'background-color: green'\n",
    "        else:\n",
    "            color = ''\n",
    "        return color\n",
    "    #Loadings of each PC\n",
    "    loadings = df[columns + pca_feat_names].corr().loc[columns, pca_feat_names]\n",
    "    return loadings.style.applymap(_color_red_or_green)\n",
    "\n",
    "\n",
    "def pca_3(df, columns, n):\n",
    "\n",
    "    #Compute PC with the \"correct\" number of components\n",
    "    pca = PCA(n_components=n)\n",
    "    pc_feat = pca.fit(df[columns])\n",
    "    pca_feat = pc_feat.transform(df[columns])\n",
    "    pca_feat_names = [f\"PC{i}\" for i in range(pca.n_components_)]\n",
    "    pca_df = pd.DataFrame(pca_feat, index=df.index, columns=pca_feat_names)\n",
    "\n",
    "    #Standardize the PC's\n",
    "    scaler = StandardScaler()\n",
    "    pca_df[pca_df.columns.to_list()] = scaler.fit_transform(pca_df)\n",
    "\n",
    "    # Reassigning df to contain pca variables\n",
    "    df = pd.concat([df, pca_df], axis=1)\n",
    "    return df, pc_feat\n",
    "\n",
    "\n",
    "\n",
    "def k_means_som(model,num_clust,x_map,y_map):\n",
    "      kmeans = KMeans(n_clusters=num_clust, init='k-means++', n_init=20, random_state=42)\n",
    "      nodeclus_labels = model.cluster(kmeans)\n",
    "\n",
    "      hits  = HitMapView(x_map, y_map,\"Clustering\", text_size=10)\n",
    "      hits.show(sm, anotate=True, onlyzeros=False, labelsize=7, cmap=\"Pastel1\")\n",
    "\n",
    "      plt.show()\n",
    "      return nodeclus_labels\n",
    "\n",
    "def SOM_1(df,x,y):\n",
    "    np.random.seed(42)\n",
    "    sm = sompy.SOMFactory().build(\n",
    "        df.values, \n",
    "        mapsize=(x, y),\n",
    "        initialization='random', \n",
    "        neighborhood='gaussian',\n",
    "        training='batch',\n",
    "        lattice='hexa',\n",
    "        component_names=df.columns.to_list()\n",
    "    )\n",
    "    sm.train(n_job=-1, verbose='info', train_rough_len=100, train_finetune_len=100)\n",
    "    sns.set()\n",
    "    view2D = View2D(12,12,\"\", text_size=10)\n",
    "    view2D.show(sm, col_sz=3, what='codebook')\n",
    "    plt.subplots_adjust(top=0.90)\n",
    "    plt.suptitle(\"Component Planes\", fontsize=20)\n",
    "    plt.show()\n",
    "    \n",
    "    u = sompy.umatrix.UMatrixView(12, 12, 'umatrix', show_axis=True, text_size=8, show_text=True)\n",
    "\n",
    "    UMAT = u.show(\n",
    "        sm, \n",
    "        distance2=1, \n",
    "        row_normalized=False, \n",
    "        show_data=True, \n",
    "        contooor=True, # Visualize isomorphic curves\n",
    "        blob=False\n",
    "    )\n",
    "\n",
    "    UMAT[1]\n",
    "    vhts  = BmuHitsView(12,12,\"Hits Map\")\n",
    "    vhts.show(sm, anotate=True, onlyzeros=False, labelsize=12, cmap=\"Blues\")\n",
    "    plt.show()\n",
    "    return sm\n",
    "\n",
    "def SOM_Hiera_elbow(df,SOM_model):\n",
    "      u = sompy.umatrix.UMatrixView(12, 12, 'umatrix', show_axis=True, text_size=8, show_text=True)\n",
    "\n",
    "      UMAT = u.show(\n",
    "          SOM_model, \n",
    "          distance2=1, \n",
    "          row_normalized=False, \n",
    "          show_data=False, \n",
    "          contooor=True # Visualize isomorphic curves\n",
    "      )\n",
    "      distortions = []\n",
    "      for k in range(1, 10):\n",
    "          kmeanModel = KMeans(n_clusters=k).fit(df)\n",
    "          distortions.append(kmeanModel.inertia_)\n",
    "\n",
    "      plt.figure(figsize=(16,8))\n",
    "      plt.plot(range(1, 10), distortions, 'bx-')\n",
    "      plt.xlabel('k')\n",
    "      plt.ylabel('Distortions')\n",
    "      plt.title('Dendogram RFM Analysis (All Variables)')\n",
    "      plt.show()\n",
    "\n",
    "def full_elbow(df):\n",
    "\n",
    "    kmeans = KMeans(\n",
    "        init='k-means++',\n",
    "        n_init=5,\n",
    "        random_state=42\n",
    "    )\n",
    "\n",
    "    hierarchical = AgglomerativeClustering(\n",
    "        affinity='euclidean'\n",
    "    )\n",
    "\n",
    "    # Obtaining the R² scores for each cluster solution on demographic variables\n",
    "    r2_scores = {}\n",
    "    r2_scores['kmeans'] = get_r2_scores(df, kmeans)\n",
    "\n",
    "    for linkage in ['complete', 'average', 'single', 'ward']:\n",
    "        r2_scores[linkage] = get_r2_scores(\n",
    "            df, hierarchical.set_params(linkage=linkage)\n",
    "        )\n",
    "\n",
    "    # Visualizing the R² scores for each cluster solution on demographic variables\n",
    "    pd.DataFrame(r2_scores).plot.line(figsize=(10,7))\n",
    "\n",
    "    plt.title(\"Demographic Variables:\\nR² plot for various clustering methods\\n\", fontsize=21)\n",
    "    plt.legend(title=\"Cluster methods\", title_fontsize=11)\n",
    "    plt.xlabel(\"Number of clusters\", fontsize=13)\n",
    "    plt.ylabel(\"R² metric\", fontsize=13)\n",
    "    plt.show()\n",
    "\n",
    "def hopkins(X):\n",
    "    d = X.shape[1]\n",
    "    #d = len(vars) # columns\n",
    "    n = len(X) # rows\n",
    "    m = int(0.1 * n) \n",
    "    nbrs = NearestNeighbors(n_neighbors=1).fit(X.values)\n",
    " \n",
    "    rand_X = sample(range(0, n, 1), m)\n",
    " \n",
    "    ujd = []\n",
    "    wjd = []\n",
    "    for j in range(0, m):\n",
    "        u_dist, _ = nbrs.kneighbors(uniform(np.amin(X,axis=0),np.amax(X,axis=0),d).reshape(1, -1), 2, return_distance=True)\n",
    "        ujd.append(u_dist[0][1])\n",
    "        w_dist, _ = nbrs.kneighbors(X.iloc[rand_X[j]].values.reshape(1, -1), 2, return_distance=True)\n",
    "        wjd.append(w_dist[0][1])\n",
    " \n",
    "    H = sum(ujd) / (sum(ujd) + sum(wjd))\n",
    "    if isnan(H):\n",
    "        print(ujd, wjd)\n",
    "        H = 0\n",
    " \n",
    "    return H\n",
    "\n",
    "def RClass(x,p,d):\n",
    "    if x <= d[p][0.25]:\n",
    "        return 1\n",
    "    elif x <= d[p][0.50]:\n",
    "        return 2\n",
    "    elif x <= d[p][0.75]: \n",
    "        return 3\n",
    "    else:\n",
    "        return 4\n",
    "    \n",
    "## for Frequency and Monetary value \n",
    "\n",
    "def FMClass(x,p,d):\n",
    "    if x <= d[p][0.25]:\n",
    "        return 4\n",
    "    elif x <= d[p][0.50]:\n",
    "        return 3\n",
    "    elif x <= d[p][0.75]: \n",
    "        return 2\n",
    "    else:\n",
    "        return 1    \n",
    "\n",
    "def avg_silhouette_graph(df):\n",
    "\n",
    "    # Adapted from:\n",
    "    # https://scikit-learn.org/stable/auto_examples/cluster/plot_kmeans_silhouette_analysis.html#sphx-glr-auto-examples-cluster-plot-kmeans-silhouette-analysis-py\n",
    "\n",
    "    # Storing average silhouette metric\n",
    "    avg_silhouette = []\n",
    "    for nclus in range(1, 10):\n",
    "        # Skip nclus == 1\n",
    "        if nclus == 1:\n",
    "            continue\n",
    "        \n",
    "\n",
    "        # Initialize the KMeans object with n_clusters value and a random generator\n",
    "        # seed of 10 for reproducibility.\n",
    "        kmclust = KMeans(n_clusters=nclus, init='k-means++', n_init=5, random_state=42)\n",
    "        cluster_labels = kmclust.fit_predict(df)\n",
    "\n",
    "        # The silhouette_score gives the average value for all the samples.\n",
    "        # This gives a perspective into the density and separation of the formed clusters\n",
    "        silhouette_avg = silhouette_score(df, cluster_labels)\n",
    "        avg_silhouette.append(silhouette_avg)\n",
    "        print(f\"For n_clusters = {nclus}, the average silhouette_score is : {silhouette_avg}\")\n",
    "\n",
    "        # The average silhouette plot\n",
    "    # The inertia plot\n",
    "    plt.figure(figsize=(9,5))\n",
    "    plt.plot(avg_silhouette)\n",
    "    plt.ylabel(\"Average silhouette\")\n",
    "    plt.xlabel(\"Number of clusters\")\n",
    "    plt.title(\"Average silhouette plot over clusters\", size=15)\n",
    "    plt.show()\n",
    "\n",
    "\n",
    "def get_ss(df):\n",
    "    \"\"\"Computes the sum of squares for all variables given a dataset\n",
    "    \"\"\"\n",
    "    ss = np.sum(df.var() * (df.count() - 1))\n",
    "    return ss  # return sum of sum of squares of each df variable\n",
    "\n",
    "def r2(df, labels):  \n",
    "    sst = get_ss(df)\n",
    "    ssw = np.sum(df.groupby(labels).apply(get_ss))\n",
    "    return 1 - ssw/sst\n",
    "\n",
    "def get_r2_scores(df, clusterer, min_k=2, max_k=10):\n",
    "    \"\"\"\n",
    "    Loop over different values of k. To be used with sklearn clusterers.\n",
    "    \"\"\"\n",
    "    r2_clust = {}\n",
    "    for n in range(min_k, max_k):\n",
    "        clust = clone(clusterer).set_params(n_clusters=n) #By using clone we don't have to initialize a new instance \n",
    "        #every time, as long as it is an sklearn object it can be cloned, it doesn't mater if it a kmeans or \n",
    "        #hierarchical, for example\n",
    "        labels = clust.fit_predict(df)\n",
    "        r2_clust[n] = r2(df, labels)\n",
    "    return r2_clust\n",
    "\n",
    "def SOM_Labeler(df,model,k_som):\n",
    "    nodes = model.get_node_vectors()\n",
    "\n",
    "    df_nodes = pd.DataFrame(nodes, columns=df.columns.to_list())\n",
    "    df_nodes['label'] = k_som\n",
    "\n",
    "    bmus_map = model.find_bmu(df[df.columns.to_list()])[0]  # get bmus for each observation in df\n",
    "\n",
    "    df_bmus = pd.DataFrame(\n",
    "        np.concatenate((df, np.expand_dims(bmus_map,1)), axis=1),\n",
    "        index=df.index, columns=np.append(df.columns,\"BMU\")\n",
    "    )\n",
    "    df_final = df_bmus.merge(df_nodes['label'], 'left', left_on=\"BMU\", right_index=True)\n",
    "\n",
    "    df_final_centroids=df_final.drop(columns='BMU').groupby('label').mean()\n",
    "    return df_final,df_final_centroids\n",
    "\n",
    "def silhouette_graph(df, nclus):\n",
    "\n",
    "    # Adapted from:\n",
    "    # https://scikit-learn.org/stable/auto_examples/cluster/plot_kmeans_silhouette_analysis.html#sphx-glr-auto-examples-cluster-plot-kmeans-silhouette-analysis-py\n",
    "\n",
    "    # Storing average silhouette metric\n",
    "    avg_silhouette = []\n",
    "\n",
    "    # Create a figure\n",
    "    fig = plt.figure(figsize=(13, 7))\n",
    "\n",
    "    # Initialize the KMeans object with n_clusters value and a random generator\n",
    "    # seed of 10 for reproducibility.\n",
    "    kmclust = KMeans(n_clusters=nclus, init='k-means++', n_init=5, random_state=42)\n",
    "    cluster_labels = kmclust.fit_predict(df)\n",
    "\n",
    "    # The silhouette_score gives the average value for all the samples.\n",
    "    # This gives a perspective into the density and separation of the formed clusters\n",
    "    silhouette_avg = silhouette_score(df, cluster_labels)\n",
    "    avg_silhouette.append(silhouette_avg)\n",
    "    print(f\"For n_clusters = {nclus}, the average silhouette_score is : {silhouette_avg}\")\n",
    "\n",
    "    # Compute the silhouette scores for each sample\n",
    "    sample_silhouette_values = silhouette_samples(df, cluster_labels)\n",
    "\n",
    "    y_lower = 10\n",
    "    for i in range(nclus):\n",
    "        # Aggregate the silhouette scores for samples belonging to cluster i, and sort them\n",
    "        ith_cluster_silhouette_values = sample_silhouette_values[cluster_labels == i]\n",
    "        ith_cluster_silhouette_values.sort()\n",
    "            \n",
    "        # Get y_upper to demarcate silhouette y range size\n",
    "        size_cluster_i = ith_cluster_silhouette_values.shape[0]\n",
    "        y_upper = y_lower + size_cluster_i\n",
    "            \n",
    "        # Filling the silhouette\n",
    "        color = cm.nipy_spectral(float(i) / nclus)\n",
    "        plt.fill_betweenx(np.arange(y_lower, y_upper),\n",
    "                          0, ith_cluster_silhouette_values,\n",
    "                          facecolor=color, edgecolor=color, alpha=0.7)\n",
    "\n",
    "        # Label the silhouette plots with their cluster numbers at the middle\n",
    "        plt.text(-0.05, y_lower + 0.5 * size_cluster_i, str(i))\n",
    "\n",
    "        # Compute the new y_lower for next plot\n",
    "        y_lower = y_upper + 10  # 10 for the 0 samples\n",
    "\n",
    "    plt.title(\"The silhouette plot for the various clusters.\")\n",
    "    plt.xlabel(\"The silhouette coefficient values\")\n",
    "    plt.ylabel(\"Cluster label\")\n",
    "\n",
    "    # The vertical line for average silhouette score of all the values\n",
    "    plt.axvline(x=silhouette_avg, color=\"red\", linestyle=\"--\")\n",
    "        \n",
    "    # The silhouette coefficient can range from -1, 1\n",
    "    xmin, xmax = np.round(sample_silhouette_values.min() -0.1, 2), np.round(sample_silhouette_values.max() + 0.1, 2)\n",
    "    plt.xlim([xmin, xmax])\n",
    "        \n",
    "    # The (nclus+1)*10 is for inserting blank space between silhouette\n",
    "    # plots of individual clusters, to demarcate them clearly.\n",
    "    plt.ylim([0, len(df) + (nclus + 1) * 10])\n",
    "\n",
    "    plt.yticks([])  # Clear the yaxis labels / ticks\n",
    "    plt.xticks(np.arange(xmin, xmax, 0.1))\n",
    "\n",
    "def k_means_elbow(df, min_clust, max_clust, title):\n",
    "    distortions = []\n",
    "    for k in range(1, 10):\n",
    "        kmeanModel = KMeans(n_clusters=k, init='k-means++', n_init=5, random_state=42).fit(df)\n",
    "        distortions.append(kmeanModel.inertia_)\n",
    "\n",
    "    plt.figure(figsize=(16,8))\n",
    "    plt.plot(range(1, 10), distortions, 'bx-')\n",
    "    plt.xlabel('k')\n",
    "    plt.ylabel('Inertia')\n",
    "    plt.title(title)\n",
    "    plt.show()\n",
    "\n",
    "def hierarchical_elbow(df):\n",
    "    centroids_descript = df.copy()\n",
    "    def get_r2_hc(df, link_method, max_nclus, min_nclus=1, dist=\"euclidean\"):\n",
    "        \"\"\"This function computes the R2 for a set of cluster solutions given by the application of a hierarchical method.\n",
    "        The R2 is a measure of the homogenity of a cluster solution. It is based on SSt = SSw + SSb and R2 = SSb/SSt. \n",
    "    \n",
    "        Parameters:\n",
    "        df (DataFrame): Dataset to apply clustering\n",
    "        link_method (str): either \"ward\", \"complete\", \"average\", \"single\"\n",
    "        max_nclus (int): maximum number of clusters to compare the methods\n",
    "        min_nclus (int): minimum number of clusters to compare the methods. Defaults to 1.\n",
    "        dist (str): distance to use to compute the clustering solution. Must be a valid distance. Defaults to \"euclidean\".\n",
    "    \n",
    "        Returns:\n",
    "        ndarray: R2 values for the range of cluster solutions\n",
    "        \"\"\"\n",
    "        def get_ss(df):\n",
    "            ss = np.sum(df.var() * (df.count() - 1))\n",
    "            return ss  # return sum of sum of squares of each df variable\n",
    "    \n",
    "        sst = get_ss(df)  # get total sum of squares\n",
    "    \n",
    "        r2 = []  # where we will store the R2 metrics for each cluster solution\n",
    "    \n",
    "        for i in range(min_nclus, max_nclus+1):  # iterate over desired ncluster range\n",
    "            cluster = AgglomerativeClustering(n_clusters=i, affinity=dist, linkage=link_method)\n",
    "            hclabels = cluster.fit_predict(df) #get cluster labels\n",
    "            df_concat = pd.concat((df, pd.Series(hclabels, name='labels')), axis=1)  # concat df with labels\n",
    "            ssw_labels = df_concat.groupby(by='labels').apply(get_ss)  # compute ssw for each cluster labels\n",
    "            ssb = sst - np.sum(ssw_labels)  \n",
    "            r2.append(ssb / sst)  \n",
    "        \n",
    "        return np.array(r2)\n",
    "    # Prepare input\n",
    "    hc_methods = [\"ward\", \"complete\", \"average\", \"single\"]\n",
    "    # Call function defined above to obtain the R2 statistic for each hc_method\n",
    "    max_nclus = 20\n",
    "    r2_hc_methods = np.vstack([get_r2_hc(df=centroids_descript, link_method=link, max_nclus=max_nclus) for link in hc_methods]).T\n",
    "    r2_hc_methods = pd.DataFrame(r2_hc_methods, index=range(1, max_nclus + 1), columns=hc_methods)\n",
    "\n",
    "    sns.set()\n",
    "    # Plot data\n",
    "    fig = plt.figure(figsize=(11,5))\n",
    "    sns.lineplot(data=r2_hc_methods, linewidth=2.5, markers=[\"o\"]*4)\n",
    "\n",
    "    # Finalize the plot\n",
    "    fig.suptitle(\"R2 plot for various hierarchical methods\", fontsize=21)\n",
    "    plt.gca().invert_xaxis()  # invert x axis\n",
    "    plt.legend(title=\"HC methods\", title_fontsize=11)\n",
    "    plt.xticks(range(1, max_nclus + 1))\n",
    "    plt.xlabel(\"Number of clusters\", fontsize=13)\n",
    "    plt.ylabel(\"R2 metric\", fontsize=13)\n",
    "\n",
    "    plt.show()\n",
    "\n",
    "def hierarchical(df, numclust, link_method):\n",
    "    df_with_labels = df.copy()\n",
    "    #Defining the KMeans model\n",
    "    hierarchical = AgglomerativeClustering(n_clusters=numclust, affinity='euclidean', linkage=link_method)\n",
    "    #Saving the labels\n",
    "    df_with_labels['Labels'] = hierarchical.fit_predict(df)\n",
    "    #Getting the centroid values for each column\n",
    "    clust_descript = df_with_labels.groupby('Labels').mean()\n",
    "    return df_with_labels, clust_descript\n",
    "\n",
    "def hierarchical_som(model,num_clust,x_map,y_map):\n",
    "      hierclust = AgglomerativeClustering(n_clusters=num_clust, linkage='ward')\n",
    "      nodeclus_labels = sm.cluster(hierclust)\n",
    "\n",
    "      hits  = HitMapView(x_map, y_map,\"Clustering\",text_size=10)\n",
    "      hits.show(sm, anotate=True, onlyzeros=False, labelsize=7, cmap=\"Pastel1\")\n",
    "\n",
    "      plt.show()\n",
    "      return nodeclus_labels\n",
    "\n",
    "def SOM_Labeler(df,model,k_som):\n",
    "    nodes = model.get_node_vectors()\n",
    "\n",
    "    df_nodes = pd.DataFrame(nodes, columns=df.columns.to_list())\n",
    "    df_nodes['label'] = k_som\n",
    "\n",
    "    bmus_map = model.find_bmu(df[df.columns.to_list()])[0]  # get bmus for each observation in df\n",
    "\n",
    "    df_bmus = pd.DataFrame(\n",
    "        np.concatenate((df, np.expand_dims(bmus_map,1)), axis=1),\n",
    "        index=df.index, columns=np.append(df.columns,\"BMU\")\n",
    "    )\n",
    "    df_final = df_bmus.merge(df_nodes['label'], 'left', left_on=\"BMU\", right_index=True)\n",
    "\n",
    "    df_final_centroids=df_final.drop(columns='BMU').groupby('label').mean()\n",
    "    return df_final,df_final_centroids\n",
    "\n",
    "def cluster_profiles(df, label_columns, figsize, compar_titles=None):\n",
    "    \"\"\"\n",
    "    Pass df with labels columns of one or multiple clustering labels. \n",
    "    Then specify this label columns to perform the cluster profile according to them.\n",
    "    \"\"\"\n",
    "    if compar_titles == None:\n",
    "        compar_titles = [\"\"]*len(label_columns)\n",
    "        \n",
    "    sns.set()\n",
    "    fig, axes = plt.subplots(nrows=len(label_columns), ncols=2, figsize=figsize, squeeze=False)\n",
    "    for ax, label, titl in zip(axes, label_columns, compar_titles):\n",
    "        # Filtering df\n",
    "        drop_cols = [i for i in label_columns if i!=label]\n",
    "        dfax = df.drop(drop_cols, axis=1)\n",
    "        \n",
    "        # Getting the cluster centroids and counts\n",
    "        centroids = dfax.groupby(by=label, as_index=False).mean()\n",
    "        counts = dfax.groupby(by=label, as_index=False).count().iloc[:,[0,1]]\n",
    "        counts.columns = [label, \"counts\"]\n",
    "        \n",
    "        # Setting Data\n",
    "        pd.plotting.parallel_coordinates(centroids, label, color=sns.color_palette(), ax=ax[0])\n",
    "        sns.barplot(x=label, y=\"counts\", data=counts, ax=ax[1])\n",
    "\n",
    "        #Setting Layout\n",
    "        handles, _ = ax[0].get_legend_handles_labels()\n",
    "        cluster_labels = [\"Cluster {}\".format(i) for i in range(1, len(handles)+1)]\n",
    "        ax[0].annotate(s=titl, xy=(0.95,1.1), xycoords='axes fraction', fontsize=13, fontweight = 'heavy') \n",
    "        ax[0].legend(handles, cluster_labels) # Adaptable to number of clusters\n",
    "        ax[0].axhline(color=\"black\", linestyle=\"--\")\n",
    "        ax[0].set_title(\"Cluster Means - {} Clusters\".format(len(handles)), fontsize=13)\n",
    "        ax[0].set_xticklabels(ax[0].get_xticklabels(), rotation=90)\n",
    "        ax[1].set_xticklabels(cluster_labels)\n",
    "        ax[1].set_xlabel(\"\")\n",
    "        ax[1].set_ylabel(\"Absolute Frequency\")\n",
    "        ax[1].set_title(\"Cluster Sizes - {} Clusters\".format(len(handles)), fontsize=13)\n",
    "    \n",
    "    plt.subplots_adjust(hspace=0.4, top=0.90)\n",
    "    plt.suptitle(\"Cluster Simple Profilling\", fontsize=23)\n",
    "    plt.show()\n",
    "\n",
    "def metrics(y_train, pred_train , y_val, pred_val):\n",
    "    print('___________________________________________________________________________________________________________')\n",
    "    print('                                                     TRAIN                                                 ')\n",
    "    print('-----------------------------------------------------------------------------------------------------------')\n",
    "    print(classification_report(y_train, pred_train))\n",
    "    print(confusion_matrix(y_train, pred_train))\n",
    "    print('F1-score, micro: ', f1_score(y_train, pred_train, average = 'micro'))\n",
    "\n",
    "\n",
    "    print('___________________________________________________________________________________________________________')\n",
    "    print('                                                VALIDATION                                                 ')\n",
    "    print('-----------------------------------------------------------------------------------------------------------')\n",
    "    print(classification_report(y_val, pred_val))\n",
    "    print(confusion_matrix(y_val, pred_val))\n",
    "    print('F1-score, micro: ',f1_score(y_val, pred_val, average = 'micro'))\n"
   ]
  },
  {
   "cell_type": "markdown",
   "metadata": {
    "id": "Ws1TqnjvBF-x"
   },
   "source": [
    "##### Divisions"
   ]
  },
  {
   "cell_type": "code",
   "execution_count": null,
   "metadata": {
    "ExecuteTime": {
     "end_time": "2020-11-23T19:37:35.675057Z",
     "start_time": "2020-11-23T19:37:30.568811Z"
    },
    "executionInfo": {
     "elapsed": 27756,
     "status": "ok",
     "timestamp": 1609782340365,
     "user": {
      "displayName": "",
      "photoUrl": "",
      "userId": ""
     },
     "user_tz": 0
    },
    "hidden": true,
    "id": "C0-LiWA5dDY7"
   },
   "outputs": [],
   "source": [
    "df = pd.read_csv(\"donors.csv\")"
   ]
  },
  {
   "cell_type": "code",
   "execution_count": null,
   "metadata": {
    "ExecuteTime": {
     "end_time": "2020-11-23T19:37:35.815129Z",
     "start_time": "2020-11-23T19:37:35.676979Z"
    },
    "executionInfo": {
     "elapsed": 27748,
     "status": "ok",
     "timestamp": 1609782340372,
     "user": {
      "displayName": "",
      "photoUrl": "",
      "userId": ""
     },
     "user_tz": 0
    },
    "hidden": true,
    "id": "WaRf0raUdDY7"
   },
   "outputs": [],
   "source": [
    "users_data = df[['ODATEDW', 'OSOURCE', 'TCODE', 'STATE', 'ZIP',\n",
    "                 'MAILCODE', 'PVASTATE', 'DOB', 'NOEXCH', 'RECINHSE', 'RECP3',\n",
    "                 'RECPGVG', 'RECSWEEP', 'MDMAUD', 'DOMAIN', 'HOMEOWNR', 'CHILD03',\n",
    "                 'CHILD07', 'CHILD12', 'CHILD18', 'NUMCHLD', 'INCOME', 'GENDER',\n",
    "                 'WEALTH1', 'HIT', 'MBCRAFT', 'MBGARDEN', 'MBBOOKS', 'MBCOLECT',\n",
    "                 'MAGFAML', 'MAGFEM', 'MAGMALE', 'PUBGARDN', 'PUBCULIN', 'PUBHLTH',\n",
    "                 'PUBDOITY', 'PUBNEWFN', 'PUBPHOTO', 'PUBOPP', 'PEPSTRFL', 'GEOCODE2' ,'DATASRCE',\n",
    "                  'MALEMILI', 'MALEVET', 'VIETVETS', 'WWIIVETS', 'LOCALGOV',\n",
    "                  'STATEGOV', 'FEDGOV', 'SOLP3', 'SOLIH', 'MAJOR', 'WEALTH2',\n",
    "                  'GEOCODE', 'COLLECT1', 'VETERANS', 'BIBLE', 'CATLG', 'HOMEE',\n",
    "                  'PETS', 'CDPLAY', 'STEREO', 'PCOWNERS', 'PHOTO', 'CRAFTS',\n",
    "                  'FISHER', 'GARDENIN', 'BOATS', 'WALKER', 'KIDSTUFF', 'CARDS',\n",
    "                  'PLATES', 'LIFESRC', 'CONTROLN']].copy()"
   ]
  },
  {
   "cell_type": "code",
   "execution_count": null,
   "metadata": {
    "ExecuteTime": {
     "end_time": "2020-11-23T19:37:36.204958Z",
     "start_time": "2020-11-23T19:37:35.915861Z"
    },
    "executionInfo": {
     "elapsed": 28610,
     "status": "ok",
     "timestamp": 1609782341246,
     "user": {
      "displayName": "",
      "photoUrl": "",
      "userId": ""
     },
     "user_tz": 0
    },
    "hidden": true,
    "id": "U-HP_NxvdDY7"
   },
   "outputs": [],
   "source": [
    "neighbourhood = df[['POP901', 'POP902', 'POP903',\n",
    "                    'POP90C1', 'POP90C2', 'POP90C3', 'POP90C4', 'POP90C5', 'ETH1',\n",
    "                    'ETH2', 'ETH3', 'ETH4', 'ETH5', 'ETH6', 'ETH7', 'ETH8', 'ETH9',\n",
    "                    'ETH10', 'ETH11', 'ETH12', 'ETH13', 'ETH14', 'ETH15', 'ETH16',\n",
    "                    'AGE901', 'AGE902', 'AGE903', 'AGE904', 'AGE905', 'AGE906',\n",
    "                    'AGE907', 'CHIL1', 'CHIL2', 'CHIL3', 'AGEC1', 'AGEC2', 'AGEC3',\n",
    "                    'AGEC4', 'AGEC5', 'AGEC6', 'AGEC7', 'CHILC1', 'CHILC2', 'CHILC3',\n",
    "                    'CHILC4', 'CHILC5', 'HHAGE1', 'HHAGE2', 'HHAGE3', 'HHN1', 'HHN2',\n",
    "                    'HHN3', 'HHN4', 'HHN5', 'HHN6', 'MARR1', 'MARR2', 'MARR3', 'MARR4',\n",
    "                    'HHP1', 'HHP2', 'DW1', 'DW2', 'DW3', 'DW4', 'DW5', 'DW6', 'DW7',\n",
    "                    'DW8', 'DW9', 'HV1', 'HV2', 'HV3', 'HV4', 'HU1', 'HU2', 'HU3',\n",
    "                    'HU4', 'HU5', 'HHD1', 'HHD2', 'HHD3', 'HHD4', 'HHD5', 'HHD6',\n",
    "                    'HHD7', 'HHD8', 'HHD9', 'HHD10', 'HHD11', 'HHD12', 'ETHC1',\n",
    "                    'ETHC2', 'ETHC3', 'ETHC4', 'ETHC5', 'ETHC6', 'HVP1', 'HVP2',\n",
    "                    'HVP3', 'HVP4', 'HVP5', 'HVP6', 'HUR1', 'HUR2', 'RHP1', 'RHP2',\n",
    "                    'RHP3', 'RHP4', 'HUPA1', 'HUPA2', 'HUPA3', 'HUPA4', 'HUPA5',\n",
    "                    'HUPA6', 'HUPA7', 'RP1', 'RP2', 'RP3', 'RP4', 'MSA', 'ADI', 'DMA',\n",
    "                    'IC1', 'IC2', 'IC3', 'IC4', 'IC5', 'IC6', 'IC7', 'IC8', 'IC9',\n",
    "                    'IC10', 'IC11', 'IC12', 'IC13', 'IC14', 'IC15', 'IC16', 'IC17',\n",
    "                    'IC18', 'IC19', 'IC20', 'IC21', 'IC22', 'IC23', 'HHAS1', 'HHAS2',\n",
    "                    'HHAS3', 'HHAS4', 'MC1', 'MC2', 'MC3', 'TPE1', 'TPE2', 'TPE3',\n",
    "                    'TPE4', 'TPE5', 'TPE6', 'TPE7', 'TPE8', 'TPE9', 'PEC1', 'PEC2',\n",
    "                    'TPE10', 'TPE11', 'TPE12', 'TPE13', 'LFC1', 'LFC2', 'LFC3', 'LFC4',\n",
    "                    'LFC5', 'LFC6', 'LFC7', 'LFC8', 'LFC9', 'LFC10', 'OCC1', 'OCC2',\n",
    "                    'OCC3', 'OCC4', 'OCC5', 'OCC6', 'OCC7', 'OCC8', 'OCC9', 'OCC10',\n",
    "                    'OCC11', 'OCC12', 'OCC13', 'EIC1', 'EIC2', 'EIC3', 'EIC4', 'EIC5',\n",
    "                    'EIC6', 'EIC7', 'EIC8', 'EIC9', 'EIC10', 'EIC11', 'EIC12', 'EIC13',\n",
    "                    'EIC14', 'EIC15', 'EIC16', 'OEDC1', 'OEDC2', 'OEDC3', 'OEDC4',\n",
    "                    'OEDC5', 'OEDC6', 'OEDC7', 'EC1', 'EC2', 'EC3', 'EC4', 'EC5',\n",
    "                    'EC6', 'EC7', 'EC8', 'SEC1', 'SEC2', 'SEC3', 'SEC4', 'SEC5', \"VC1\", \"VC2\",\n",
    "                    'VC3', 'VC4', 'ANC1', 'ANC2', 'ANC3', 'ANC4', 'ANC5', 'ANC6',\n",
    "                    'ANC7', 'ANC8', 'ANC9', 'ANC10', 'ANC11', 'ANC12', 'ANC13',\n",
    "                    'ANC14', 'ANC15', 'POBC1', 'POBC2', 'LSC1', 'LSC2', 'LSC3', 'LSC4',\n",
    "                    'VOC1', 'VOC2', 'VOC3', 'HC1', 'HC2', 'HC3', 'HC4', 'HC5', 'HC6',\n",
    "                    'HC7', 'HC8', 'HC9', 'HC10', 'HC11', 'HC12', 'HC13', 'HC14',\n",
    "                    'HC15', 'HC16', 'HC17', 'HC18', 'HC19', 'HC20', 'HC21', 'MHUC1',\n",
    "                    'MHUC2', 'AC1', 'AC2','AFC1','AFC2','AFC3','AFC4','AFC5','AFC6','CONTROLN']].copy()"
   ]
  },
  {
   "cell_type": "code",
   "execution_count": null,
   "metadata": {
    "ExecuteTime": {
     "end_time": "2020-11-23T19:37:36.405843Z",
     "start_time": "2020-11-23T19:37:36.206882Z"
    },
    "executionInfo": {
     "elapsed": 28606,
     "status": "ok",
     "timestamp": 1609782341251,
     "user": {
      "displayName": "",
      "photoUrl": "",
      "userId": ""
     },
     "user_tz": 0
    },
    "hidden": true,
    "id": "5M_MEjYWdDY7"
   },
   "outputs": [],
   "source": [
    "rfa = df[[ 'ADATE_2', 'ADATE_3', 'ADATE_4', 'ADATE_5',\n",
    "           'ADATE_6', 'ADATE_7', 'ADATE_8', 'ADATE_9', 'ADATE_10', 'ADATE_11',\n",
    "           'ADATE_12', 'ADATE_13', 'ADATE_14', 'ADATE_15', 'ADATE_16',\n",
    "           'ADATE_17', 'ADATE_18', 'ADATE_19', 'ADATE_20', 'ADATE_21',\n",
    "           'ADATE_22', 'ADATE_23', 'ADATE_24', 'RFA_2', 'RFA_3', 'RFA_4',\n",
    "           'RFA_5', 'RFA_6', 'RFA_7', 'RFA_8', 'RFA_9', 'RFA_10', 'RFA_11',\n",
    "           'RFA_12', 'RFA_13', 'RFA_14', 'RFA_15', 'RFA_16', 'RFA_17',\n",
    "           'RFA_18', 'RFA_19', 'RFA_20', 'RFA_21', 'RFA_22', 'RFA_23',\n",
    "           'RFA_24', 'CARDPROM', 'MAXADATE', 'NUMPROM', 'CARDPM12',\n",
    "           'NUMPRM12', 'RDATE_3', 'RDATE_4', 'RDATE_5', 'RDATE_6', 'RDATE_7',\n",
    "           'RDATE_8', 'RDATE_9', 'RDATE_10', 'RDATE_11', 'RDATE_12',\n",
    "           'RDATE_13', 'RDATE_14', 'RDATE_15', 'RDATE_16', 'RDATE_17',\n",
    "           'RDATE_18', 'RDATE_19', 'RDATE_20', 'RDATE_21', 'RDATE_22',\n",
    "           'RDATE_23', 'RDATE_24', 'RAMNT_3', 'RAMNT_4', 'RAMNT_5', 'RAMNT_6',\n",
    "           'RAMNT_7', 'RAMNT_8', 'RAMNT_9', 'RAMNT_10', 'RAMNT_11',\n",
    "           'RAMNT_12', 'RAMNT_13', 'RAMNT_14', 'RAMNT_15', 'RAMNT_16',\n",
    "           'RAMNT_17', 'RAMNT_18', 'RAMNT_19', 'RAMNT_20', 'RAMNT_21',\n",
    "           'RAMNT_22', 'RAMNT_23', 'RAMNT_24', 'RAMNTALL', 'NGIFTALL',\n",
    "           'CARDGIFT', 'MINRAMNT', 'MINRDATE', 'MAXRAMNT', 'MAXRDATE',\n",
    "           'LASTGIFT', 'LASTDATE', 'FISTDATE', 'NEXTDATE', 'TIMELAG',\n",
    "           'AVGGIFT', 'HPHONE_D', 'RFA_2R', 'RFA_2F', 'RFA_2A',\n",
    "           'MDMAUD_R', 'MDMAUD_F', 'MDMAUD_A']].copy()"
   ]
  },
  {
   "cell_type": "markdown",
   "metadata": {
    "id": "7jeMQDWVDDm6"
   },
   "source": [
    "# **2. Data Preparation and Feature Engineering**"
   ]
  },
  {
   "cell_type": "markdown",
   "metadata": {
    "id": "S52yS8FLdDY7"
   },
   "source": [
    "### Users Data "
   ]
  },
  {
   "cell_type": "markdown",
   "metadata": {
    "id": "Ymc3k4j7gXKG"
   },
   "source": [
    "###### **Descriptive Statistics**"
   ]
  },
  {
   "cell_type": "code",
   "execution_count": null,
   "metadata": {
    "ExecuteTime": {
     "end_time": "2020-11-23T19:37:36.806188Z",
     "start_time": "2020-11-23T19:37:36.642403Z"
    },
    "colab": {
     "base_uri": "https://localhost:8080/"
    },
    "executionInfo": {
     "elapsed": 26238,
     "status": "ok",
     "timestamp": 1609782342405,
     "user": {
      "displayName": "",
      "photoUrl": "",
      "userId": ""
     },
     "user_tz": 0
    },
    "id": "Azaj-IlXdDY8",
    "outputId": "d7d4d23c-c5cd-4dd9-ad34-578bf7467a02",
    "scrolled": true
   },
   "outputs": [],
   "source": [
    "# General information about the data types, missing values and the shape of columns\n",
    "\n",
    "users_data.describe()\n",
    "users_data.info()\n",
    "\n",
    "#Now let's inspect the variable that has the unique identifier of each donor (CONTROLN). Let's check if there is more than 1 value for each identifier:\n",
    "(users_data[\"CONTROLN\"].value_counts()>1).sum()  #we will never have 2 lines with the same identifier, so we guarantee that the ID is unique.\n",
    "\n",
    "\n",
    "#INITIAL ANALYSIS OF VARIABLES\n",
    "\n",
    "# DATASRCE, LIFESRC, GEOCODE\n",
    "\n",
    "# DATASRCE - Indicates which third-party data source the donor matched against\n",
    "# LIFESRC - Indicates source of the lifestyle variables listed above\n",
    "# These variables don't give usefull information regarding our study.\n",
    "# GEOCODE - Geo Cluster Code indicating the level geography at which a record matches the census data. \n",
    "# This variable could possibly be useful, but unfortunately it has over 80% missing values and we believe that the rest \n",
    "# of the variables that contain information about the geolocation of the donor's are more valuable.\n",
    "#'DATASRCE', 'LIFESRC', \n",
    "\n",
    "(users_data['GEOCODE'][users_data['GEOCODE'] == ' '].shape[0] / users_data.shape[0]) * 100 #Percent of possible missing values: 84%\n",
    "users_data.drop(columns = ['GEOCODE'], inplace = True)\n",
    "\n",
    "#INSPECTION OF THE FOLLOWING VARIABLES:\n",
    "users_data[['MALEMILI', 'MALEVET', 'VIETVETS', 'WWIIVETS', 'LOCALGOV', 'STATEGOV', 'FEDGOV']].describe()\n",
    "\n",
    "# MALEMILI, MALEVET, VIETVETS, WWIIVETS, LOCALGOV, STATEGOV, FEDGOV\n",
    "\n",
    "# These variables don't need any \"initial\" treating, however the documentation is ambiguos about what they refer to. \n",
    "# It seems they migth refer to the donor's household or neighborhood, \n",
    "# for now we will keep them, however, if we use them later, we will need to clearly define what we believe they indicate\n",
    "\n",
    "\n",
    "# SOLP3 - SOLICIT LIMITATION CODE P3\n",
    "# SOLIH - SOLICITATION LIMIT CODE IN HOUSE\n",
    "# These variables seem useful, however we can't tell the difference between one and the other. The values are categorical, \n",
    "# however they can be easely turned in to integer values as they do have an order, except of course for the default value, \n",
    "# which is also the most prevolant one in both variables, by a lot.\n",
    "# Some special transformations will be needed for these variables, however we doubt they will be usefull due to their distribuition.\n",
    "# Since the great majority of values are default, they don't allow us to discretize the donors that well, so we will delete them.\n",
    "\n",
    "users_data['SOLP3'].value_counts() #most are missing values\n",
    "users_data['SOLP3'].isna().sum() #however, they are wrongly encoded\n",
    "users_data['SOLIH'].value_counts()#most are missing values\n",
    "users_data['SOLIH'].isna().sum()#however, they are wrongly encoded\n",
    "\n",
    "users_data.drop(columns = ['SOLP3', 'SOLIH'], inplace = True)\n",
    "\n",
    "#Major Donor Flag\n",
    "# We already have this information in other variables, however it is nice to have it on a binary one. \n",
    "# We will proceed with it, however, with special care not to repeat information. The transformation will be performed in the \"Variable Transformation\" section.\n",
    "\n",
    "users_data['MAJOR'].value_counts() #only 294 major donors identified.\n",
    "\n",
    "\n",
    "# COLLECT1, VETERANS, BIBLE, CATLG, HOMEE, PETS, CDPLAY, STEREO, PCOWNERS, PHOTO, CRAFTS, FISHER, GARDENIN, BOATS, WALKER, KIDSTUFF, CARDS, PLATES\n",
    "\n",
    "# All these variables about the donors interests or hobbies don't have missing values. Since their values are all objects, \n",
    "# we will apply a function to turn them into binary variables in the \"Variable Transformation\" section.\n",
    "\n",
    "users_data[['COLLECT1', 'VETERANS', 'BIBLE', 'CATLG', 'HOMEE', 'PETS', 'CDPLAY','STEREO', 'PCOWNERS', 'PHOTO', 'CRAFTS', 'FISHER', 'GARDENIN', 'BOATS','WALKER', 'KIDSTUFF', 'CARDS', 'PLATES']].isna().sum()"
   ]
  },
  {
   "cell_type": "markdown",
   "metadata": {
    "id": "m5oKjXXodDY8"
   },
   "source": [
    "###### **The 50 States**"
   ]
  },
  {
   "cell_type": "markdown",
   "metadata": {
    "id": "_OVqzWf4n28M"
   },
   "source": [
    "![capture.png](data:image/png;base64,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)"
   ]
  },
  {
   "cell_type": "code",
   "execution_count": null,
   "metadata": {
    "ExecuteTime": {
     "end_time": "2020-11-23T19:37:36.884005Z",
     "start_time": "2020-11-23T19:37:36.857054Z"
    },
    "colab": {
     "base_uri": "https://localhost:8080/"
    },
    "executionInfo": {
     "elapsed": 26232,
     "status": "ok",
     "timestamp": 1609782342406,
     "user": {
      "displayName": "",
      "photoUrl": "",
      "userId": ""
     },
     "user_tz": 0
    },
    "id": "LooYNHxTdDY8",
    "outputId": "50cb0ee5-29bb-4c0e-93aa-0e1dcac9e6e2"
   },
   "outputs": [],
   "source": [
    "# There are more values for the states than the number of states that google states exist indeed \n",
    "len(users_data[\"STATE\"].unique()) #57 states identified in our dataset\n",
    "\n",
    "#Let's try to see the values to check what is wrong :\n",
    "users_data[\"STATE\"].unique()\n",
    "\n",
    "# We googled and found an array with the initials of the states and Washington DC, which isn't exactly a state but due to its importance its many times counted as such:\n",
    "states = [\"AL\", \"AK\", \"AZ\", \"AR\", \"CA\", \"CO\", \"CT\", \"DC\", \"DE\", \"FL\", \"GA\", \n",
    "          \"HI\", \"ID\", \"IL\", \"IN\", \"IA\", \"KS\", \"KY\", \"LA\", \"ME\", \"MD\", \n",
    "          \"MA\", \"MI\", \"MN\", \"MS\", \"MO\", \"MT\", \"NE\", \"NV\", \"NH\", \"NJ\", \n",
    "          \"NM\", \"NY\", \"NC\", \"ND\", \"OH\", \"OK\", \"OR\", \"PA\", \"RI\", \"SC\", \n",
    "          \"SD\", \"TN\", \"TX\", \"UT\", \"VT\", \"VA\", \"WA\", \"WV\", \"WI\", \"WY\"]\n",
    "\n",
    "# Now let's compare the values that were in the States list with the values in our dataset, and see which values are different:\n",
    "users_data[\"STATE\"].loc[(~users_data[\"STATE\"].isin(states))].value_counts()\n",
    "\n",
    "# (https://en.wikipedia.org/wiki/List_of_U.S._state_and_territory_abbreviations)\n",
    "\n",
    "# AP, AA and AE are US Military Mail Codes\n",
    "# VI stands for Virgin Islands\n",
    "# GU stands for Guam, an island in the pacific\n",
    "# AS is from American Samoa\n",
    "# These values are called \"USA Territories\" and not exactly states. We should consider renaming the variable for more accurate results"
   ]
  },
  {
   "cell_type": "markdown",
   "metadata": {
    "id": "WXs9iVixdDZC"
   },
   "source": [
    "###### **Income Analysis**"
   ]
  },
  {
   "cell_type": "code",
   "execution_count": null,
   "metadata": {
    "colab": {
     "base_uri": "https://localhost:8080/"
    },
    "executionInfo": {
     "elapsed": 26226,
     "status": "ok",
     "timestamp": 1609782342408,
     "user": {
      "displayName": "",
      "photoUrl": "",
      "userId": ""
     },
     "user_tz": 0
    },
    "id": "aengwoK-dDZC",
    "outputId": "3b777a87-ef3b-4f66-d7b5-7565f8238beb"
   },
   "outputs": [],
   "source": [
    "users_data[['WEALTH1', \"WEALTH2\", \"INCOME\"]].isna().sum()"
   ]
  },
  {
   "cell_type": "code",
   "execution_count": null,
   "metadata": {
    "colab": {
     "base_uri": "https://localhost:8080/"
    },
    "executionInfo": {
     "elapsed": 26221,
     "status": "ok",
     "timestamp": 1609782342409,
     "user": {
      "displayName": "",
      "photoUrl": "",
      "userId": ""
     },
     "user_tz": 0
    },
    "id": "8k41y9_mdDZC",
    "outputId": "be078ad1-595b-4d02-99bf-450bea664ba3"
   },
   "outputs": [],
   "source": [
    "(users_data[users_data['WEALTH1'].isna() & users_data['WEALTH2'].isna()].shape[0]) / users_data.shape[0]"
   ]
  },
  {
   "cell_type": "markdown",
   "metadata": {
    "id": "ry79NschdDZC"
   },
   "source": [
    "As we can see both wealth variables have a lot of missing values, however if we combine both, we will have 22% of observations which will need their values imputed.\n",
    "\n",
    "- *WEALTH1* is prefered to *WEALTH2*, since *WEALTH2* is dependent on the donors state, so when we have observations with values in both, we would prefer the WEALTH1 value. We know this isn't ideal but it is better than imputing an estimated value.\n",
    "\n",
    "- However, *WEALTH2* represents the median family income, and the metadata isn't really clear about what does *WEALTH1* refere to.\n",
    "\n",
    "- The variable *INCOME* is interpreted as representing the total family income of each donor. The metadata isn't clear about it, but we believe it has a different bin distribuition, since it only has values between 1 and 7."
   ]
  },
  {
   "cell_type": "code",
   "execution_count": null,
   "metadata": {
    "colab": {
     "base_uri": "https://localhost:8080/"
    },
    "executionInfo": {
     "elapsed": 26213,
     "status": "ok",
     "timestamp": 1609782342410,
     "user": {
      "displayName": "",
      "photoUrl": "",
      "userId": ""
     },
     "user_tz": 0
    },
    "id": "5osJJNt0dDZC",
    "outputId": "eee16e21-7f88-4b6b-93ba-02ca4b1fdbe6"
   },
   "outputs": [],
   "source": [
    "(users_data[users_data['WEALTH1'].isna() & users_data['WEALTH2'].isna() & users_data['INCOME'].isna()].shape[0]) / users_data.shape[0]"
   ]
  },
  {
   "cell_type": "markdown",
   "metadata": {
    "id": "JVGk5lCBdDZC"
   },
   "source": [
    "If we also combine *INCOME* we will have 11% of missing values, but unfortunently, since they seem to show different bins, this isn't doable.\n",
    "\n",
    "So let's see how many values are different between *WEALTH1* and *WEALTH2*."
   ]
  },
  {
   "cell_type": "code",
   "execution_count": null,
   "metadata": {
    "colab": {
     "base_uri": "https://localhost:8080/"
    },
    "executionInfo": {
     "elapsed": 26209,
     "status": "ok",
     "timestamp": 1609782342413,
     "user": {
      "displayName": "",
      "photoUrl": "",
      "userId": ""
     },
     "user_tz": 0
    },
    "id": "HhABIKaFdDZC",
    "outputId": "82542a62-5c7e-407c-e719-67a9d1b41397"
   },
   "outputs": [],
   "source": [
    "(users_data[['WEALTH1', 'WEALTH2']][(users_data['WEALTH1'] != users_data['WEALTH2'])\n",
    "                                  & (~(users_data['WEALTH1'].isna())) & (~(users_data['WEALTH2'].isna()))\n",
    "                                  ].shape[0] /users_data.shape[0]) * 100\n",
    "\n",
    "#10% of data points have different values of WEALTH1 and 2"
   ]
  },
  {
   "cell_type": "markdown",
   "metadata": {
    "id": "US4tUx4wdDZC"
   },
   "source": [
    "But this percentage doesn't tell us how big is the difference between the values."
   ]
  },
  {
   "cell_type": "code",
   "execution_count": null,
   "metadata": {
    "colab": {
     "base_uri": "https://localhost:8080/"
    },
    "executionInfo": {
     "elapsed": 26203,
     "status": "ok",
     "timestamp": 1609782342413,
     "user": {
      "displayName": "",
      "photoUrl": "",
      "userId": ""
     },
     "user_tz": 0
    },
    "id": "HlQDT57YdDZC",
    "outputId": "f8f16c8f-e107-408c-fa5a-47acbd144b19"
   },
   "outputs": [],
   "source": [
    "#Avg difference between different values of WEALTH1 and WEALTH2\n",
    "\n",
    "(((users_data['WEALTH1'][(users_data['WEALTH1'] != users_data['WEALTH2'])\n",
    "                                  & (~(users_data['WEALTH1'].isna())) & (~(users_data['WEALTH2'].isna()))] - users_data['WEALTH2'][(users_data['WEALTH1'] != users_data['WEALTH2'])\n",
    "                                  & (~(users_data['WEALTH1'].isna())) & (~(users_data['WEALTH2'].isna()))])**2)**(1/2)).mean()"
   ]
  },
  {
   "cell_type": "code",
   "execution_count": null,
   "metadata": {
    "colab": {
     "base_uri": "https://localhost:8080/"
    },
    "executionInfo": {
     "elapsed": 26200,
     "status": "ok",
     "timestamp": 1609782342416,
     "user": {
      "displayName": "",
      "photoUrl": "",
      "userId": ""
     },
     "user_tz": 0
    },
    "id": "rqOl2l2kdDZD",
    "outputId": "e40f1b8d-04ac-40b8-d5cb-e98a6d99951e"
   },
   "outputs": [],
   "source": [
    "#Std difference between different values of WEALTH1 and WEALTH2\n",
    "\n",
    "(((users_data['WEALTH1'][(users_data['WEALTH1'] != users_data['WEALTH2'])\n",
    "                                  & (~(users_data['WEALTH1'].isna())) & (~(users_data['WEALTH2'].isna()))] - users_data['WEALTH2'][(users_data['WEALTH1'] != users_data['WEALTH2'])\n",
    "                                  & (~(users_data['WEALTH1'].isna())) & (~(users_data['WEALTH2'].isna()))])**2)**(1/2)).std()"
   ]
  },
  {
   "cell_type": "markdown",
   "metadata": {
    "id": "2du-pmB8dDZD"
   },
   "source": [
    "As we can see, when there is a difference between *WEALTH1*and *WEALTH2*, it is quite big (about more than one bin)."
   ]
  },
  {
   "cell_type": "code",
   "execution_count": null,
   "metadata": {
    "colab": {
     "base_uri": "https://localhost:8080/"
    },
    "executionInfo": {
     "elapsed": 26196,
     "status": "ok",
     "timestamp": 1609782342418,
     "user": {
      "displayName": "",
      "photoUrl": "",
      "userId": ""
     },
     "user_tz": 0
    },
    "id": "IdzubSa4dDZD",
    "outputId": "4d89d36a-bae6-4dda-c50f-39c2ae4ab34f"
   },
   "outputs": [],
   "source": [
    "(users_data[users_data['INCOME'].isna()].shape[0] / users_data.shape[0]) * 100"
   ]
  },
  {
   "cell_type": "markdown",
   "metadata": {
    "id": "9dc6Qo-sdDZD"
   },
   "source": [
    "If we use the variable *INCOME* we will have about 22% missing values, the same as the combination of *WEALTH1* and *WEALTH2*, and we don't have to combine any variables or take in to account assumptions we don't believe to be very strong.\n",
    "\n",
    "So if we want to cluster having into account the income of the donors, we will use the total family income of each"
   ]
  },
  {
   "cell_type": "code",
   "execution_count": null,
   "metadata": {
    "executionInfo": {
     "elapsed": 26190,
     "status": "ok",
     "timestamp": 1609782342419,
     "user": {
      "displayName": "",
      "photoUrl": "",
      "userId": ""
     },
     "user_tz": 0
    },
    "id": "0Dv-5wdjdDZD"
   },
   "outputs": [],
   "source": [
    "users_data.drop(columns = ['WEALTH1', 'WEALTH2'], inplace = True)"
   ]
  },
  {
   "cell_type": "markdown",
   "metadata": {
    "id": "cySqOxH2dDY8"
   },
   "source": [
    "###### **Variable Transformation**"
   ]
  },
  {
   "cell_type": "code",
   "execution_count": null,
   "metadata": {
    "executionInfo": {
     "elapsed": 29583,
     "status": "ok",
     "timestamp": 1609782345818,
     "user": {
      "displayName": "",
      "photoUrl": "",
      "userId": ""
     },
     "user_tz": 0
    },
    "id": "uoXdgjMKgxEc"
   },
   "outputs": [],
   "source": [
    "#We will turn the following variables into binary ones:\n",
    "\n",
    "empty_space_Value_to_binary(users_data, \"MAILCODE\", 'B')\n",
    "empty_space_Value_to_binary(users_data, \"PVASTATE\", 'P')\n",
    "empty_space_Value_to_binary(users_data, \"HOMEOWNR\", 'H')\n",
    "empty_space_Value_to_binary(users_data, 'MAJOR', 'X') \n",
    "\n",
    "for column in ['COLLECT1', 'VETERANS', 'BIBLE', 'CATLG', 'HOMEE', 'PETS', 'CDPLAY','STEREO', 'PCOWNERS', 'PHOTO', 'CRAFTS', 'FISHER', 'GARDENIN', 'BOATS','WALKER', 'KIDSTUFF', 'CARDS', 'PLATES']:\n",
    "  empty_space_Value_to_binary(users_data, column, 'Y')\n",
    "\n",
    "users_data[\"PVASTATE\"] = users_data[\"PVASTATE\"].map(lambda x: 0 if x == 'E' else x)\n",
    "users_data[\"HOMEOWNR\"] = users_data[\"HOMEOWNR\"].map(lambda x: 0 if x == 'U' else x)\n",
    "\n",
    "users_data[\"PVASTATE\"] = users_data[\"PVASTATE\"].astype(\"int64\")\n",
    "users_data[\"HOMEOWNR\"] = users_data[\"HOMEOWNR\"].astype(\"int64\")\n",
    "\n",
    "\n",
    "#As the values of MAILCODE reference a bad adress, we will rename the column to mean so:\n",
    "users_data.rename(columns={\"MAILCODE\": \"WRONG_ADRESS\"}, inplace=True)\n",
    "\n",
    "\n",
    "#We can see that there are 1399 people that have no valid address, which is problematic since the gifts and promotions are sent by mail\n",
    "users_data[\"WRONG_ADRESS\"].value_counts() #1 - 1399\n",
    "\n",
    "#Put the following columns as binary. Special care had to be done to the variable NOEXCH which didnt have the values it should, and had values as strings and as ints. \n",
    "#so the approach was to change everything to string and then to int, to be able to have a proper binary variable\n",
    "for i in [\"NOEXCH\", \"RECINHSE\",\"RECP3\",\"RECPGVG\",\"RECSWEEP\",\"PEPSTRFL\"]:\n",
    "    empty_space_Value_to_binary(users_data, i, 'X')\n",
    "\n",
    "users_data[\"NOEXCH\"] = users_data[\"NOEXCH\"].astype('str')\n",
    "users_data[\"NOEXCH\"] = users_data[\"NOEXCH\"].astype('int64')\n",
    "\n",
    "# Make the Variable Gender, Binary:\n",
    "gender_treatment(users_data, \"GENDER\")\n",
    "\n",
    "#Use the function that automatically searches for the correct datetime to put our date variables in the right format:\n",
    "for i in [\"DOB\",\"ODATEDW\"]:\n",
    "    from_object_to_datetime(users_data, i)\n",
    "\n",
    "#Some values had a strange \"-\" in the end which did not allow the variable to be numeric:\n",
    "users_data[\"ZIP\"] = users_data[\"ZIP\"].str.replace('-', '') .astype(\"int64\")\n",
    "\n",
    "#In this line we will put the null values that were formatted as \" \" in a proper format:\n",
    "users_data[[\"CHILD03\", \"CHILD07\", \"CHILD12\", \"CHILD18\", \"GEOCODE2\"]]= users_data[[\"CHILD03\", \"CHILD07\", \"CHILD12\", \"CHILD18\",\"GEOCODE2\"]].replace(\" \", np.nan)\n",
    "\n",
    "#Put the unreadable values that were as \"XXXX\" in a proper format:\n",
    "users_data[\"MDMAUD\"] = users_data[\"MDMAUD\"].replace(\"XXXX\", np.nan)\n",
    "\n",
    "#We will divide the variable in GENDER in one that represents gender, and another one that represents the information in a Joint account\n",
    "users_data['JOINT'] = np.where(users_data['GENDER']=='J', 1,0)\n",
    "users_data['GENDER'] = users_data['GENDER'].replace(['J'], np.nan) #Change the values of joint acounts to unknown\n",
    "users_data['FEMALE'] = users_data['GENDER'].map(lambda x: 1 if x == 'F' else 0 ) #And now we can create the variable female\n",
    "\n",
    "\n",
    "#Let's turn the date of birth to a more readable variable: age of the referenced person in years, accourding to the referenced date of the dataset.\n",
    "rfa['ADATE_2'].unique() #as we can see, the current date is 2017, so we will use this data as the current date\n",
    "users_data['AGE'] = users_data['DOB'].apply(lambda x : (2017 - x.year))\n",
    "\n",
    "#The variable NUMCHLD has missing values. We decided to check whether the variable had 0s or not, and given that it doesn't, \n",
    "#we will make the assumption that a missing value means that the person does not have a child and not the lack of information about the matter.\n",
    "users_data[\"NUMCHLD\"].value_counts() #minimum 0 kids, and maximum 7\n",
    "\n",
    "users_data[\"NUMCHLD\"] = users_data[\"NUMCHLD\"].replace(np.nan, 0)\n",
    "users_data[\"DOMAIN\"] = users_data[\"DOMAIN\"].map(lambda x: np.nan if x ==\" \" else x)\n",
    "\n",
    "users_data[\"URBANICITY\"] = users_data[\"DOMAIN\"].str[0:1]\n",
    "users_data[\"SES\"] = users_data[\"DOMAIN\"].str[1:2]\n",
    "users_data[\"SES\"] = users_data[\"SES\"].astype(\"float64\")\n",
    "\n",
    "for value in range(0,users_data.shape[0]):\n",
    "  if users_data[\"URBANICITY\"][value] == 'U':\n",
    "    if users_data[\"SES\"][value] ==3:\n",
    "      users_data[\"SES\"][value] =2\n",
    "    if users_data[\"SES\"][value] ==4:\n",
    "      users_data[\"SES\"][value] =3\n",
    "\n",
    "# We are going to drop the following variables:\n",
    "# -CHILD03, CHILD07, CHILD12, CHILD18: the variables have 98.8% of missing values and are not easy to interpret or put in a numeric format.\n",
    "# -TCODE: brings no information to the model. meaning, its impossible to encode and to even identify patterns with it.\n",
    "# -OSOURCE: No information is provided for us to be able to interpret the variables\n",
    "# -GENDER: We are going to drop this column because we have put its information in a more structured variable, FEMALE\n",
    "# -DOMAIN: We are going to drop this column because we have put its information in 2 other variables, URBANICITY, SES\n",
    "# -MDMAUD: We will remove this variable as its values are already decomposed later in the dataset and we don't want to have duplicate information\n",
    "\n",
    "users_data= users_data.drop(columns = [\"CHILD03\", \"CHILD07\", \"CHILD12\", \"CHILD18\", \"MDMAUD\", \"TCODE\", \"OSOURCE\", \"GENDER\", \"MDMAUD\", \"DOMAIN\", \"DOB\"])\n",
    "\n",
    "numerics = ['int16', 'int32', 'int64', 'float16', 'float32', 'float64']\n",
    "metric_features = users_data.select_dtypes(include=numerics)"
   ]
  },
  {
   "cell_type": "markdown",
   "metadata": {
    "id": "VhjeCiwadzIQ"
   },
   "source": [
    "###### **Encoding & Imputing Missing Values**"
   ]
  },
  {
   "cell_type": "code",
   "execution_count": null,
   "metadata": {
    "executionInfo": {
     "elapsed": 29592,
     "status": "ok",
     "timestamp": 1609782345832,
     "user": {
      "displayName": "",
      "photoUrl": "",
      "userId": ""
     },
     "user_tz": 0
    },
    "id": "b-iKj7D5SSnv"
   },
   "outputs": [],
   "source": [
    "categorical = ['object']\n",
    "categorical_features = users_data.select_dtypes(include=categorical)\n",
    "# create object of Ordinalencoding\n",
    "encoder= ce.OrdinalEncoder(cols=['URBANICITY'],return_df=True, mapping=[{'col':'URBANICITY','mapping':{'R':0,'T':1,'S':2,'C':3,'U':4}}])\n",
    "#fit and transform train data \n",
    "users_data = encoder.fit_transform(users_data)\n",
    "users_data[\"URBANICITY\"] = users_data[\"URBANICITY\"].replace(-1,np.nan)"
   ]
  },
  {
   "cell_type": "code",
   "execution_count": null,
   "metadata": {
    "colab": {
     "base_uri": "https://localhost:8080/",
     "height": 682
    },
    "executionInfo": {
     "elapsed": 29587,
     "status": "ok",
     "timestamp": 1609782345836,
     "user": {
      "displayName": "",
      "photoUrl": "",
      "userId": ""
     },
     "user_tz": 0
    },
    "id": "PGxc6wlZfijA",
    "outputId": "b0e4135f-7a82-470a-856f-3e119b87df9f"
   },
   "outputs": [],
   "source": [
    "missing_zero_values_table(users_data)"
   ]
  },
  {
   "cell_type": "code",
   "execution_count": null,
   "metadata": {
    "executionInfo": {
     "elapsed": 203192,
     "status": "ok",
     "timestamp": 1609782519448,
     "user": {
      "displayName": "",
      "photoUrl": "",
      "userId": ""
     },
     "user_tz": 0
    },
    "id": "MtXFjit4b1hG"
   },
   "outputs": [],
   "source": [
    "#We decided to postpone the idea of imputing missing values in the variables that have information about the mailing promotions that the donors have responded to. \n",
    "#So, we will proceed on doing the missing value imputation of the variables *AGE*, *INCOME*, *URBANICITY*, *SES*, *GEOCODE2*\n",
    "\n",
    "metric_features2 = [\"NUMCHLD\", \"HIT\", \"MALEVET\", 'VIETVETS', 'WWIIVETS', 'LOCALGOV', 'FEDGOV','AGE']\n",
    "\n",
    "# Age - KNN Imputer\n",
    "imputer = KNNImputer(n_neighbors=5, weights=\"uniform\")\n",
    "users_data[metric_features2] = imputer.fit_transform(users_data[metric_features2])\n",
    "\n",
    "# users_data[\"GEOCODE2\"]= users_data[\"GEOCODE2\"].fillna(users_data[\"GEOCODE2\"].mode()[0])\n",
    "# users_data[\"URBANICITY\"]= users_data[\"URBANICITY\"].fillna(users_data[\"URBANICITY\"].mode()[0])\n",
    "# users_data[\"SES\"]= users_data[\"SES\"].fillna(users_data[\"SES\"].mode()[0])\n",
    "# users_data[\"INCOME\"]= users_data[\"INCOME\"].fillna(users_data[\"INCOME\"].mode()[0])"
   ]
  },
  {
   "cell_type": "markdown",
   "metadata": {
    "id": "dYT7FE2CFPVh"
   },
   "source": [
    "###### **Coherence Checks and Outliers**"
   ]
  },
  {
   "cell_type": "code",
   "execution_count": null,
   "metadata": {
    "colab": {
     "base_uri": "https://localhost:8080/",
     "height": 1000
    },
    "executionInfo": {
     "elapsed": 208262,
     "status": "ok",
     "timestamp": 1609782524593,
     "user": {
      "displayName": "",
      "photoUrl": "",
      "userId": ""
     },
     "user_tz": 0
    },
    "id": "RzeWYCUen2WR",
    "outputId": "04c5d288-f327-44ef-eb1d-a16f9bd0f86d"
   },
   "outputs": [],
   "source": [
    "#COHERENCE CHECKS\n",
    "\n",
    "#Variable TOTGIFT_NAN represents the number of times a donor responded to other mail offers, from the ones we have information of.\n",
    "#If the value of HIT, wich is the number of times a donor responded to mail offers than pva, is smaller than the value of this variable we created, we replace the HIT value.\n",
    "\n",
    "users_data[\"TOTGIFT_NAN\"]= users_data[['MBCRAFT', 'MBGARDEN', 'MBBOOKS', 'MBCOLECT', 'MAGFAML', 'MAGFEM', 'MAGMALE', 'PUBGARDN', 'PUBCULIN', 'PUBHLTH', 'PUBDOITY', 'PUBNEWFN', 'PUBPHOTO', 'PUBOPP']].sum(axis=1,  min_count=1)\n",
    "users_data[[\"HIT\", \"TOTGIFT_NAN\"]].loc[users_data[\"HIT\"] < users_data[\"TOTGIFT_NAN\"]]\n",
    "users_data[\"HIT\"][users_data[\"HIT\"] < users_data[\"TOTGIFT_NAN\"]] = users_data[\"TOTGIFT_NAN\"][users_data[\"HIT\"] < users_data[\"TOTGIFT_NAN\"]] \n",
    "users_data[[\"HIT\", \"TOTGIFT_NAN\"]].loc[users_data[\"HIT\"] < users_data[\"TOTGIFT_NAN\"]]\n",
    "\n",
    "users_data_outliers = users_data[[\"NUMCHLD\", \"HIT\", \"MALEVET\", 'VIETVETS', 'WWIIVETS', 'LOCALGOV', 'FEDGOV','AGE']]\n",
    "hist_box_maker(users_data_outliers, \"Users Data Value Distribution\", users_data_outliers.shape[1], 20,20)\n"
   ]
  },
  {
   "cell_type": "code",
   "execution_count": null,
   "metadata": {
    "colab": {
     "base_uri": "https://localhost:8080/"
    },
    "executionInfo": {
     "elapsed": 208257,
     "status": "ok",
     "timestamp": 1609782524594,
     "user": {
      "displayName": "",
      "photoUrl": "",
      "userId": ""
     },
     "user_tz": 0
    },
    "id": "cldKE0KnFHer",
    "outputId": "bdd06af5-4184-4f5f-8b96-8f8a27990ba4"
   },
   "outputs": [],
   "source": [
    "#We will delete about 0.3% of our data with these outlier removal:\n",
    "print(users_data[(users_data['FEDGOV']>55)|(users_data['LOCALGOV']>43)|(users_data['MALEMILI']>63)|(users_data['MALEVET']>87)|(users_data['STATEGOV']>63)|(users_data['VIETVETS']>95)].shape[0] / users_data.shape[0])\n",
    "users_data = users_data[~((users_data['FEDGOV']>55)|(users_data['LOCALGOV']>43)|(users_data['MALEMILI']>63)|(users_data['MALEVET']>87)|(users_data['STATEGOV']>63)|(users_data['VIETVETS']>95))]"
   ]
  },
  {
   "cell_type": "markdown",
   "metadata": {
    "id": "hO3zTLSO7TRj"
   },
   "source": [
    "###### **Correlation Matrix**"
   ]
  },
  {
   "cell_type": "code",
   "execution_count": null,
   "metadata": {
    "colab": {
     "base_uri": "https://localhost:8080/"
    },
    "executionInfo": {
     "elapsed": 209329,
     "status": "ok",
     "timestamp": 1609782525673,
     "user": {
      "displayName": "",
      "photoUrl": "",
      "userId": ""
     },
     "user_tz": 0
    },
    "id": "gzfiQopnb4JL",
    "outputId": "de484d1d-f311-4e12-c0b0-23b2dd8e6465"
   },
   "outputs": [],
   "source": [
    "metric_features = corr_df(metric_features, 0.85)"
   ]
  },
  {
   "cell_type": "code",
   "execution_count": null,
   "metadata": {
    "executionInfo": {
     "elapsed": 209325,
     "status": "ok",
     "timestamp": 1609782525675,
     "user": {
      "displayName": "",
      "photoUrl": "",
      "userId": ""
     },
     "user_tz": 0
    },
    "id": "Qp0OBgsr7X19"
   },
   "outputs": [],
   "source": [
    "users_data = users_data.drop(columns = ['RECSWEEP'])"
   ]
  },
  {
   "cell_type": "code",
   "execution_count": null,
   "metadata": {
    "executionInfo": {
     "elapsed": 209320,
     "status": "ok",
     "timestamp": 1609782525676,
     "user": {
      "displayName": "",
      "photoUrl": "",
      "userId": ""
     },
     "user_tz": 0
    },
    "id": "8Rkuz5I8xOcW"
   },
   "outputs": [],
   "source": [
    "users_data[\"ALL_VETS\"] = users_data[[\"MALEMILI\", \"MALEVET\"]].sum(axis=1)"
   ]
  },
  {
   "cell_type": "markdown",
   "metadata": {
    "id": "ytGGDcecdDY9"
   },
   "source": [
    "### RFA"
   ]
  },
  {
   "cell_type": "code",
   "execution_count": null,
   "metadata": {
    "executionInfo": {
     "elapsed": 211034,
     "status": "ok",
     "timestamp": 1609782527397,
     "user": {
      "displayName": "",
      "photoUrl": "",
      "userId": ""
     },
     "user_tz": 0
    },
    "id": "do0Oqgl8KQpD"
   },
   "outputs": [],
   "source": [
    "#First we will combine both dataframes due to the previously droped observations.\n",
    "\n",
    "rfa = pd.concat([rfa, users_data], join='inner', axis=1)[rfa.columns.to_list()]\n",
    "#Concats both dataframes, inner join due to observations already eliminated, axis 1 to concat on columns, rfa.columns to only select the need columns\n",
    "\n",
    "# When it comes to the promotions sent and gifts received, we can divide the data in to 6 groups.\n",
    "\n",
    "#-ADATE_X's,\n",
    "#-RFA_X's,\n",
    "#-Aggregations or derivates of the above two groups,\n",
    "#-RDATE_X's,\n",
    "#-RAMNT_X's,\n",
    "#-Aggregations or derivates of the above two groups. Let's first take care of the aggregations or derivatives variables, \n",
    "#as these will probably be the ones we will work with the most, since the other ones are to specific, which is great to do some coherence checks or create other variables, but not to cluster with."
   ]
  },
  {
   "cell_type": "code",
   "execution_count": null,
   "metadata": {
    "executionInfo": {
     "elapsed": 212572,
     "status": "ok",
     "timestamp": 1609782528941,
     "user": {
      "displayName": "",
      "photoUrl": "",
      "userId": ""
     },
     "user_tz": 0
    },
    "id": "tcWRaBKTSEdW"
   },
   "outputs": [],
   "source": [
    "#Typecast all of the date variables to their correct dtype\n",
    "for i in ['ADATE_2', 'ADATE_3', 'ADATE_4', 'ADATE_5', 'ADATE_6', 'ADATE_7',\n",
    "       'ADATE_8', 'ADATE_9', 'ADATE_10', 'ADATE_11', 'ADATE_12', 'ADATE_13',\n",
    "       'ADATE_14', 'ADATE_15', 'ADATE_16', 'ADATE_17', 'ADATE_18', 'ADATE_19',\n",
    "       'ADATE_20', 'ADATE_21', 'ADATE_22', 'ADATE_23', 'ADATE_24', \"MAXADATE\", 'RDATE_3', 'RDATE_4', 'RDATE_5', 'RDATE_6', 'RDATE_7', 'RDATE_8',\n",
    "       'RDATE_9', 'RDATE_10', 'RDATE_11', 'RDATE_12', 'RDATE_13', 'RDATE_14',\n",
    "       'RDATE_15', 'RDATE_16', 'RDATE_17', 'RDATE_18', 'RDATE_19', 'RDATE_20',\n",
    "       'RDATE_21', 'RDATE_22', 'RDATE_23', 'RDATE_24', \"MINRDATE\", \"MAXRDATE\", \"LASTDATE\", \"FISTDATE\", \"NEXTDATE\"]:\n",
    "    rfa[i] =  pd.to_datetime(rfa[i], infer_datetime_format=True)"
   ]
  },
  {
   "cell_type": "code",
   "execution_count": null,
   "metadata": {
    "colab": {
     "base_uri": "https://localhost:8080/"
    },
    "executionInfo": {
     "elapsed": 212568,
     "status": "ok",
     "timestamp": 1609782528942,
     "user": {
      "displayName": "",
      "photoUrl": "",
      "userId": ""
     },
     "user_tz": 0
    },
    "id": "OnKu383NSEdZ",
    "outputId": "5bc93bff-a614-40e1-f955-f418675cae2f"
   },
   "outputs": [],
   "source": [
    "#Coherence 1: the type number of promotions received in the last 12 months being higher than in the lifetime.\n",
    "rfa[(rfa['CARDPROM'] < rfa['CARDPM12']) | (rfa['NUMPROM'] < rfa['NUMPRM12'])].shape[0]"
   ]
  },
  {
   "cell_type": "code",
   "execution_count": null,
   "metadata": {
    "colab": {
     "base_uri": "https://localhost:8080/"
    },
    "executionInfo": {
     "elapsed": 212562,
     "status": "ok",
     "timestamp": 1609782528943,
     "user": {
      "displayName": "",
      "photoUrl": "",
      "userId": ""
     },
     "user_tz": 0
    },
    "id": "060xJaDcSEda",
    "outputId": "64402dfb-598d-406f-cc81-81be589d6e3e"
   },
   "outputs": [],
   "source": [
    "# Nothing seems out of the ordinary, looking at the mean, std and min and max values maybe some outliers, but we will check this better later.\n",
    "rfa[['CARDPROM', 'MAXADATE', 'NUMPROM', 'CARDPM12', 'NUMPRM12']].describe() # Most important thing is that there are no negative values\n",
    "rfa[['CARDPROM', 'MAXADATE', 'NUMPROM', 'CARDPM12', 'NUMPRM12']].dtypes # All of the types are correct\n",
    "\n",
    "#All of the dtypes seem to be correct except the TIMELAG one, it should be int since the variable corresponds to the number of months between the first and second gift\n",
    "rfa[['RAMNTALL', 'NGIFTALL', 'CARDGIFT', 'MINRAMNT', 'MINRDATE', 'MAXRAMNT', 'MAXRDATE', 'LASTGIFT', 'LASTDATE', 'FISTDATE', 'NEXTDATE', 'TIMELAG', 'AVGGIFT']].head()\n",
    "\n",
    "#There are floats because of missing values. But are these actual missing values or observations where a donor simply gave just one gift?\n",
    "rfa[['RAMNTALL', 'NGIFTALL', 'CARDGIFT', 'MINRAMNT', 'MINRDATE', 'MAXRAMNT', 'MAXRDATE', 'LASTGIFT', 'LASTDATE', 'FISTDATE', 'NEXTDATE', 'TIMELAG', 'AVGGIFT']].dtypes\n",
    "\n",
    "rfa['TIMELAG'].isna().sum() #9910 As we can see all of the TIMELAG missing values are observations where a donor simply gave on gift.\n",
    "#So we can't just impute these missing values, we have to change them into something if we want to use this variable."
   ]
  },
  {
   "cell_type": "code",
   "execution_count": null,
   "metadata": {
    "colab": {
     "base_uri": "https://localhost:8080/"
    },
    "executionInfo": {
     "elapsed": 212557,
     "status": "ok",
     "timestamp": 1609782528944,
     "user": {
      "displayName": "",
      "photoUrl": "",
      "userId": ""
     },
     "user_tz": 0
    },
    "id": "R8DPOHgKSEdf",
    "outputId": "49adf3f1-c53e-4981-a4d3-e97311bb6b05"
   },
   "outputs": [],
   "source": [
    "#Coherence 2: However there are some observations where only one gift was donated but a value for TIMELAG exists\n",
    "rfa[(rfa['TIMELAG'].isna()) & (rfa['NGIFTALL'] == 1)].shape[0]"
   ]
  },
  {
   "cell_type": "code",
   "execution_count": null,
   "metadata": {
    "colab": {
     "base_uri": "https://localhost:8080/"
    },
    "executionInfo": {
     "elapsed": 212552,
     "status": "ok",
     "timestamp": 1609782528946,
     "user": {
      "displayName": "",
      "photoUrl": "",
      "userId": ""
     },
     "user_tz": 0
    },
    "id": "3nV6uRt1SEdf",
    "outputId": "ce49077a-28c4-4bc4-9520-e552ae1f1109"
   },
   "outputs": [],
   "source": [
    "#Coherence 3:When this value is zero, this means that just one donation was made but there is a value for NEXTDATE and it is the same as the FISTDATE. We could leave them ,\n",
    "#we just have to be carefull when interpreting zeros in this variable, as they can mean both someone who just donated once or someone who made the first two donations \n",
    "#on the same day.\n",
    "#If we leave these two interpretations open we can also change the missing values of TIMELAG, wich all correspond to someone who made just one gift, to zero.\n",
    "# Or we can delete all of these observations, making sure that there isn't any possibility of a wrong assumption being made.\n",
    "\n",
    "#The bigger problem is when someone made just one donation but the TIMELAG isn't zero. These values for sure need to be deleted.\n",
    "\n",
    "rfa[rfa['NGIFTALL'] == 1 & ~(rfa['TIMELAG'].isna())].shape[0]"
   ]
  },
  {
   "cell_type": "code",
   "execution_count": null,
   "metadata": {
    "colab": {
     "base_uri": "https://localhost:8080/"
    },
    "executionInfo": {
     "elapsed": 212546,
     "status": "ok",
     "timestamp": 1609782528946,
     "user": {
      "displayName": "",
      "photoUrl": "",
      "userId": ""
     },
     "user_tz": 0
    },
    "id": "phEWnMV3SEdg",
    "outputId": "8de38f2c-d05c-4a5b-bdb5-a1c3e50e73f3"
   },
   "outputs": [],
   "source": [
    "#Coherence 4: Since there are so few values that have this problem we will just delete all of them to be sure we aren't doing any assumption that jeopardizes our analysis.\n",
    "(rfa['TIMELAG'][rfa['NGIFTALL'] == 1 & ~(rfa['TIMELAG'].isna())] == 0).value_counts()"
   ]
  },
  {
   "cell_type": "code",
   "execution_count": null,
   "metadata": {
    "executionInfo": {
     "elapsed": 212541,
     "status": "ok",
     "timestamp": 1609782528947,
     "user": {
      "displayName": "",
      "photoUrl": "",
      "userId": ""
     },
     "user_tz": 0
    },
    "id": "RtqUL7BTSEdh"
   },
   "outputs": [],
   "source": [
    "#Coherence 5:There are also some observations were the TIMELAG is zero but more than one gift was given.\n",
    "rfa = rfa[~(rfa['NGIFTALL'] == 1 & ~(rfa['TIMELAG'].isna()))]"
   ]
  },
  {
   "cell_type": "code",
   "execution_count": null,
   "metadata": {
    "colab": {
     "base_uri": "https://localhost:8080/"
    },
    "executionInfo": {
     "elapsed": 212533,
     "status": "ok",
     "timestamp": 1609782528947,
     "user": {
      "displayName": "",
      "photoUrl": "",
      "userId": ""
     },
     "user_tz": 0
    },
    "id": "PLgJz8lTSEdh",
    "outputId": "41236cd8-a5b6-4884-fd6e-9390c2218d9d"
   },
   "outputs": [],
   "source": [
    "#Coherence 6: There are now 895 observations were supposedly the first gift was given in the same date as the second.\n",
    "rfa[(rfa['TIMELAG'] == 0) & (rfa['NGIFTALL'] > 1)].shape[0]"
   ]
  },
  {
   "cell_type": "code",
   "execution_count": null,
   "metadata": {
    "colab": {
     "base_uri": "https://localhost:8080/"
    },
    "executionInfo": {
     "elapsed": 212531,
     "status": "ok",
     "timestamp": 1609782528950,
     "user": {
      "displayName": "",
      "photoUrl": "",
      "userId": ""
     },
     "user_tz": 0
    },
    "id": "Mj9420iGSEdi",
    "outputId": "f78c5d30-0702-40c8-9a5e-4ecaffa29ef1"
   },
   "outputs": [],
   "source": [
    "#Coherence 7: And all of these dates have a TIMELAG of zero.\n",
    "#So we can assume that all of the observations were a donor gave more than one gift but the TIMELAG is zero are correct values,\n",
    "#as at least the first and second gift could be given on the same day.\n",
    "rfa[(rfa['FISTDATE'] == rfa['NEXTDATE']) & (rfa['TIMELAG'] == 0)].shape[0]\n",
    "\n",
    "#All of the other variables don't have any missing values, except FISTDATE, wich we will take care of later."
   ]
  },
  {
   "cell_type": "code",
   "execution_count": null,
   "metadata": {
    "colab": {
     "base_uri": "https://localhost:8080/"
    },
    "executionInfo": {
     "elapsed": 212526,
     "status": "ok",
     "timestamp": 1609782528950,
     "user": {
      "displayName": "",
      "photoUrl": "",
      "userId": ""
     },
     "user_tz": 0
    },
    "id": "HwjjZ5d1SEdj",
    "outputId": "25986fda-c1df-4ef4-fead-2d237835fab0"
   },
   "outputs": [],
   "source": [
    "# Coherence 8:And no incoherences seem to exist, at least of the type total number of promotions received being smaller than total number of card promotions, \n",
    "#date of the first gift being more recent than date of the second gift and smallest donation done being more expensive than highest donation.\n",
    "# And through the describe function we can see that there are no weird negative values, and that some outlier detection migth be needed.\n",
    "\n",
    "rfa[['RAMNTALL', 'NGIFTALL', 'CARDGIFT', 'MINRAMNT', 'MINRDATE', 'MAXRAMNT', 'MAXRDATE', 'LASTGIFT', 'LASTDATE', 'FISTDATE', 'NEXTDATE', 'TIMELAG', 'AVGGIFT']].isna().sum()\n",
    "rfa[['RAMNTALL', 'NGIFTALL', 'CARDGIFT', 'MINRAMNT', 'MINRDATE', 'MAXRAMNT', 'MAXRDATE', 'LASTGIFT', 'LASTDATE', 'FISTDATE', 'NEXTDATE', 'TIMELAG', 'AVGGIFT']].describe().T\n",
    "rfa[(rfa['NGIFTALL'] < rfa['CARDGIFT']) | (rfa['FISTDATE'] > rfa['NEXTDATE']) | (rfa['MINRAMNT'] > rfa['MAXRAMNT'])].shape[0] #0"
   ]
  },
  {
   "cell_type": "code",
   "execution_count": null,
   "metadata": {
    "colab": {
     "base_uri": "https://localhost:8080/",
     "height": 0
    },
    "executionInfo": {
     "elapsed": 212519,
     "status": "ok",
     "timestamp": 1609782528952,
     "user": {
      "displayName": "",
      "photoUrl": "",
      "userId": ""
     },
     "user_tz": 0
    },
    "id": "MYuHk3-rSEdq",
    "outputId": "98ce7605-3645-4168-c70b-b77b313594ca"
   },
   "outputs": [],
   "source": [
    "# As we can see both observations with missing values on FISTDATE have given a lot of gifts, have both values of the second gift \n",
    "# given and have a clearly wrong value for TIMELAG. 1044 months is equivelent to 87 years, so it is safe to assume that we can drop these two records.\n",
    "rfa[['NGIFTALL', 'NEXTDATE', 'TIMELAG']][rfa['FISTDATE'].isna()]"
   ]
  },
  {
   "cell_type": "code",
   "execution_count": null,
   "metadata": {
    "colab": {
     "base_uri": "https://localhost:8080/"
    },
    "executionInfo": {
     "elapsed": 212916,
     "status": "ok",
     "timestamp": 1609782529355,
     "user": {
      "displayName": "",
      "photoUrl": "",
      "userId": ""
     },
     "user_tz": 0
    },
    "id": "cJDN4UJnSEdq",
    "outputId": "82bbefda-4798-4ed6-a948-2579ac00ddb4"
   },
   "outputs": [],
   "source": [
    "#FISTDATE and ODATEDW supposedly have the same information, however in most observations this isn't the case, possibly due to the source of this variables being different.\n",
    "#Since we are not going to use directly any of this variables, and FISTDATE comes from the same source as all of the corresponding promotion and gifts variables, \n",
    "#we will drop ODATEDW. Even though we wil also later drop or not use FISTDATE.\n",
    "rfa = rfa[~(rfa['FISTDATE'].isna())]\n",
    "rfa['FISTDATE'].isna().sum()\n",
    "users_data['ODATEDW'].isna().sum()"
   ]
  },
  {
   "cell_type": "code",
   "execution_count": null,
   "metadata": {
    "executionInfo": {
     "elapsed": 212911,
     "status": "ok",
     "timestamp": 1609782529357,
     "user": {
      "displayName": "",
      "photoUrl": "",
      "userId": ""
     },
     "user_tz": 0
    },
    "id": "7OE0k_9sSEdr"
   },
   "outputs": [],
   "source": [
    "users_data['ODATEDW'] = pd.to_datetime(users_data['ODATEDW'], infer_datetime_format=True)"
   ]
  },
  {
   "cell_type": "code",
   "execution_count": null,
   "metadata": {
    "executionInfo": {
     "elapsed": 212904,
     "status": "ok",
     "timestamp": 1609782529358,
     "user": {
      "displayName": "",
      "photoUrl": "",
      "userId": ""
     },
     "user_tz": 0
    },
    "id": "nGI9a7spMZxn"
   },
   "outputs": [],
   "source": [
    "#Since we already droped some observations, once again we have to remove those observations from users_data\n",
    "users_data = pd.concat([rfa, users_data], join='inner', axis=1)[users_data.columns.to_list()]"
   ]
  },
  {
   "cell_type": "code",
   "execution_count": null,
   "metadata": {
    "colab": {
     "base_uri": "https://localhost:8080/"
    },
    "executionInfo": {
     "elapsed": 212897,
     "status": "ok",
     "timestamp": 1609782529359,
     "user": {
      "displayName": "",
      "photoUrl": "",
      "userId": ""
     },
     "user_tz": 0
    },
    "id": "8W5nKI9JSEds",
    "outputId": "a03328da-3830-48d8-eaea-69ad64e4c0cd"
   },
   "outputs": [],
   "source": [
    "(users_data['ODATEDW'] != rfa['FISTDATE']).sum()"
   ]
  },
  {
   "cell_type": "code",
   "execution_count": null,
   "metadata": {
    "executionInfo": {
     "elapsed": 212890,
     "status": "ok",
     "timestamp": 1609782529359,
     "user": {
      "displayName": "",
      "photoUrl": "",
      "userId": ""
     },
     "user_tz": 0
    },
    "id": "y1pzbEBpSEds"
   },
   "outputs": [],
   "source": [
    "users_data.drop(columns = ['ODATEDW'], inplace = True)"
   ]
  },
  {
   "cell_type": "code",
   "execution_count": null,
   "metadata": {
    "colab": {
     "base_uri": "https://localhost:8080/"
    },
    "executionInfo": {
     "elapsed": 215019,
     "status": "ok",
     "timestamp": 1609782531493,
     "user": {
      "displayName": "",
      "photoUrl": "",
      "userId": ""
     },
     "user_tz": 0
    },
    "id": "mhA4FeqrSEdt",
    "outputId": "3fa3b41b-3efc-4f10-8903-8af2f2247e6e"
   },
   "outputs": [],
   "source": [
    "# Lastly we can see if the timelag value is correct.\n",
    "#And as we can see it is.\n",
    "((((rfa['NEXTDATE'].apply(lambda x: x.year) - rfa['FISTDATE'].apply(lambda x: x.year)) * 12 + rfa['NEXTDATE'].apply(lambda x: x.month) - rfa['FISTDATE'].apply(lambda x: x.month)) != rfa['TIMELAG']) & ~(rfa['TIMELAG'].isna()) & ~(rfa['NEXTDATE'].isna()) & ~(rfa['FISTDATE'].isna())).value_counts()"
   ]
  },
  {
   "cell_type": "markdown",
   "metadata": {
    "id": "EiMFEotzSEdt"
   },
   "source": [
    "**ADATE_X, RDATE_X and LASTDATE Treatment**"
   ]
  },
  {
   "cell_type": "code",
   "execution_count": null,
   "metadata": {
    "colab": {
     "base_uri": "https://localhost:8080/"
    },
    "executionInfo": {
     "elapsed": 215013,
     "status": "ok",
     "timestamp": 1609782531494,
     "user": {
      "displayName": "",
      "photoUrl": "",
      "userId": ""
     },
     "user_tz": 0
    },
    "id": "8iD9Di9oSEdu",
    "outputId": "59af1c93-4105-4897-8329-4cc64a094c4a"
   },
   "outputs": [],
   "source": [
    "# As we can see we have a lot of missing values in most of these variables., which most likely correspond to promotions or gifts that werent sent.\n",
    "rfa[['ADATE_2', 'ADATE_3', 'ADATE_4', 'ADATE_5', 'ADATE_6', 'ADATE_7',\n",
    "       'ADATE_8', 'ADATE_9', 'ADATE_10', 'ADATE_11', 'ADATE_12', 'ADATE_13',\n",
    "       'ADATE_14', 'ADATE_15', 'ADATE_16', 'ADATE_17', 'ADATE_18', 'ADATE_19',\n",
    "       'ADATE_20', 'ADATE_21', 'ADATE_22', 'ADATE_23', 'ADATE_24', 'RDATE_3', 'RDATE_4', 'RDATE_5', 'RDATE_6', 'RDATE_7', 'RDATE_8',\n",
    "       'RDATE_9', 'RDATE_10', 'RDATE_11', 'RDATE_12', 'RDATE_13', 'RDATE_14',\n",
    "       'RDATE_15', 'RDATE_16', 'RDATE_17', 'RDATE_18', 'RDATE_19', 'RDATE_20',\n",
    "       'RDATE_21', 'RDATE_22', 'RDATE_23', 'RDATE_24']].isna().sum()"
   ]
  },
  {
   "cell_type": "markdown",
   "metadata": {
    "id": "uZlYNq7BSEdw"
   },
   "source": [
    "We can check wether there are any observations were the LASTDATE isn't more recent than RDATE_X."
   ]
  },
  {
   "cell_type": "code",
   "execution_count": null,
   "metadata": {
    "colab": {
     "base_uri": "https://localhost:8080/"
    },
    "executionInfo": {
     "elapsed": 215008,
     "status": "ok",
     "timestamp": 1609782531495,
     "user": {
      "displayName": "",
      "photoUrl": "",
      "userId": ""
     },
     "user_tz": 0
    },
    "id": "b75e5EM0SEdw",
    "outputId": "95141e96-dcbc-4203-fad5-83ed092161e1"
   },
   "outputs": [],
   "source": [
    "#Coherence 9:We can check whether there are any observations were the LASTDATE isn't more recent than RDATE_X.\n",
    "(rfa[(rfa['LASTDATE'] < rfa['RDATE_3']) |\n",
    "     (rfa['LASTDATE'] < rfa['RDATE_4']) |\n",
    "     (rfa['LASTDATE'] < rfa['RDATE_5']) |\n",
    "     (rfa['LASTDATE'] < rfa['RDATE_6']) |\n",
    "     (rfa['LASTDATE'] < rfa['RDATE_7']) |\n",
    "     (rfa['LASTDATE'] < rfa['RDATE_8']) |\n",
    "     (rfa['LASTDATE'] < rfa['RDATE_9']) |\n",
    "     (rfa['LASTDATE'] < rfa['RDATE_10']) |\n",
    "     (rfa['LASTDATE'] < rfa['RDATE_11']) |\n",
    "     (rfa['LASTDATE'] < rfa['RDATE_12']) |\n",
    "     (rfa['LASTDATE'] < rfa['RDATE_13']) |\n",
    "     (rfa['LASTDATE'] < rfa['RDATE_14']) |\n",
    "     (rfa['LASTDATE'] < rfa['RDATE_15']) |\n",
    "     (rfa['LASTDATE'] < rfa['RDATE_16']) |\n",
    "     (rfa['LASTDATE'] < rfa['RDATE_17']) |\n",
    "     (rfa['LASTDATE'] < rfa['RDATE_18']) |\n",
    "     (rfa['LASTDATE'] < rfa['RDATE_19']) |\n",
    "     (rfa['LASTDATE'] < rfa['RDATE_20']) |\n",
    "     (rfa['LASTDATE'] < rfa['RDATE_21']) |\n",
    "     (rfa['LASTDATE'] < rfa['RDATE_22']) |\n",
    "     (rfa['LASTDATE'] < rfa['RDATE_23']) |\n",
    "     (rfa['LASTDATE'] < rfa['RDATE_24']) ].shape[0] / rfa.shape[0]) * 100\n",
    "\n",
    "# Only 0.08% of observations have this problem, we can just change the value of LASTDATE, guarantying that this is infact the last known date a donor gave a gift."
   ]
  },
  {
   "cell_type": "code",
   "execution_count": null,
   "metadata": {
    "executionInfo": {
     "elapsed": 215005,
     "status": "ok",
     "timestamp": 1609782531498,
     "user": {
      "displayName": "",
      "photoUrl": "",
      "userId": ""
     },
     "user_tz": 0
    },
    "id": "7yu2bJOnSEdx"
   },
   "outputs": [],
   "source": [
    "#Coherence 10: In theory, the LASTDATE should be one of the values of RDATE_X, however for 13% of observations this isn't the case. \n",
    "#But there is always the possibility that the last gift didn't correspond to any of the promotions we have on our dataset.\n",
    "#Since there are so many observations where this happens, we think the problem is in our initial assumption and not on the data itself.\n",
    "\n",
    "rfa['LASTDATE'][(rfa['LASTDATE'] < rfa['RDATE_3']) |\n",
    "     (rfa['LASTDATE'] < rfa['RDATE_4']) |\n",
    "     (rfa['LASTDATE'] < rfa['RDATE_5']) |\n",
    "     (rfa['LASTDATE'] < rfa['RDATE_6']) |\n",
    "     (rfa['LASTDATE'] < rfa['RDATE_7']) |\n",
    "     (rfa['LASTDATE'] < rfa['RDATE_8']) |\n",
    "     (rfa['LASTDATE'] < rfa['RDATE_9']) |\n",
    "     (rfa['LASTDATE'] < rfa['RDATE_10']) |\n",
    "     (rfa['LASTDATE'] < rfa['RDATE_11']) |\n",
    "     (rfa['LASTDATE'] < rfa['RDATE_12']) |\n",
    "     (rfa['LASTDATE'] < rfa['RDATE_13']) |\n",
    "     (rfa['LASTDATE'] < rfa['RDATE_14']) |\n",
    "     (rfa['LASTDATE'] < rfa['RDATE_15']) |\n",
    "     (rfa['LASTDATE'] < rfa['RDATE_16']) |\n",
    "     (rfa['LASTDATE'] < rfa['RDATE_17']) |\n",
    "     (rfa['LASTDATE'] < rfa['RDATE_18']) |\n",
    "     (rfa['LASTDATE'] < rfa['RDATE_19']) |\n",
    "     (rfa['LASTDATE'] < rfa['RDATE_20']) |\n",
    "     (rfa['LASTDATE'] < rfa['RDATE_21']) |\n",
    "     (rfa['LASTDATE'] < rfa['RDATE_22']) |\n",
    "     (rfa['LASTDATE'] < rfa['RDATE_23']) |\n",
    "     (rfa['LASTDATE'] < rfa['RDATE_24']) ] = rfa[['RDATE_3', 'RDATE_4', 'RDATE_5', 'RDATE_6', 'RDATE_7', 'RDATE_8',\n",
    "                                                  'RDATE_9', 'RDATE_10', 'RDATE_11', 'RDATE_12', 'RDATE_13', 'RDATE_14', 'RDATE_15', 'RDATE_16', 'RDATE_17', 'RDATE_18', 'RDATE_19', 'RDATE_20', 'RDATE_21', 'RDATE_22', 'RDATE_23', 'RDATE_24']][\n",
    "    (rfa['LASTDATE'] < rfa['RDATE_3']) |\n",
    "     (rfa['LASTDATE'] < rfa['RDATE_4']) |\n",
    "     (rfa['LASTDATE'] < rfa['RDATE_5']) |\n",
    "     (rfa['LASTDATE'] < rfa['RDATE_6']) |\n",
    "     (rfa['LASTDATE'] < rfa['RDATE_7']) |\n",
    "     (rfa['LASTDATE'] < rfa['RDATE_8']) |\n",
    "     (rfa['LASTDATE'] < rfa['RDATE_9']) |\n",
    "     (rfa['LASTDATE'] < rfa['RDATE_10']) |\n",
    "     (rfa['LASTDATE'] < rfa['RDATE_11']) |\n",
    "     (rfa['LASTDATE'] < rfa['RDATE_12']) |\n",
    "     (rfa['LASTDATE'] < rfa['RDATE_13']) |\n",
    "     (rfa['LASTDATE'] < rfa['RDATE_14']) |\n",
    "     (rfa['LASTDATE'] < rfa['RDATE_15']) |\n",
    "     (rfa['LASTDATE'] < rfa['RDATE_16']) |\n",
    "     (rfa['LASTDATE'] < rfa['RDATE_17']) |\n",
    "     (rfa['LASTDATE'] < rfa['RDATE_18']) |\n",
    "     (rfa['LASTDATE'] < rfa['RDATE_19']) |\n",
    "     (rfa['LASTDATE'] < rfa['RDATE_20']) |\n",
    "     (rfa['LASTDATE'] < rfa['RDATE_21']) |\n",
    "     (rfa['LASTDATE'] < rfa['RDATE_22']) |\n",
    "     (rfa['LASTDATE'] < rfa['RDATE_23']) |\n",
    "     (rfa['LASTDATE'] < rfa['RDATE_24']) ].max(axis = 1)"
   ]
  },
  {
   "cell_type": "code",
   "execution_count": null,
   "metadata": {
    "colab": {
     "base_uri": "https://localhost:8080/"
    },
    "executionInfo": {
     "elapsed": 214998,
     "status": "ok",
     "timestamp": 1609782531499,
     "user": {
      "displayName": "",
      "photoUrl": "",
      "userId": ""
     },
     "user_tz": 0
    },
    "id": "nXepdmpDSEdx",
    "outputId": "9c4c28e2-84df-4a8c-da1c-8469de273bb6"
   },
   "outputs": [],
   "source": [
    "(rfa[(rfa['LASTDATE'] != rfa['RDATE_3']) &\n",
    "     (rfa['LASTDATE'] != rfa['RDATE_4']) &\n",
    "     (rfa['LASTDATE'] != rfa['RDATE_5']) &\n",
    "     (rfa['LASTDATE'] != rfa['RDATE_6']) &\n",
    "     (rfa['LASTDATE'] != rfa['RDATE_7']) &\n",
    "     (rfa['LASTDATE'] != rfa['RDATE_8']) &\n",
    "     (rfa['LASTDATE'] != rfa['RDATE_9']) &\n",
    "     (rfa['LASTDATE'] != rfa['RDATE_10']) &\n",
    "     (rfa['LASTDATE'] != rfa['RDATE_11']) &\n",
    "     (rfa['LASTDATE'] != rfa['RDATE_12']) &\n",
    "     (rfa['LASTDATE'] != rfa['RDATE_13']) &\n",
    "     (rfa['LASTDATE'] != rfa['RDATE_14']) &\n",
    "     (rfa['LASTDATE'] != rfa['RDATE_15']) &\n",
    "     (rfa['LASTDATE'] != rfa['RDATE_16']) &\n",
    "     (rfa['LASTDATE'] != rfa['RDATE_17']) &\n",
    "     (rfa['LASTDATE'] != rfa['RDATE_18']) &\n",
    "     (rfa['LASTDATE'] != rfa['RDATE_19']) &\n",
    "     (rfa['LASTDATE'] != rfa['RDATE_20']) &\n",
    "     (rfa['LASTDATE'] != rfa['RDATE_21']) &\n",
    "     (rfa['LASTDATE'] != rfa['RDATE_22']) &\n",
    "     (rfa['LASTDATE'] != rfa['RDATE_23']) &\n",
    "     (rfa['LASTDATE'] != rfa['RDATE_24']) ].shape[0] / rfa.shape[0]) * 100"
   ]
  },
  {
   "cell_type": "markdown",
   "metadata": {
    "id": "4_Nlj2wFSEdx"
   },
   "source": [
    "It doesn't make sense for a donor to give a gift regarding a promotion he hasn't received yet."
   ]
  },
  {
   "cell_type": "code",
   "execution_count": null,
   "metadata": {
    "colab": {
     "base_uri": "https://localhost:8080/"
    },
    "executionInfo": {
     "elapsed": 215570,
     "status": "ok",
     "timestamp": 1609782532076,
     "user": {
      "displayName": "",
      "photoUrl": "",
      "userId": ""
     },
     "user_tz": 0
    },
    "id": "KqO-XXB-SEdy",
    "outputId": "c340d57f-78f4-4a17-bf47-6eeb7f46a323"
   },
   "outputs": [],
   "source": [
    "#Coherence 11: It doesn't make sense for a donor to give a gift regarding a promotion he hasn't received yet.\n",
    "(rfa[(rfa['RDATE_3'] < rfa['ADATE_3']) |\n",
    "     (rfa['RDATE_4'] < rfa['ADATE_4']) |\n",
    "     (rfa['RDATE_5'] < rfa['ADATE_5']) |\n",
    "     (rfa['RDATE_6'] < rfa['ADATE_6']) |\n",
    "     (rfa['RDATE_7'] < rfa['ADATE_7']) |\n",
    "     (rfa['RDATE_8'] < rfa['ADATE_8']) |\n",
    "     (rfa['RDATE_9'] < rfa['ADATE_9']) |\n",
    "     (rfa['RDATE_10'] < rfa['ADATE_10']) |\n",
    "     (rfa['RDATE_11'] < rfa['ADATE_11']) |\n",
    "     (rfa['RDATE_12'] < rfa['ADATE_12']) |\n",
    "     (rfa['RDATE_13'] < rfa['ADATE_13']) |\n",
    "     (rfa['RDATE_14'] < rfa['ADATE_14']) |\n",
    "     (rfa['RDATE_15'] < rfa['ADATE_15']) |\n",
    "     (rfa['RDATE_16'] < rfa['ADATE_16']) |\n",
    "     (rfa['RDATE_17'] < rfa['ADATE_17']) |\n",
    "     (rfa['RDATE_18'] < rfa['ADATE_18']) |\n",
    "     (rfa['RDATE_19'] < rfa['ADATE_19']) |\n",
    "     (rfa['RDATE_20'] < rfa['ADATE_20']) |\n",
    "     (rfa['RDATE_21'] < rfa['ADATE_21']) |\n",
    "     (rfa['RDATE_22'] < rfa['ADATE_22']) |\n",
    "     (rfa['RDATE_23'] < rfa['ADATE_23']) |\n",
    "     (rfa['RDATE_24'] < rfa['ADATE_24']) ].shape[0] / rfa.shape[0]) * 100\n",
    "\n",
    "     #0.8% of data points have this issue, but since the problem is in this specific variables and we won't use them, we believe there is no need to drop these observations."
   ]
  },
  {
   "cell_type": "markdown",
   "metadata": {
    "id": "PCV0Opl6SEdz"
   },
   "source": [
    "**RFA_x and RAMNT_X Treatment**"
   ]
  },
  {
   "cell_type": "code",
   "execution_count": null,
   "metadata": {
    "colab": {
     "base_uri": "https://localhost:8080/"
    },
    "executionInfo": {
     "elapsed": 215564,
     "status": "ok",
     "timestamp": 1609782532077,
     "user": {
      "displayName": "",
      "photoUrl": "",
      "userId": ""
     },
     "user_tz": 0
    },
    "id": "SirFD9w5SEdz",
    "outputId": "7e4802cc-fd41-4db7-b6f3-8a000c6b4805"
   },
   "outputs": [],
   "source": [
    "# All variables have the correct dtype.\n",
    "# No negative values, some outliers for sure,\n",
    "# but if we are not going to use these variables, since the outliers seem to be correct values, just extreme, there is no point in removing the records.\n",
    "# There is one record where the value of the smallest donation is higher than one of the gifts given in one of the various promotions and 23 records \n",
    "# were the highest donation is smaller than one of the gifts of the various promotions. So we will correct these values.\n",
    "\n",
    "rfa[['RAMNT_3', 'RAMNT_4', 'RAMNT_5', 'RAMNT_6', 'RAMNT_7', 'RAMNT_8', 'RAMNT_9', 'RAMNT_10', 'RAMNT_11', 'RAMNT_12', 'RAMNT_13', 'RAMNT_14', 'RAMNT_15', 'RAMNT_16', 'RAMNT_17', 'RAMNT_18', 'RAMNT_19', 'RAMNT_20', 'RAMNT_21', 'RAMNT_22', 'RAMNT_23', 'RAMNT_24']].dtypes"
   ]
  },
  {
   "cell_type": "code",
   "execution_count": null,
   "metadata": {
    "colab": {
     "base_uri": "https://localhost:8080/"
    },
    "executionInfo": {
     "elapsed": 215557,
     "status": "ok",
     "timestamp": 1609782532077,
     "user": {
      "displayName": "",
      "photoUrl": "",
      "userId": ""
     },
     "user_tz": 0
    },
    "id": "FL8gFvxmSEd3",
    "outputId": "9f66fb88-13cc-45a2-fb22-efc3e50f8437"
   },
   "outputs": [],
   "source": [
    "rfa[(rfa['MINRAMNT'] > rfa['RAMNT_3']) |\n",
    "    (rfa['MINRAMNT'] > rfa['RAMNT_4']) |\n",
    "    (rfa['MINRAMNT'] > rfa['RAMNT_5']) |\n",
    "    (rfa['MINRAMNT'] > rfa['RAMNT_6']) |\n",
    "    (rfa['MINRAMNT'] > rfa['RAMNT_7']) |\n",
    "    (rfa['MINRAMNT'] > rfa['RAMNT_8']) |\n",
    "    (rfa['MINRAMNT'] > rfa['RAMNT_9']) |\n",
    "    (rfa['MINRAMNT'] > rfa['RAMNT_10']) |\n",
    "    (rfa['MINRAMNT'] > rfa['RAMNT_11']) |\n",
    "    (rfa['MINRAMNT'] > rfa['RAMNT_12']) |\n",
    "    (rfa['MINRAMNT'] > rfa['RAMNT_13']) |\n",
    "    (rfa['MINRAMNT'] > rfa['RAMNT_14']) |\n",
    "    (rfa['MINRAMNT'] > rfa['RAMNT_15']) |\n",
    "    (rfa['MINRAMNT'] > rfa['RAMNT_16']) |\n",
    "    (rfa['MINRAMNT'] > rfa['RAMNT_17']) |\n",
    "    (rfa['MINRAMNT'] > rfa['RAMNT_18']) |\n",
    "    (rfa['MINRAMNT'] > rfa['RAMNT_19']) |\n",
    "    (rfa['MINRAMNT'] > rfa['RAMNT_20']) |\n",
    "    (rfa['MINRAMNT'] > rfa['RAMNT_21']) |\n",
    "    (rfa['MINRAMNT'] > rfa['RAMNT_22']) |\n",
    "    (rfa['MINRAMNT'] > rfa['RAMNT_23']) |\n",
    "    (rfa['MINRAMNT'] > rfa['RAMNT_24'])].shape[0]"
   ]
  },
  {
   "cell_type": "code",
   "execution_count": null,
   "metadata": {
    "executionInfo": {
     "elapsed": 215553,
     "status": "ok",
     "timestamp": 1609782532078,
     "user": {
      "displayName": "",
      "photoUrl": "",
      "userId": ""
     },
     "user_tz": 0
    },
    "id": "AckxTXf0SEd3"
   },
   "outputs": [],
   "source": [
    "rfa['MINRAMNT'][(rfa['MINRAMNT'] > rfa['RAMNT_3']) |\n",
    "    (rfa['MINRAMNT'] > rfa['RAMNT_4']) |\n",
    "    (rfa['MINRAMNT'] > rfa['RAMNT_5']) |\n",
    "    (rfa['MINRAMNT'] > rfa['RAMNT_6']) |\n",
    "    (rfa['MINRAMNT'] > rfa['RAMNT_7']) |\n",
    "    (rfa['MINRAMNT'] > rfa['RAMNT_8']) |\n",
    "    (rfa['MINRAMNT'] > rfa['RAMNT_9']) |\n",
    "    (rfa['MINRAMNT'] > rfa['RAMNT_10']) |\n",
    "    (rfa['MINRAMNT'] > rfa['RAMNT_11']) |\n",
    "    (rfa['MINRAMNT'] > rfa['RAMNT_12']) |\n",
    "    (rfa['MINRAMNT'] > rfa['RAMNT_13']) |\n",
    "    (rfa['MINRAMNT'] > rfa['RAMNT_14']) |\n",
    "    (rfa['MINRAMNT'] > rfa['RAMNT_15']) |\n",
    "    (rfa['MINRAMNT'] > rfa['RAMNT_16']) |\n",
    "    (rfa['MINRAMNT'] > rfa['RAMNT_17']) |\n",
    "    (rfa['MINRAMNT'] > rfa['RAMNT_18']) |\n",
    "    (rfa['MINRAMNT'] > rfa['RAMNT_19']) |\n",
    "    (rfa['MINRAMNT'] > rfa['RAMNT_20']) |\n",
    "    (rfa['MINRAMNT'] > rfa['RAMNT_21']) |\n",
    "    (rfa['MINRAMNT'] > rfa['RAMNT_22']) |\n",
    "    (rfa['MINRAMNT'] > rfa['RAMNT_23']) |\n",
    "    (rfa['MINRAMNT'] > rfa['RAMNT_24'])] = rfa[['RAMNT_3', 'RAMNT_4', 'RAMNT_5', 'RAMNT_6', 'RAMNT_7', 'RAMNT_8', 'RAMNT_9', 'RAMNT_10', 'RAMNT_11', 'RAMNT_12', 'RAMNT_13', 'RAMNT_14', 'RAMNT_15', 'RAMNT_16', 'RAMNT_17', 'RAMNT_18', 'RAMNT_19', 'RAMNT_20', 'RAMNT_21', 'RAMNT_22', 'RAMNT_23', 'RAMNT_24']][(rfa['MINRAMNT'] > rfa['RAMNT_3']) |\n",
    "    (rfa['MINRAMNT'] > rfa['RAMNT_4']) |\n",
    "    (rfa['MINRAMNT'] > rfa['RAMNT_5']) |\n",
    "    (rfa['MINRAMNT'] > rfa['RAMNT_6']) |\n",
    "    (rfa['MINRAMNT'] > rfa['RAMNT_7']) |\n",
    "    (rfa['MINRAMNT'] > rfa['RAMNT_8']) |\n",
    "    (rfa['MINRAMNT'] > rfa['RAMNT_9']) |\n",
    "    (rfa['MINRAMNT'] > rfa['RAMNT_10']) |\n",
    "    (rfa['MINRAMNT'] > rfa['RAMNT_11']) |\n",
    "    (rfa['MINRAMNT'] > rfa['RAMNT_12']) |\n",
    "    (rfa['MINRAMNT'] > rfa['RAMNT_13']) |\n",
    "    (rfa['MINRAMNT'] > rfa['RAMNT_14']) |\n",
    "    (rfa['MINRAMNT'] > rfa['RAMNT_15']) |\n",
    "    (rfa['MINRAMNT'] > rfa['RAMNT_16']) |\n",
    "    (rfa['MINRAMNT'] > rfa['RAMNT_17']) |\n",
    "    (rfa['MINRAMNT'] > rfa['RAMNT_18']) |\n",
    "    (rfa['MINRAMNT'] > rfa['RAMNT_19']) |\n",
    "    (rfa['MINRAMNT'] > rfa['RAMNT_20']) |\n",
    "    (rfa['MINRAMNT'] > rfa['RAMNT_21']) |\n",
    "    (rfa['MINRAMNT'] > rfa['RAMNT_22']) |\n",
    "    (rfa['MINRAMNT'] > rfa['RAMNT_23']) |\n",
    "    (rfa['MINRAMNT'] > rfa['RAMNT_24'])].min(axis=1)"
   ]
  },
  {
   "cell_type": "code",
   "execution_count": null,
   "metadata": {
    "colab": {
     "base_uri": "https://localhost:8080/"
    },
    "executionInfo": {
     "elapsed": 215546,
     "status": "ok",
     "timestamp": 1609782532078,
     "user": {
      "displayName": "",
      "photoUrl": "",
      "userId": ""
     },
     "user_tz": 0
    },
    "id": "tSouiYdBSEd4",
    "outputId": "b757353f-5598-4dd6-e54f-4add10df9985"
   },
   "outputs": [],
   "source": [
    "rfa[(rfa['MAXRAMNT'] < rfa['RAMNT_3']) |\n",
    "    (rfa['MAXRAMNT'] < rfa['RAMNT_4']) |\n",
    "    (rfa['MAXRAMNT'] < rfa['RAMNT_5']) |\n",
    "    (rfa['MAXRAMNT'] < rfa['RAMNT_6']) |\n",
    "    (rfa['MAXRAMNT'] < rfa['RAMNT_7']) |\n",
    "    (rfa['MAXRAMNT'] < rfa['RAMNT_8']) |\n",
    "    (rfa['MAXRAMNT'] < rfa['RAMNT_9']) |\n",
    "    (rfa['MAXRAMNT'] < rfa['RAMNT_10']) |\n",
    "    (rfa['MAXRAMNT'] < rfa['RAMNT_11']) |\n",
    "    (rfa['MAXRAMNT'] < rfa['RAMNT_12']) |\n",
    "    (rfa['MAXRAMNT'] < rfa['RAMNT_13']) |\n",
    "    (rfa['MAXRAMNT'] < rfa['RAMNT_14']) |\n",
    "    (rfa['MAXRAMNT'] < rfa['RAMNT_15']) |\n",
    "    (rfa['MAXRAMNT'] < rfa['RAMNT_16']) |\n",
    "    (rfa['MAXRAMNT'] < rfa['RAMNT_17']) |\n",
    "    (rfa['MAXRAMNT'] < rfa['RAMNT_18']) |\n",
    "    (rfa['MAXRAMNT'] < rfa['RAMNT_19']) |\n",
    "    (rfa['MAXRAMNT'] < rfa['RAMNT_20']) |\n",
    "    (rfa['MAXRAMNT'] < rfa['RAMNT_21']) |\n",
    "    (rfa['MAXRAMNT'] < rfa['RAMNT_22']) |\n",
    "    (rfa['MAXRAMNT'] < rfa['RAMNT_23']) |\n",
    "    (rfa['MAXRAMNT'] < rfa['RAMNT_24'])].shape[0]"
   ]
  },
  {
   "cell_type": "code",
   "execution_count": null,
   "metadata": {
    "executionInfo": {
     "elapsed": 215541,
     "status": "ok",
     "timestamp": 1609782532079,
     "user": {
      "displayName": "",
      "photoUrl": "",
      "userId": ""
     },
     "user_tz": 0
    },
    "id": "7cwe3WZRSEd4"
   },
   "outputs": [],
   "source": [
    "rfa['MAXRAMNT'][(rfa['MAXRAMNT'] < rfa['RAMNT_3']) |\n",
    "    (rfa['MAXRAMNT'] < rfa['RAMNT_4']) |\n",
    "    (rfa['MAXRAMNT'] < rfa['RAMNT_5']) |\n",
    "    (rfa['MAXRAMNT'] < rfa['RAMNT_6']) |\n",
    "    (rfa['MAXRAMNT'] < rfa['RAMNT_7']) |\n",
    "    (rfa['MAXRAMNT'] < rfa['RAMNT_8']) |\n",
    "    (rfa['MAXRAMNT'] < rfa['RAMNT_9']) |\n",
    "    (rfa['MAXRAMNT'] < rfa['RAMNT_10']) |\n",
    "    (rfa['MAXRAMNT'] < rfa['RAMNT_11']) |\n",
    "    (rfa['MAXRAMNT'] < rfa['RAMNT_12']) |\n",
    "    (rfa['MAXRAMNT'] < rfa['RAMNT_13']) |\n",
    "    (rfa['MAXRAMNT'] < rfa['RAMNT_14']) |\n",
    "    (rfa['MAXRAMNT'] < rfa['RAMNT_15']) |\n",
    "    (rfa['MAXRAMNT'] < rfa['RAMNT_16']) |\n",
    "    (rfa['MAXRAMNT'] < rfa['RAMNT_17']) |\n",
    "    (rfa['MAXRAMNT'] < rfa['RAMNT_18']) |\n",
    "    (rfa['MAXRAMNT'] < rfa['RAMNT_19']) |\n",
    "    (rfa['MAXRAMNT'] < rfa['RAMNT_20']) |\n",
    "    (rfa['MAXRAMNT'] < rfa['RAMNT_21']) |\n",
    "    (rfa['MAXRAMNT'] < rfa['RAMNT_22']) |\n",
    "    (rfa['MAXRAMNT'] < rfa['RAMNT_23']) |\n",
    "    (rfa['MAXRAMNT'] < rfa['RAMNT_24'])] = rfa[['RAMNT_3', 'RAMNT_4', 'RAMNT_5', 'RAMNT_6', 'RAMNT_7', 'RAMNT_8', 'RAMNT_9', 'RAMNT_10', 'RAMNT_11', 'RAMNT_12', 'RAMNT_13', 'RAMNT_14', 'RAMNT_15', 'RAMNT_16', 'RAMNT_17', 'RAMNT_18', 'RAMNT_19', 'RAMNT_20', 'RAMNT_21', 'RAMNT_22', 'RAMNT_23', 'RAMNT_24']][(rfa['MAXRAMNT'] < rfa['RAMNT_3']) |\n",
    "    (rfa['MAXRAMNT'] < rfa['RAMNT_4']) |\n",
    "    (rfa['MAXRAMNT'] < rfa['RAMNT_5']) |\n",
    "    (rfa['MAXRAMNT'] < rfa['RAMNT_6']) |\n",
    "    (rfa['MAXRAMNT'] < rfa['RAMNT_7']) |\n",
    "    (rfa['MAXRAMNT'] < rfa['RAMNT_8']) |\n",
    "    (rfa['MAXRAMNT'] < rfa['RAMNT_9']) |\n",
    "    (rfa['MAXRAMNT'] < rfa['RAMNT_10']) |\n",
    "    (rfa['MAXRAMNT'] < rfa['RAMNT_11']) |\n",
    "    (rfa['MAXRAMNT'] < rfa['RAMNT_12']) |\n",
    "    (rfa['MAXRAMNT'] < rfa['RAMNT_13']) |\n",
    "    (rfa['MAXRAMNT'] < rfa['RAMNT_14']) |\n",
    "    (rfa['MAXRAMNT'] < rfa['RAMNT_15']) |\n",
    "    (rfa['MAXRAMNT'] < rfa['RAMNT_16']) |\n",
    "    (rfa['MAXRAMNT'] < rfa['RAMNT_17']) |\n",
    "    (rfa['MAXRAMNT'] < rfa['RAMNT_18']) |\n",
    "    (rfa['MAXRAMNT'] < rfa['RAMNT_19']) |\n",
    "    (rfa['MAXRAMNT'] < rfa['RAMNT_20']) |\n",
    "    (rfa['MAXRAMNT'] < rfa['RAMNT_21']) |\n",
    "    (rfa['MAXRAMNT'] < rfa['RAMNT_22']) |\n",
    "    (rfa['MAXRAMNT'] < rfa['RAMNT_23']) |\n",
    "    (rfa['MAXRAMNT'] < rfa['RAMNT_24'])].max(axis=1)"
   ]
  },
  {
   "cell_type": "code",
   "execution_count": null,
   "metadata": {
    "executionInfo": {
     "elapsed": 215535,
     "status": "ok",
     "timestamp": 1609782532081,
     "user": {
      "displayName": "",
      "photoUrl": "",
      "userId": ""
     },
     "user_tz": 0
    },
    "id": "cl9iSLdjSEd5"
   },
   "outputs": [],
   "source": [
    "# Lets sum all of the values of all the gifts given, and check whether the total dollar amount of gifts given is smaller than this.\n",
    "# A smaller value of total dollar amount of gifts given regarding the promotions than RAMNTALL is comprehensible, \n",
    "# other donations regarding different promotions migth have been given, however a higher value is clearly wrong, we will change the value of these observations.\n",
    "rfa['TOTL_GIFTS_AMOUNT'] = rfa[['RAMNT_3', 'RAMNT_4', 'RAMNT_5', 'RAMNT_6', 'RAMNT_7', 'RAMNT_8', 'RAMNT_9', 'RAMNT_10', 'RAMNT_11', 'RAMNT_12', 'RAMNT_13', 'RAMNT_14', 'RAMNT_15', 'RAMNT_16', 'RAMNT_17', 'RAMNT_18', 'RAMNT_19', 'RAMNT_20', 'RAMNT_21', 'RAMNT_22', 'RAMNT_23', 'RAMNT_24']].sum(axis = 1)"
   ]
  },
  {
   "cell_type": "code",
   "execution_count": null,
   "metadata": {
    "colab": {
     "base_uri": "https://localhost:8080/"
    },
    "executionInfo": {
     "elapsed": 215528,
     "status": "ok",
     "timestamp": 1609782532081,
     "user": {
      "displayName": "",
      "photoUrl": "",
      "userId": ""
     },
     "user_tz": 0
    },
    "id": "-OCrrpHkSEd5",
    "outputId": "06d3b74b-5ac7-4aca-fbe4-c56b1f1dfc8d"
   },
   "outputs": [],
   "source": [
    "(rfa['TOTL_GIFTS_AMOUNT'] > rfa['RAMNTALL']).sum()"
   ]
  },
  {
   "cell_type": "code",
   "execution_count": null,
   "metadata": {
    "executionInfo": {
     "elapsed": 215523,
     "status": "ok",
     "timestamp": 1609782532082,
     "user": {
      "displayName": "",
      "photoUrl": "",
      "userId": ""
     },
     "user_tz": 0
    },
    "id": "XveTYsPZSEd5"
   },
   "outputs": [],
   "source": [
    "rfa['RAMNTALL'][(rfa['TOTL_GIFTS_AMOUNT'] > rfa['RAMNTALL'])] = rfa['TOTL_GIFTS_AMOUNT'][(rfa['TOTL_GIFTS_AMOUNT'] > rfa['RAMNTALL'])]"
   ]
  },
  {
   "cell_type": "markdown",
   "metadata": {
    "id": "NRgM8jJASEd6"
   },
   "source": [
    "We have the total amount of donations given, but we can also calculate the total amount of card donations given.\n",
    "\n",
    "Card donations being the ones of the promotions FS, GK, TK, SK, NK, XK, UF, UU, just like defined on the metadata.\n",
    "\n",
    "And the total amount of notepad donations, X1, G1.\n",
    "\n",
    "And promotions with only labels or stickers, LL, WL, CC."
   ]
  },
  {
   "cell_type": "code",
   "execution_count": null,
   "metadata": {
    "executionInfo": {
     "elapsed": 215514,
     "status": "ok",
     "timestamp": 1609782532083,
     "user": {
      "displayName": "",
      "photoUrl": "",
      "userId": ""
     },
     "user_tz": 0
    },
    "id": "cJbc7LDASEd6"
   },
   "outputs": [],
   "source": [
    "rfa['TOTL_CARDGIFTS_AMOUNT'] = rfa[['RAMNT_3', 'RAMNT_4', 'RAMNT_5', 'RAMNT_8', 'RAMNT_12', 'RAMNT_13', 'RAMNT_14', 'RAMNT_15', 'RAMNT_18', 'RAMNT_22', 'RAMNT_23', 'RAMNT_24']].sum(axis = 1)"
   ]
  },
  {
   "cell_type": "code",
   "execution_count": null,
   "metadata": {
    "colab": {
     "base_uri": "https://localhost:8080/"
    },
    "executionInfo": {
     "elapsed": 215509,
     "status": "ok",
     "timestamp": 1609782532083,
     "user": {
      "displayName": "",
      "photoUrl": "",
      "userId": ""
     },
     "user_tz": 0
    },
    "id": "B9KpXigxSEd6",
    "outputId": "a4a4d7b1-b2ee-45f9-c25f-8799b6777791"
   },
   "outputs": [],
   "source": [
    "(rfa['TOTL_CARDGIFTS_AMOUNT'] > rfa['RAMNTALL']).sum()"
   ]
  },
  {
   "cell_type": "code",
   "execution_count": null,
   "metadata": {
    "executionInfo": {
     "elapsed": 215502,
     "status": "ok",
     "timestamp": 1609782532083,
     "user": {
      "displayName": "",
      "photoUrl": "",
      "userId": ""
     },
     "user_tz": 0
    },
    "id": "z4uWXLVRSEd7"
   },
   "outputs": [],
   "source": [
    "rfa['TOTL_NTPADGIFTS_AMOUNT'] = rfa[['RAMNT_7', 'RAMNT_11', 'RAMNT_17', 'RAMNT_21']].sum(axis = 1)"
   ]
  },
  {
   "cell_type": "code",
   "execution_count": null,
   "metadata": {
    "executionInfo": {
     "elapsed": 215497,
     "status": "ok",
     "timestamp": 1609782532084,
     "user": {
      "displayName": "",
      "photoUrl": "",
      "userId": ""
     },
     "user_tz": 0
    },
    "id": "MSKx9d40SEd7"
   },
   "outputs": [],
   "source": [
    "rfa['TOTL_LBLSTCKGIFTS_AMOUNT'] = rfa[['RAMNT_6', 'RAMNT_9', 'RAMNT_10', 'RAMNT_16', 'RAMNT_19', 'RAMNT_20']].sum(axis =1)"
   ]
  },
  {
   "cell_type": "markdown",
   "metadata": {
    "id": "D2SDRUoOSEdu"
   },
   "source": [
    "**Coherence Checks for the date variables**"
   ]
  },
  {
   "cell_type": "markdown",
   "metadata": {
    "id": "BBLNDsolSEdu"
   },
   "source": [
    "The recency code, for the most recent promotion date, tells us every donor was a lapsed donor at the date the promotion was sent\n",
    "\n",
    "The promotion was sent on 2017, either on the first of june or first of april. \n",
    "\n",
    "To see if this information is correct we can try and see if any donor's gift had been received less than 13 months prior to this donation being sent, when that happended we will drop the observation.\n"
   ]
  },
  {
   "cell_type": "code",
   "execution_count": null,
   "metadata": {
    "colab": {
     "base_uri": "https://localhost:8080/"
    },
    "executionInfo": {
     "elapsed": 215492,
     "status": "ok",
     "timestamp": 1609782532085,
     "user": {
      "displayName": "",
      "photoUrl": "",
      "userId": ""
     },
     "user_tz": 0
    },
    "id": "2CNzOTXNSEdv",
    "outputId": "7f92a1e7-0796-456f-8714-05cd5ef1ed3f"
   },
   "outputs": [],
   "source": [
    "#The recency code, for the most recent promotion date, tells us every donor was a lapsed donor at the date the promotion was sent\n",
    "# The promotion was sent on 2017, either on the first of june or first of april. \n",
    "# To see if this information is correct we can try and see if any donor's gift had been received less than 13 months prior to this donation being sent, \n",
    "# when that happended we will drop the observation.\n",
    "rfa['ADATE_2'].value_counts()"
   ]
  },
  {
   "cell_type": "code",
   "execution_count": null,
   "metadata": {
    "executionInfo": {
     "elapsed": 215484,
     "status": "ok",
     "timestamp": 1609782532085,
     "user": {
      "displayName": "",
      "photoUrl": "",
      "userId": ""
     },
     "user_tz": 0
    },
    "id": "RELiTM9aSEdv"
   },
   "outputs": [],
   "source": [
    "#Coherence 12: Check how many records were not in fact lapsed donors, meaning, had values lower than 13 months on the last purchase.\n",
    "# for i in ['RDATE_3', 'RDATE_4', 'RDATE_5', 'RDATE_6', 'RDATE_7', 'RDATE_8','RDATE_9', 'RDATE_10', 'RDATE_11', 'RDATE_12', 'RDATE_13', 'RDATE_14','RDATE_15', 'RDATE_16', 'RDATE_17', 'RDATE_18', 'RDATE_19', 'RDATE_20','RDATE_21', 'RDATE_22', 'RDATE_23', 'RDATE_24']:\n",
    "#     print(i, ((((rfa['ADATE_2'].apply(lambda x: x.year) - rfa[i].apply(lambda x: x.year)) * 12 + rfa['ADATE_2'].apply(lambda x: x.month) - rfa[i].apply(lambda x: x.month)) < 13) &(\n",
    "#     ((rfa['ADATE_2'].apply(lambda x: x.year) - rfa[i].apply(lambda x: x.year)) * 12 + rfa['ADATE_2'].apply(lambda x: x.month) - rfa[i].apply(lambda x: x.month)) > 0)).sum())"
   ]
  },
  {
   "cell_type": "code",
   "execution_count": null,
   "metadata": {
    "colab": {
     "base_uri": "https://localhost:8080/"
    },
    "executionInfo": {
     "elapsed": 277304,
     "status": "ok",
     "timestamp": 1609782593911,
     "user": {
      "displayName": "",
      "photoUrl": "",
      "userId": ""
     },
     "user_tz": 0
    },
    "id": "cfEsNXDMTR9e",
    "outputId": "d6bbba21-8085-4065-ca43-b7a41604cb11"
   },
   "outputs": [],
   "source": [
    "for i in ['RDATE_3', 'RDATE_4', 'RDATE_5', 'RDATE_6', 'RDATE_7', 'RDATE_8',\n",
    "       'RDATE_9', 'RDATE_10', 'RDATE_11', 'RDATE_12', 'RDATE_13', 'RDATE_14',\n",
    "       'RDATE_15', 'RDATE_16', 'RDATE_17', 'RDATE_18', 'RDATE_19', 'RDATE_20',\n",
    "       'RDATE_21', 'RDATE_22', 'RDATE_23', 'RDATE_24']:\n",
    "    \n",
    "\n",
    "    rfa = rfa[~(((((rfa['ADATE_2'].apply(lambda x: x.year) - rfa[i].apply(lambda x: x.year)) * 12 + rfa['ADATE_2'].apply(lambda x: x.month) - rfa[i].apply(lambda x: x.month)) < 13) &(\n",
    "    ((rfa['ADATE_2'].apply(lambda x: x.year) - rfa[i].apply(lambda x: x.year)) * 12 + rfa['ADATE_2'].apply(lambda x: x.month) - rfa[i].apply(lambda x: x.month)) > 0)))]\n",
    "\n",
    "\n",
    "rfa['LASTDATE'].isna().sum() #All donors have a LASTDATE"
   ]
  },
  {
   "cell_type": "code",
   "execution_count": null,
   "metadata": {
    "colab": {
     "base_uri": "https://localhost:8080/"
    },
    "executionInfo": {
     "elapsed": 279230,
     "status": "ok",
     "timestamp": 1609782595847,
     "user": {
      "displayName": "",
      "photoUrl": "",
      "userId": ""
     },
     "user_tz": 0
    },
    "id": "TqEN-Z3ybxAy",
    "outputId": "0a3f0db1-23f0-4642-e26c-203253aab87f"
   },
   "outputs": [],
   "source": [
    "# The code below will select only the rows in which the customers are actually LAPSED DONORS, meaning, the difference between the current date and the last date they donated is >= to 13 months\n",
    "rfa[((rfa['ADATE_2'].apply(lambda x: x.year) - rfa['LASTDATE'].apply(lambda x: x.year)) * 12 + rfa['ADATE_2'].apply(lambda x: x.month) - rfa['LASTDATE'].apply(lambda x: x.month))>=13].shape[0]"
   ]
  },
  {
   "cell_type": "code",
   "execution_count": null,
   "metadata": {
    "colab": {
     "base_uri": "https://localhost:8080/"
    },
    "executionInfo": {
     "elapsed": 281234,
     "status": "ok",
     "timestamp": 1609782597860,
     "user": {
      "displayName": "",
      "photoUrl": "",
      "userId": ""
     },
     "user_tz": 0
    },
    "id": "dCR7RKf8bH8x",
    "outputId": "1ea1ee41-c587-48dc-a676-4f20bcf0221f"
   },
   "outputs": [],
   "source": [
    "# There are more than 11000 observations of Inactive donors, over all we are already droping almost 6% observations, double of the usual rule of thumb of 3%. \n",
    "# So we didn't drop inactive donors and decided to analyze them together with the lapsed donors. We are then considering as lapsed donors, a donor who hasn't made a donation \n",
    "# in more than one year.\n",
    "rfa[((rfa['ADATE_2'].apply(lambda x: x.year) - rfa['LASTDATE'].apply(lambda x: x.year)) * 12 + rfa['ADATE_2'].apply(lambda x: x.month) - rfa['LASTDATE'].apply(lambda x: x.month))>=24].shape[0]"
   ]
  },
  {
   "cell_type": "code",
   "execution_count": null,
   "metadata": {
    "executionInfo": {
     "elapsed": 283724,
     "status": "ok",
     "timestamp": 1609782600357,
     "user": {
      "displayName": "",
      "photoUrl": "",
      "userId": ""
     },
     "user_tz": 0
    },
    "id": "B6LISUoBWlBQ"
   },
   "outputs": [],
   "source": [
    "rfa = rfa[((rfa['ADATE_2'].apply(lambda x: x.year) - rfa['LASTDATE'].apply(lambda x: x.year)) * 12 + rfa['ADATE_2'].apply(lambda x: x.month) - rfa['LASTDATE'].apply(lambda x: x.month))>=13]"
   ]
  },
  {
   "cell_type": "code",
   "execution_count": null,
   "metadata": {
    "executionInfo": {
     "elapsed": 286549,
     "status": "ok",
     "timestamp": 1609782603189,
     "user": {
      "displayName": "",
      "photoUrl": "",
      "userId": ""
     },
     "user_tz": 0
    },
    "id": "yuPpqeHVXHrL"
   },
   "outputs": [],
   "source": [
    "rfa[\"NR_MONTHS\"] = (rfa['ADATE_2'].apply(lambda x: x.year) - rfa['LASTDATE'].apply(lambda x: x.year)) * 12 + rfa['ADATE_2'].apply(lambda x: x.month) - rfa['LASTDATE'].apply(lambda x: x.month)"
   ]
  },
  {
   "cell_type": "code",
   "execution_count": null,
   "metadata": {
    "ExecuteTime": {
     "end_time": "2020-11-23T19:54:38.113234Z",
     "start_time": "2020-11-23T19:54:37.900429Z"
    },
    "executionInfo": {
     "elapsed": 286547,
     "status": "ok",
     "timestamp": 1609782603193,
     "user": {
      "displayName": "",
      "photoUrl": "",
      "userId": ""
     },
     "user_tz": 0
    },
    "id": "RKmsQSXMSEd-"
   },
   "outputs": [],
   "source": [
    "rfa.iloc[:,23:46] = rfa.iloc[:,23:46].replace(\" \", np.nan)"
   ]
  },
  {
   "cell_type": "code",
   "execution_count": null,
   "metadata": {
    "executionInfo": {
     "elapsed": 286543,
     "status": "ok",
     "timestamp": 1609782603196,
     "user": {
      "displayName": "",
      "photoUrl": "",
      "userId": ""
     },
     "user_tz": 0
    },
    "id": "vA1FSGBKSEd_"
   },
   "outputs": [],
   "source": [
    "#Feature selection of rfa trough correlation matrix\n",
    "rfa_metric_feat = rfa.drop(columns = ['ADATE_2', 'ADATE_3', 'ADATE_4', 'ADATE_5', 'ADATE_6', 'ADATE_7',\n",
    "       'ADATE_8', 'ADATE_9', 'ADATE_10', 'ADATE_11', 'ADATE_12', 'ADATE_13',\n",
    "       'ADATE_14', 'ADATE_15', 'ADATE_16', 'ADATE_17', 'ADATE_18', 'ADATE_19',\n",
    "       'ADATE_20', 'ADATE_21', 'ADATE_22', 'ADATE_23', 'ADATE_24', \"MAXADATE\", 'RDATE_3', 'RDATE_4', 'RDATE_5', 'RDATE_6', 'RDATE_7', 'RDATE_8',\n",
    "       'RDATE_9', 'RDATE_10', 'RDATE_11', 'RDATE_12', 'RDATE_13', 'RDATE_14',\n",
    "       'RDATE_15', 'RDATE_16', 'RDATE_17', 'RDATE_18', 'RDATE_19', 'RDATE_20',\n",
    "       'RDATE_21', 'RDATE_22', 'RDATE_23', 'RDATE_24', \"MINRDATE\", \"MAXRDATE\", \"LASTDATE\", \"FISTDATE\", \"NEXTDATE\",\n",
    "                   'RAMNT_3', 'RAMNT_4', 'RAMNT_5', 'RAMNT_6', 'RAMNT_7', 'RAMNT_8', 'RAMNT_9', 'RAMNT_10', 'RAMNT_11', 'RAMNT_12', 'RAMNT_13', 'RAMNT_14', 'RAMNT_15', 'RAMNT_16', 'RAMNT_17', 'RAMNT_18', 'RAMNT_19', 'RAMNT_20', 'RAMNT_21', 'RAMNT_22', 'RAMNT_23', 'RAMNT_24',\n",
    "                   'RFA_2', 'RFA_3', 'RFA_4', 'RFA_5', 'RFA_6', 'RFA_7', 'RFA_8', 'RFA_9', 'RFA_10', 'RFA_11', 'RFA_12',\n",
    "                   'RFA_13', 'RFA_14', 'RFA_15', 'RFA_16', 'RFA_17', 'RFA_18', 'RFA_19', 'RFA_20', 'RFA_21', 'RFA_22',\n",
    "                   'RFA_23', 'RFA_24', 'RFA_2R', 'RFA_2F', 'RFA_2A', 'MDMAUD_R', 'MDMAUD_F', 'MDMAUD_A', 'HPHONE_D']).columns.to_list()"
   ]
  },
  {
   "cell_type": "code",
   "execution_count": null,
   "metadata": {
    "colab": {
     "base_uri": "https://localhost:8080/",
     "height": 0
    },
    "executionInfo": {
     "elapsed": 291269,
     "status": "ok",
     "timestamp": 1609782608150,
     "user": {
      "displayName": "",
      "photoUrl": "",
      "userId": ""
     },
     "user_tz": 0
    },
    "id": "wiREv0dcSEeA",
    "outputId": "b77a6586-dfe9-46cc-9f14-fceaf0b4077c"
   },
   "outputs": [],
   "source": [
    "#Multicolinearity Elimination of Variables\n",
    "\n",
    "rfa_corr = rfa[rfa_metric_feat].corr(method = \"pearson\")\n",
    "plt.figure(figsize=(20,20))\n",
    "sns.heatmap(data = rfa_corr, annot = True, cmap=sns.diverging_palette(220, 10, as_cmap=True), fmt='.2',  vmin=-1, vmax=1, center=0,square=True )\n",
    "\n",
    "rfa_after_treatment = rfa[rfa_metric_feat].drop(columns = ['CARDPROM', 'CARDGIFT','TOTL_GIFTS_AMOUNT']) #TOTL_GIFTS_AMOUNT because it is just repeated information"
   ]
  },
  {
   "cell_type": "code",
   "execution_count": null,
   "metadata": {
    "colab": {
     "base_uri": "https://localhost:8080/",
     "height": 0
    },
    "executionInfo": {
     "elapsed": 297201,
     "status": "ok",
     "timestamp": 1609782614202,
     "user": {
      "displayName": "",
      "photoUrl": "",
      "userId": ""
     },
     "user_tz": 0
    },
    "id": "CYECK5-QSEeB",
    "outputId": "eb41b60a-4a1d-46b2-8f9a-7429870f45a0"
   },
   "outputs": [],
   "source": [
    "#Outliers\n",
    "hist_box_maker(rfa_after_treatment,'RFA', 10, 20, 20)"
   ]
  },
  {
   "cell_type": "code",
   "execution_count": null,
   "metadata": {
    "executionInfo": {
     "elapsed": 297187,
     "status": "ok",
     "timestamp": 1609782614204,
     "user": {
      "displayName": "",
      "photoUrl": "",
      "userId": ""
     },
     "user_tz": 0
    },
    "id": "wjN2vXgVSEeB"
   },
   "outputs": [],
   "source": [
    "#Check on how many observations will be dropped\n",
    "rfa_after_treatment[(rfa_after_treatment['AVGGIFT'] > 400) | (rfa_after_treatment['LASTGIFT'] > 400) |(rfa_after_treatment['MAXRAMNT'] > 1000) |(rfa_after_treatment['MINRAMNT'] > 1000) |(rfa_after_treatment['NGIFTALL'] > 100) | (rfa_after_treatment['NUMPRM12'] > 55) | (rfa_after_treatment['RAMNTALL'] > 2000) | (rfa_after_treatment['TIMELAG'] > 75) | (rfa_after_treatment['TOTL_CARDGIFTS_AMOUNT'] > 350) | (rfa_after_treatment['TOTL_LBLSTCKGIFTS_AMOUNT'] > 300) | (rfa_after_treatment['TOTL_NTPADGIFTS_AMOUNT'] > 200)].shape[0]\n",
    "\n",
    "#Dropping them\n",
    "rfa_after_treatment = rfa_after_treatment[~((rfa_after_treatment['AVGGIFT'] > 400) | (rfa_after_treatment['LASTGIFT'] > 400) |(rfa_after_treatment['MAXRAMNT'] > 1000) |(rfa_after_treatment['MINRAMNT'] > 1000) |(rfa_after_treatment['NGIFTALL'] > 100) | (rfa_after_treatment['NUMPRM12'] > 55) | (rfa_after_treatment['RAMNTALL'] > 2000) | (rfa_after_treatment['TIMELAG'] > 75) | (rfa_after_treatment['TOTL_CARDGIFTS_AMOUNT'] > 350) | (rfa_after_treatment['TOTL_LBLSTCKGIFTS_AMOUNT'] > 300) | (rfa_after_treatment['TOTL_NTPADGIFTS_AMOUNT'] > 200))]"
   ]
  },
  {
   "cell_type": "markdown",
   "metadata": {
    "id": "pRiQqSXlGCMR"
   },
   "source": [
    "#### Feature Engineering"
   ]
  },
  {
   "cell_type": "code",
   "execution_count": null,
   "metadata": {
    "executionInfo": {
     "elapsed": 297183,
     "status": "ok",
     "timestamp": 1609782614206,
     "user": {
      "displayName": "",
      "photoUrl": "",
      "userId": ""
     },
     "user_tz": 0
    },
    "id": "XxqQaydwGBJV"
   },
   "outputs": [],
   "source": [
    "rfa_after_treatment.rename(columns={\"NR_MONTHS\": \"RECENCY\", \"RAMNTALL\": \"MONETARY\", \"NGIFTALL\": \"FREQUENCY\"}, inplace=True)\n",
    "rfa_after_treatment[\"RESPONSE_RATE\"] = rfa_after_treatment[\"FREQUENCY\"]/rfa_after_treatment[\"NUMPROM\"]"
   ]
  },
  {
   "cell_type": "code",
   "execution_count": null,
   "metadata": {
    "executionInfo": {
     "elapsed": 312082,
     "status": "ok",
     "timestamp": 1609782629112,
     "user": {
      "displayName": "",
      "photoUrl": "",
      "userId": ""
     },
     "user_tz": 0
    },
    "id": "md9z59MHjPEP"
   },
   "outputs": [],
   "source": [
    "all_dates=df[['RDATE_3']].rename(columns={'RDATE_3':'TOTAL_DATES'}).copy()\n",
    "all_dates['TOTAL_DATES']=np.nan\n",
    "all_dates['TOTAL_DATES']=all_dates['TOTAL_DATES'].fillna('')\n",
    "\n",
    "for i in ['RDATE_3', 'RDATE_4', 'RDATE_5', 'RDATE_6', 'RDATE_7', 'RDATE_8',\n",
    "       'RDATE_9', 'RDATE_10', 'RDATE_11', 'RDATE_12', 'RDATE_13', 'RDATE_14',\n",
    "       'RDATE_15', 'RDATE_16', 'RDATE_17', 'RDATE_18', 'RDATE_19', 'RDATE_20',\n",
    "       'RDATE_21', 'RDATE_22', 'RDATE_23', 'RDATE_24']:\n",
    "\n",
    "       all_dates['TOTAL_DATES'][~(df[i].isna())]=all_dates['TOTAL_DATES'][~(df[i].isna())]+' '+df[i][~(df[i].isna())] \n",
    "\n",
    "\n",
    "all_dates=all_dates['TOTAL_DATES'].str.split(' ', expand=True).drop(columns=0)\n",
    "all_dates.columns=['GIFT_1','GIFT_2','GIFT_3','GIFT_4','GIFT_5','GIFT_6','GIFT_7','GIFT_8','GIFT_9','GIFT_10','GIFT_11','GIFT_12','GIFT_13','GIFT_14','GIFT_15','GIFT_16']\n",
    "\n",
    "for i in ['GIFT_1','GIFT_2','GIFT_3','GIFT_4','GIFT_5','GIFT_6','GIFT_7','GIFT_8','GIFT_9','GIFT_10','GIFT_11','GIFT_12','GIFT_13','GIFT_14','GIFT_15','GIFT_16']:\n",
    "    all_dates[i] =  pd.to_datetime(all_dates[i], infer_datetime_format=True)\n",
    "\n",
    "min_date=all_dates[['GIFT_2','GIFT_3','GIFT_4','GIFT_5','GIFT_6','GIFT_7','GIFT_8','GIFT_9','GIFT_10','GIFT_11','GIFT_12','GIFT_13','GIFT_14','GIFT_15','GIFT_16']].copy()\n",
    "max_date=all_dates[['GIFT_1','GIFT_2','GIFT_3','GIFT_4','GIFT_5','GIFT_6','GIFT_7','GIFT_8','GIFT_9','GIFT_10','GIFT_11','GIFT_12','GIFT_13','GIFT_14','GIFT_15']].copy()\n",
    "avg_time=max_date.copy()\n",
    "\n",
    "for i, j in zip(max_date.columns.to_list(), min_date.columns.to_list()):\n",
    "    avg_time[i]=((max_date[i].apply(lambda x: x.year) - min_date[j].apply(lambda x: x.year)) * 12 + max_date[i].apply(lambda x: x.month) - min_date[j].apply(lambda x: x.month))"
   ]
  },
  {
   "cell_type": "code",
   "execution_count": null,
   "metadata": {
    "colab": {
     "base_uri": "https://localhost:8080/"
    },
    "executionInfo": {
     "elapsed": 312080,
     "status": "ok",
     "timestamp": 1609782629116,
     "user": {
      "displayName": "",
      "photoUrl": "",
      "userId": ""
     },
     "user_tz": 0
    },
    "id": "B2STlS_wkvwU",
    "outputId": "800855b7-947b-4736-d434-a7322ae3cdcf"
   },
   "outputs": [],
   "source": [
    "#There are 24419 donors that never donated or only donatd once, in the campaigns we have in the data\n",
    "avg_time.mean(axis=1).isna().sum()"
   ]
  },
  {
   "cell_type": "code",
   "execution_count": null,
   "metadata": {
    "executionInfo": {
     "elapsed": 312075,
     "status": "ok",
     "timestamp": 1609782629118,
     "user": {
      "displayName": "",
      "photoUrl": "",
      "userId": ""
     },
     "user_tz": 0
    },
    "id": "v2QintLWsXBf"
   },
   "outputs": [],
   "source": [
    "#These are to many observations to simply drop\n",
    "#To keep them in the analisys we have to give them a value, we will replace this missing values with the maximum average time between gifts in the data\n",
    "\n",
    "rfa_after_treatment[\"AVG_TIME_BTWN_GIFT\"]=avg_time.mean(axis=1).fillna(avg_time.mean(axis=1).max())"
   ]
  },
  {
   "cell_type": "code",
   "execution_count": null,
   "metadata": {
    "executionInfo": {
     "elapsed": 312463,
     "status": "ok",
     "timestamp": 1609782629515,
     "user": {
      "displayName": "",
      "photoUrl": "",
      "userId": ""
     },
     "user_tz": 0
    },
    "id": "6Fc9R1OZhVBF"
   },
   "outputs": [],
   "source": [
    "rfa = pd.concat([rfa, rfa_after_treatment], join='inner', axis=1)[rfa.columns.to_list()]\n",
    "users_data = pd.concat([rfa_after_treatment, users_data], join='inner', axis=1)[users_data.columns.to_list()]"
   ]
  },
  {
   "cell_type": "markdown",
   "metadata": {
    "id": "ID4ukqGldDY_"
   },
   "source": [
    "### Neighbourhood Data"
   ]
  },
  {
   "cell_type": "markdown",
   "metadata": {
    "id": "SKKVO-r4DAtn"
   },
   "source": [
    "###### **Descriptive Statistics and Initial Analysis**"
   ]
  },
  {
   "cell_type": "code",
   "execution_count": null,
   "metadata": {
    "executionInfo": {
     "elapsed": 312876,
     "status": "ok",
     "timestamp": 1609782629934,
     "user": {
      "displayName": "",
      "photoUrl": "",
      "userId": ""
     },
     "user_tz": 0
    },
    "id": "BdlgpifGh2f_"
   },
   "outputs": [],
   "source": [
    "# Once again we need to remove already eliminated observations from previous datasets:\n",
    "\n",
    "\n",
    "neighbourhood = pd.concat([neighbourhood, rfa_after_treatment], join='inner', axis=1)[neighbourhood.columns.to_list()]"
   ]
  },
  {
   "cell_type": "code",
   "execution_count": null,
   "metadata": {
    "colab": {
     "base_uri": "https://localhost:8080/"
    },
    "executionInfo": {
     "elapsed": 313294,
     "status": "ok",
     "timestamp": 1609782630359,
     "user": {
      "displayName": "",
      "photoUrl": "",
      "userId": ""
     },
     "user_tz": 0
    },
    "id": "g_5KtO1idDY_",
    "outputId": "2ce80901-d733-4547-b285-e876a47ec401"
   },
   "outputs": [],
   "source": [
    "# Since the neighborhood data has a lot of variables, the treatment had to be done in a different way. First, we will start by checking how many columns have missing values:\n",
    "(neighbourhood.isna().sum()>0).sum() #0 NaNs\n",
    "\n",
    "missing_zero_values_table(neighbourhood)\n",
    "\n",
    "#We can see that there are 3 columns These columns are MSA code, ADI code and DMA code They have about 13% missing values, \n",
    "#although this is a high value it is not enough to eliminate them fully since this percentage can be imputed, so instead lets see what these codes mean.\n",
    "\n",
    "# The MSA code is a core-based statistical area is a U.S. geographic area defined by the Office of Management and Budget that consists of one or more counties anchored by an \n",
    "# urban center of at least 10,000 people plus adjacent counties that are socioeconomically tied to the urban center by commuting, since \n",
    "# we already have better geographical variables we will not use this one. \n",
    "\n",
    "# The ADI code is the code of practice for approved driving instructors (ADI) is a professional code of conduct that driving instructors should abide by and also information that\n",
    "# can be obtained for learner drivers who wish to find out what their driving instructor has agreed to, since this code also does not appear to be interesting or that it will add \n",
    "# to our analysis anyways we are also not going to use it for now. \n",
    "\n",
    "# Finally the DMA code is a Designated Market Area (DMA), meaning a group of states in the United States that are covered by a specific group of television stations, \n",
    "# this code also does not seem to be very good for our analysis, since it is very specific and cryptic After deleting these variables we needed to divide the data frame so \n",
    "# that we could do the outlier analysis.\n",
    "\n",
    "neighbourhood.drop(columns = [\"MSA\", \"ADI\", \"DMA\"], inplace=True)"
   ]
  },
  {
   "cell_type": "code",
   "execution_count": null,
   "metadata": {
    "ExecuteTime": {
     "end_time": "2020-11-23T12:53:20.730292Z",
     "start_time": "2020-11-23T12:53:20.518255Z"
    },
    "executionInfo": {
     "elapsed": 313290,
     "status": "ok",
     "timestamp": 1609782630361,
     "user": {
      "displayName": "",
      "photoUrl": "",
      "userId": ""
     },
     "user_tz": 0
    },
    "id": "K1qp7jPedDY_"
   },
   "outputs": [],
   "source": [
    "#The data frame was divided by its innate subdivisions like population information, ethnicity divisions so on and so forth.\n",
    "\n",
    "neighbourhoodpop=neighbourhood[['POP901', 'POP902', 'POP903','POP90C1', 'POP90C2', 'POP90C3', 'POP90C4', 'POP90C5']].copy() #no missing values, very high on zeros check that\n",
    "neighbourhoodeth=neighbourhood[['ETH1','ETH2', 'ETH3', 'ETH4', 'ETH5', 'ETH6', 'ETH7', 'ETH8', 'ETH9','ETH10', 'ETH11', 'ETH12', 'ETH13', 'ETH14', 'ETH15', 'ETH16',]].copy() #no missing values, check very high correlations, hispanic and mexican btter not to make assumptions\n",
    "neighbourhoodage=neighbourhood[['AGE901', 'AGE902', 'AGE903', 'AGE904', 'AGE905', 'AGE906','AGE907', 'CHIL1', 'CHIL2', 'CHIL3', 'AGEC1', 'AGEC2', 'AGEC3','AGEC4', 'AGEC5', 'AGEC6', 'AGEC7', 'CHILC1', 'CHILC2', 'CHILC3','CHILC4', 'CHILC5', 'HHAGE1', 'HHAGE2', 'HHAGE3']].copy() #no missing values, check high correlations, check duplicates\n",
    "neighbourhoodHH=neighbourhood[['HHN1', 'HHN2','HHN3', 'HHN4', 'HHN5', 'HHN6']].copy() # high correlations\n",
    "neighbourhoodMStatus=neighbourhood[['MARR1', 'MARR2', 'MARR3', 'MARR4']].copy() #no missing values\n",
    "neighbourhoodHHstats=neighbourhood[['HHP1', 'HHP2']].copy() #average and median nthing to point out\n",
    "neighbourhoodUnitstruct=neighbourhood[[ 'DW1', 'DW2', 'DW3', 'DW4', 'DW5', 'DW6', 'DW7','DW8', 'DW9']].copy() #check high correlations\n",
    "neighbourhoodHV=neighbourhood[[ 'HV1', 'HV2', 'HV3', 'HV4']].copy() #no missing values check high correlation\n",
    "neighbourhoodHU=neighbourhood[[  'HU1', 'HU2', 'HU3','HU4', 'HU5']].copy()#1 high correlation\n",
    "neighbourhoodHHDesc=neighbourhood[['HHD1', 'HHD2', 'HHD3', 'HHD4', 'HHD5', 'HHD6','HHD7', 'HHD8', 'HHD9', 'HHD10', 'HHD11', 'HHD12']].copy() # a lot of high correlations\n",
    "neighbourhoodETbin=neighbourhood[['ETHC1','ETHC2', 'ETHC3', 'ETHC4', 'ETHC5', 'ETHC6',]].copy() #1 high correlation\n",
    "neighbourhoodHvalue=neighbourhood[['HVP1', 'HVP2','HVP3', 'HVP4', 'HVP5', 'HVP6']].copy() #2 high correlations\n",
    "neighbourhoodRSats=neighbourhood[['RHP1', 'RHP2', 'RHP3', 'RHP4']].copy() # high correlations but its expected\n",
    "neighbourhoodHUPA=neighbourhood[['HUPA1', 'HUPA2', 'HUPA3', 'HUPA4', 'HUPA5','HUPA6', 'HUPA7']].copy() #nothing to report, no missing values\n",
    "neighbourhoodRP=neighbourhood[['RP1', 'RP2', 'RP3', 'RP4']].copy()#1 high correlation\n",
    "neighbourhoodIC=neighbourhood[['IC1', 'IC2', 'IC3', 'IC4', 'IC5', 'IC6', 'IC7', 'IC8', 'IC9','IC10', 'IC11', 'IC12', 'IC13', 'IC14', 'IC15', 'IC16', 'IC17', 'IC18', 'IC19', 'IC20', 'IC21', 'IC22', 'IC23']].copy() #high correlations\n",
    "neighbourhoodHHAS=neighbourhood[['HHAS1', 'HHAS2','HHAS3', 'HHAS4']].copy() #nothing to point out\n",
    "neighbourhoodMC=neighbourhood[[ 'MC1', 'MC2', 'MC3']].copy()#nothing to point out\n",
    "neighbourhoodTPE=neighbourhood[[ 'TPE1', 'TPE2', 'TPE3','TPE4', 'TPE5', 'TPE6', 'TPE7', 'TPE8', 'TPE9']].copy()#high correlations\n",
    "neighbourhoodTPEstats=neighbourhood[['TPE10', 'TPE11', 'TPE12', 'TPE13']].copy()#usual stuff its just stats\n",
    "neighbourhoodLFC=neighbourhood[['LFC1', 'LFC2', 'LFC3', 'LFC4','LFC5', 'LFC6', 'LFC7', 'LFC8', 'LFC9', 'LFC10']].copy()#high correlations\n",
    "neighbourhoodOCC=neighbourhood[['OCC1', 'OCC2','OCC3', 'OCC4', 'OCC5', 'OCC6', 'OCC7', 'OCC8', 'OCC9', 'OCC10','OCC11', 'OCC12', 'OCC13']].copy() #nothing to report\n",
    "neighbourhoodEIC=neighbourhood[['EIC1', 'EIC2', 'EIC3', 'EIC4', 'EIC5','EIC6', 'EIC7', 'EIC8', 'EIC9', 'EIC10', 'EIC11', 'EIC12', 'EIC13','EIC14', 'EIC15', 'EIC16']].copy()#nothing to report\n",
    "neighbourhoodOEDC=neighbourhood[[ 'OEDC1', 'OEDC2', 'OEDC3', 'OEDC4','OEDC5', 'OEDC6', 'OEDC7',]].copy() #nothing to report\n",
    "neighbourhoodEC=neighbourhood[[ 'EC1', 'EC2', 'EC3', 'EC4', 'EC5','EC6', 'EC7', 'EC8']].copy()#nothing to report\n",
    "neighbourhoodSEC=neighbourhood[['SEC1', 'SEC2', 'SEC3', 'SEC4', 'SEC5']].copy()#nothing to report\n",
    "neighbourhoodHC=neighbourhood[['HC1', 'HC2', 'HC3', 'HC4', 'HC5', 'HC6', 'HC7', 'HC8', 'HC9', 'HC10', 'HC11', 'HC12', 'HC13', 'HC14','HC15', 'HC16', 'HC17', 'HC18', 'HC19', 'HC20', 'HC21']].copy() #2 correlations \n",
    "neighbourhoodLSC=neighbourhood[['LSC1', 'LSC2', 'LSC3', 'LSC4',]].copy()#nothing to report\n",
    "neighbourhoodVOC=neighbourhood[['VOC1', 'VOC2', 'VOC3']].copy()#nothing to report\n",
    "neighbourhoodPOBC=neighbourhood[['POBC1', 'POBC2']].copy()#nothing to report\n",
    "neighbourhoodVC=neighbourhood[['VC1', 'VC2','VC3','VC4']].copy()#nothing to report\n",
    "neighbourhoodMHUC=neighbourhood[['MHUC1','MHUC2']].copy()#nothing to report\n",
    "neighbourhoodAC=neighbourhood[['AC1', 'AC2']].copy()#nothing to report\n",
    "neighbourhoodHUR=neighbourhood[[ 'HUR1', 'HUR2']].copy()#nothing to report\n",
    "neighbourhoodPEC=neighbourhood[['PEC1', 'PEC2']].copy()#nothing to report\n",
    "neighbourhoodACS=neighbourhood[['ANC1', 'ANC2', 'ANC3', 'ANC4', 'ANC5', 'ANC6','ANC7', 'ANC8', 'ANC9', 'ANC10', 'ANC11', 'ANC12', 'ANC13','ANC14', 'ANC15']].copy() #nothing to report\n",
    "\n",
    "\n",
    "# After this subdivision we proceeded to the outlier analysis , this was made using the hist_box_maker function which returns the box plots and histograms of the provided columns , \n",
    "# and by analyzing these we can get a clear view of the distribution of the data and which cutoffs should be made in order to minimize outlier impact in our posterior analysis."
   ]
  },
  {
   "cell_type": "markdown",
   "metadata": {
    "id": "u7mxBRLHIzbJ"
   },
   "source": [
    "###### **Outliers**"
   ]
  },
  {
   "cell_type": "code",
   "execution_count": null,
   "metadata": {
    "executionInfo": {
     "elapsed": 314700,
     "status": "ok",
     "timestamp": 1609782631779,
     "user": {
      "displayName": "",
      "photoUrl": "",
      "userId": ""
     },
     "user_tz": 0
    },
    "id": "XighLKu3Cuea"
   },
   "outputs": [],
   "source": [
    "# Filter of the records that are outliers in at least one variable (we are removing outliers from the variables being used in some way in our analysis).\n",
    "\n",
    "filters_neighbourhood_1 = (\n",
    " (neighbourhood['ETH6'] > 17) |\n",
    " (neighbourhood['AGE904'] < 15) |\n",
    " (neighbourhood['AGE907'] > 70) |\n",
    " (neighbourhood['HHN1'] > 90) |\n",
    " (neighbourhood['HHN2'] > 90) | \n",
    " (neighbourhood['HHN3'] > 95) |\n",
    " (neighbourhood['HHN4'] > 90) |\n",
    " (neighbourhood['HHN5'] > 65) |\n",
    " (neighbourhood['HHN6'] > 95) |\n",
    " (neighbourhood['HHP1'] < 50) | \n",
    " (neighbourhood['HHP1'] > 600) |\n",
    " (neighbourhood['DW3'] > 65) |\n",
    " (neighbourhood['HHD1'] > 95) |\n",
    " (neighbourhood['HHD10'] > 90) |\n",
    " (neighbourhood['HHD11'] > 90) |\n",
    " (neighbourhood['HHD12'] > 80) |\n",
    " (neighbourhood['HHD4'] > 90) |\n",
    " (neighbourhood['HHD7'] > 70) |\n",
    " (neighbourhood['HHD8'] > 20) |\n",
    " (neighbourhood['HHD9'] > 70) |\n",
    " (neighbourhood['ETHC1'] > 50) |\n",
    " (neighbourhood['ETHC2'] > 95) |\n",
    " (neighbourhood['ETHC4'] > 45) |\n",
    " (neighbourhood['ETHC5'] > 80) |\n",
    " (neighbourhood['ETHC6'] > 50) |\n",
    " (neighbourhood['RHP4']  > 25) |\n",
    " (neighbourhood['IC10'] > 65) |\n",
    " (neighbourhood['IC11'] > 50) |\n",
    " (neighbourhood['IC12'] > 32) |\n",
    " (neighbourhood['IC13'] > 30) |\n",
    " (neighbourhood['IC14'] > 80) |\n",
    " (neighbourhood['IC3'] > 1400) |\n",
    " (neighbourhood['IC4'] > 1400) |\n",
    " (neighbourhood['IC5'] > 125000) |\n",
    " (neighbourhood['IC7'] > 67) |\n",
    " (neighbourhood['IC8'] > 80) |\n",
    " (neighbourhood['IC9'] > 63) |\n",
    " (neighbourhood['HHAS2'] > 65) |\n",
    " (neighbourhood['HHAS3'] > 95) |\n",
    " (neighbourhood['HHAS4'] > 90) |\n",
    " (neighbourhood['TPE11'] > 67) |\n",
    " (neighbourhood['EC2'] > 80) |\n",
    " (neighbourhood['EC3'] > 60) |\n",
    " (neighbourhood['EC4'] > 80) |\n",
    " (neighbourhood['EC5'] > 70) |\n",
    "(neighbourhood['EC6'] > 36) |\n",
    " (neighbourhood['EC7'] > 65) |\n",
    " (neighbourhood['EC8'] > 80) |\n",
    " (neighbourhood['SEC1'] > 75) |\n",
    " (neighbourhood['SEC5'] > 78) |\n",
    " (neighbourhood['HC10'] > 58) |\n",
    " (neighbourhood['HC12'] > 96) |\n",
    " (neighbourhood['HC16'] > 96) |\n",
    " (neighbourhood['HC21'] < 27) |\n",
    " (neighbourhood['VOC3'] > 75) |\n",
    " (neighbourhood['POBC1'] > 85)\n",
    ")\n",
    "\n",
    "neighbourhood[(~(filters_neighbourhood_1))].shape[0] / df.shape[0] #we will delete less than 6% of our observations\n",
    "\n",
    "neighbourhood = neighbourhood[~filters_neighbourhood_1]\n",
    "\n",
    "rfa_after_treatment = pd.concat([neighbourhood, rfa_after_treatment], join='inner', axis=1)[rfa_after_treatment.columns.to_list()]\n",
    "users_data = pd.concat([neighbourhood, users_data], join='inner', axis=1)[users_data.columns.to_list()]\n",
    "rfa = pd.concat([neighbourhood, rfa], join='inner', axis=1)[rfa.columns.to_list()]"
   ]
  },
  {
   "cell_type": "markdown",
   "metadata": {
    "id": "99cHuS9q4VIc"
   },
   "source": [
    "###### **Feature Engineering**"
   ]
  },
  {
   "cell_type": "code",
   "execution_count": null,
   "metadata": {
    "executionInfo": {
     "elapsed": 315763,
     "status": "ok",
     "timestamp": 1609782632850,
     "user": {
      "displayName": "",
      "photoUrl": "",
      "userId": ""
     },
     "user_tz": 0
    },
    "id": "d6yMBu9Y4VIc"
   },
   "outputs": [],
   "source": [
    "neighbourhood['ICCHEAP'] = neighbourhood[['IC6','IC7','IC8','IC9']].sum(axis = 1)\n",
    "neighbourhood['ICMEDIUM'] = neighbourhood[['IC10','IC11']].sum(axis = 1)\n",
    "neighbourhood['ICEXPENSIVE'] = neighbourhood[['IC12','IC13']].sum(axis = 1)\n",
    "\n",
    "neighbourhood.drop(columns = ['IC6','IC7','IC8','IC9','IC10','IC11','IC12','IC13'], inplace = True)\n",
    "\n",
    "neighbourhood.drop(columns = ['MARR2','MARR3','MARR4'], inplace = True)\n",
    "\n",
    "neighbourhood['1stSECTOR'] = neighbourhood[['EIC1', 'EIC2', 'EIC3']].sum(axis = 1)\n",
    "neighbourhood['2ndSECTOR'] = neighbourhood[['EIC4']].sum(axis = 1)\n",
    "neighbourhood['3rdSECTOR'] = neighbourhood[['EIC5','EIC6', 'EIC7', 'EIC8', 'EIC9', 'EIC11', 'EIC12', 'EIC13', 'EIC15', 'EIC16','EIC10','EIC14']].sum(axis = 1)\n",
    "\n",
    "neighbourhood['Less_Educated'] = neighbourhood[['EC2', 'EC3']].sum(axis = 1)\n",
    "neighbourhood['High_School'] = neighbourhood[['EC4', 'EC5']].sum(axis = 1)\n",
    "neighbourhood['University'] = neighbourhood[['EC6','EC7','EC8']].sum(axis = 1)\n",
    "\n",
    "neighbourhood.drop(columns = ['EIC1', 'EIC2', 'EIC3', 'EIC4', 'EIC5','EIC6', 'EIC7', 'EIC8', 'EIC9', 'EIC10', 'EIC11', 'EIC12', 'EIC13','EIC14', 'EIC15', 'EIC16'], inplace = True)\n",
    "neighbourhood.drop(columns = ['EC2', 'EC3', 'EC4', 'EC5','EC6', 'EC7', 'EC8'], inplace = True)\n",
    "\n",
    "neighbourhood['Other_ETH']=neighbourhood[['ETH3','ETH4','ETH6']].sum(axis=1)\n"
   ]
  },
  {
   "cell_type": "code",
   "execution_count": null,
   "metadata": {
    "colab": {
     "base_uri": "https://localhost:8080/"
    },
    "executionInfo": {
     "elapsed": 315761,
     "status": "ok",
     "timestamp": 1609782632853,
     "user": {
      "displayName": "",
      "photoUrl": "",
      "userId": ""
     },
     "user_tz": 0
    },
    "id": "UWHXA-F04VId",
    "outputId": "51a8d2aa-37e6-42a9-bd01-9b832ed2538c"
   },
   "outputs": [],
   "source": [
    "#As we can see, some of the transformed variables we created are producing percentages over 100, this doesn't make sense\n",
    "#Instead of droping more records, we will change this values to 100 percent, since there is a high likelyhood that that is actually the case\n",
    "#And the problem was with slghit inaccuracies in the original variables\n",
    "for column in ['ICCHEAP','ICMEDIUM', 'ICEXPENSIVE', '1stSECTOR','2ndSECTOR','3rdSECTOR']:\n",
    "  print(column)\n",
    "  print((neighbourhood[column] > 100).sum())"
   ]
  },
  {
   "cell_type": "code",
   "execution_count": null,
   "metadata": {
    "colab": {
     "base_uri": "https://localhost:8080/"
    },
    "executionInfo": {
     "elapsed": 315755,
     "status": "ok",
     "timestamp": 1609782632854,
     "user": {
      "displayName": "",
      "photoUrl": "",
      "userId": ""
     },
     "user_tz": 0
    },
    "id": "MRP-Z4bvdch2",
    "outputId": "a06ad03d-17bf-4744-80d3-523bf7555f98"
   },
   "outputs": [],
   "source": [
    "for column in ['ICCHEAP','ICMEDIUM', 'ICEXPENSIVE', '1stSECTOR','2ndSECTOR','3rdSECTOR']:\n",
    "  neighbourhood[column][neighbourhood[column] > 100] = 100\n",
    "  print(column)\n",
    "  print((neighbourhood[column] > 100).sum())"
   ]
  },
  {
   "cell_type": "markdown",
   "metadata": {
    "id": "A4T6gg2fAxA-"
   },
   "source": [
    "###### **PCA Ethnicity**"
   ]
  },
  {
   "cell_type": "code",
   "execution_count": null,
   "metadata": {
    "colab": {
     "base_uri": "https://localhost:8080/",
     "height": 1000
    },
    "executionInfo": {
     "elapsed": 326667,
     "status": "ok",
     "timestamp": 1609782643809,
     "user": {
      "displayName": "",
      "photoUrl": "",
      "userId": ""
     },
     "user_tz": 0
    },
    "id": "BdWAbMsBH705",
    "outputId": "d6aa7669-bb2c-42ee-8a98-52ab98e9444c"
   },
   "outputs": [],
   "source": [
    "#We will join the variable ALLVETS to the Neighbourhood dataset, as we've previously stated that this is\n",
    "#an information that should belong in this perspective of clustering:\n",
    "neighbourhood = pd.concat([neighbourhood, users_data[[\"ALL_VETS\", \"AGE\", 'NUMCHLD', 'HIT']]], join='inner', axis=1)\n",
    "to_std_later=neighbourhood.columns.to_list()\n",
    "#Standardize the dataset\n",
    "scaler_neigh = StandardScaler()\n",
    "scaler_neigh=scaler_neigh.fit(neighbourhood)\n",
    "neighbourhood[neighbourhood.columns.to_list()] = scaler_neigh.transform(neighbourhood)\n",
    "pca_eth = [ 'ETH1','ETH2','ETH5','ETHC1','ETHC2','ETHC4','ETHC5','ETHC6','LSC1','LSC2','POBC1',\t'POBC2']\n",
    "print('The p-value for the Barlett Test: ', calculate_bartlett_sphericity(neighbourhood[pca_eth])[0])\n",
    "print('The KMO for this set of variables is: ', calculate_kmo(neighbourhood[pca_eth])[1])\n",
    "pca_1(neighbourhood, pca_eth)"
   ]
  },
  {
   "cell_type": "code",
   "execution_count": null,
   "metadata": {
    "colab": {
     "base_uri": "https://localhost:8080/",
     "height": 297
    },
    "executionInfo": {
     "elapsed": 327073,
     "status": "ok",
     "timestamp": 1609782644225,
     "user": {
      "displayName": "",
      "photoUrl": "",
      "userId": ""
     },
     "user_tz": 0
    },
    "id": "Ply1THnE4nEz",
    "outputId": "99324293-be0c-48bf-ae3c-860dd865fc2a"
   },
   "outputs": [],
   "source": [
    "pca_2(neighbourhood, pca_eth, 3)"
   ]
  },
  {
   "cell_type": "code",
   "execution_count": null,
   "metadata": {
    "executionInfo": {
     "elapsed": 327706,
     "status": "ok",
     "timestamp": 1609782644864,
     "user": {
      "displayName": "",
      "photoUrl": "",
      "userId": ""
     },
     "user_tz": 0
    },
    "id": "cl967eRfsOTt"
   },
   "outputs": [],
   "source": [
    "neighbourhood, pc_eth = pca_3(neighbourhood, pca_eth, 3)\n",
    "neighbourhood.rename(columns = {'PC0':'Black Communities','PC1':'Hispanic Communities', 'PC2':'Native White Kids'}, inplace = True)\n",
    "neighbourhood.drop(columns = pca_eth, inplace = True)"
   ]
  },
  {
   "cell_type": "markdown",
   "metadata": {
    "id": "0TbHjdTfhMnW"
   },
   "source": [
    "###### **PCA Family Neighbourhood** "
   ]
  },
  {
   "cell_type": "code",
   "execution_count": null,
   "metadata": {
    "colab": {
     "base_uri": "https://localhost:8080/",
     "height": 969
    },
    "executionInfo": {
     "elapsed": 328653,
     "status": "ok",
     "timestamp": 1609782645820,
     "user": {
      "displayName": "",
      "photoUrl": "",
      "userId": ""
     },
     "user_tz": 0
    },
    "id": "3BkctdmoH5Oy",
    "outputId": "3e67ff91-5341-4bc5-e4c9-23152919bff4"
   },
   "outputs": [],
   "source": [
    "pca_fam = ['AGE904', 'AGE907', 'HHN1', 'HHN2', 'HHN3','MARR1', 'VOC3', 'RHP2','RHP4','HHAGE2','HHAGE3','HHN4','HHN5','HHN6','HHP1','HHD1','HHD2','HHD3','HHD4','HHD5','HHD6','HHD7','HHD8', 'HHD9', 'HHD10', 'HHD11', 'HHD12','POP90C4', 'HHAGE1', 'HHP2']\n",
    "print('The p-value for the Barlett Test: ', calculate_bartlett_sphericity(neighbourhood[pca_fam])[1])\n",
    "print('The KMO for this set of variables is: ', calculate_kmo(neighbourhood[pca_fam])[1])\n",
    "pca_1(neighbourhood, pca_fam)"
   ]
  },
  {
   "cell_type": "code",
   "execution_count": null,
   "metadata": {
    "colab": {
     "base_uri": "https://localhost:8080/",
     "height": 681
    },
    "executionInfo": {
     "elapsed": 329277,
     "status": "ok",
     "timestamp": 1609782646452,
     "user": {
      "displayName": "",
      "photoUrl": "",
      "userId": ""
     },
     "user_tz": 0
    },
    "id": "VRqHEc3Ltq46",
    "outputId": "7e4d2736-1dc4-47b6-f8e6-cfc5796eba16"
   },
   "outputs": [],
   "source": [
    "pca_2(neighbourhood, pca_fam, 3)"
   ]
  },
  {
   "cell_type": "code",
   "execution_count": null,
   "metadata": {
    "executionInfo": {
     "elapsed": 329746,
     "status": "ok",
     "timestamp": 1609782646929,
     "user": {
      "displayName": "",
      "photoUrl": "",
      "userId": ""
     },
     "user_tz": 0
    },
    "id": "K2UdItBMH52M"
   },
   "outputs": [],
   "source": [
    "neighbourhood, pc_fam = pca_3(neighbourhood, pca_fam, 3)\n",
    "neighbourhood.rename(columns = {'PC0':'Single Adults Neighbourhood','PC1':'Single Parents Neighbourhood', 'PC2':'Younger Neighbourhood'}, inplace = True)\n",
    "neighbourhood.drop(columns = pca_fam, inplace = True)"
   ]
  },
  {
   "cell_type": "markdown",
   "metadata": {
    "id": "E1fFpLpSS-Y1"
   },
   "source": [
    "###### **PCA Housing condition** "
   ]
  },
  {
   "cell_type": "code",
   "execution_count": null,
   "metadata": {
    "colab": {
     "base_uri": "https://localhost:8080/",
     "height": 841
    },
    "executionInfo": {
     "elapsed": 331194,
     "status": "ok",
     "timestamp": 1609782648385,
     "user": {
      "displayName": "",
      "photoUrl": "",
      "userId": ""
     },
     "user_tz": 0
    },
    "id": "1Ka8Hx-n6Zrf",
    "outputId": "df7a773a-f3f9-4298-f236-a2bda6bfb43c"
   },
   "outputs": [],
   "source": [
    "pca_hous= ['HU3', 'HU5','HUR1','HUR2','HC1', 'HC2', 'HC4', 'HC5', 'HC11', 'HC12', 'HC13',  'HC16', 'HC17', 'HC18', 'HC19','DW1','DW2','DW4','DW5', 'MC1','MC2','MC3', 'DW6']\n",
    "print('The p-value for the Barlett Test: ', calculate_bartlett_sphericity(neighbourhood[pca_hous])[1])\n",
    "print('The KMO for this set of variables is: ', calculate_kmo(neighbourhood[pca_hous])[1])\n",
    "pca_1(neighbourhood, pca_hous)"
   ]
  },
  {
   "cell_type": "code",
   "execution_count": null,
   "metadata": {
    "colab": {
     "base_uri": "https://localhost:8080/",
     "height": 532
    },
    "executionInfo": {
     "elapsed": 331688,
     "status": "ok",
     "timestamp": 1609782648889,
     "user": {
      "displayName": "",
      "photoUrl": "",
      "userId": ""
     },
     "user_tz": 0
    },
    "id": "r5GH31j8tlR7",
    "outputId": "694638df-6659-43c5-8333-fb3588188912"
   },
   "outputs": [],
   "source": [
    "pca_2(neighbourhood, pca_hous, 3)"
   ]
  },
  {
   "cell_type": "code",
   "execution_count": null,
   "metadata": {
    "executionInfo": {
     "elapsed": 331682,
     "status": "ok",
     "timestamp": 1609782648891,
     "user": {
      "displayName": "",
      "photoUrl": "",
      "userId": ""
     },
     "user_tz": 0
    },
    "id": "9APkLAgCtdWX"
   },
   "outputs": [],
   "source": [
    "neighbourhood, pc_hous = pca_3(neighbourhood, pca_hous, 3)\n",
    "neighbourhood.rename(columns = {'PC0':'Modern Flats','PC1':'New Houses', 'PC2':'Old Dwelling'}, inplace = True)\n",
    "neighbourhood.drop(columns = pca_hous, inplace = True)"
   ]
  },
  {
   "cell_type": "markdown",
   "metadata": {
    "id": "plkSMMdX6JEG"
   },
   "source": [
    "###### **PCA Development**"
   ]
  },
  {
   "cell_type": "code",
   "execution_count": null,
   "metadata": {
    "colab": {
     "base_uri": "https://localhost:8080/",
     "height": 932
    },
    "executionInfo": {
     "elapsed": 333090,
     "status": "ok",
     "timestamp": 1609782650342,
     "user": {
      "displayName": "",
      "photoUrl": "",
      "userId": ""
     },
     "user_tz": 0
    },
    "id": "XgCZs1qjtu0T",
    "outputId": "68babe31-16c3-4888-a469-4d8be73a6f0c"
   },
   "outputs": [],
   "source": [
    "pca_devep= ['HV1', 'HV3','1stSECTOR','3rdSECTOR','ICMEDIUM','ICEXPENSIVE','POP90C1','POP90C3','IC14','IC3','IC4','IC5','Less_Educated','University','HHAS3','HHAS4','HV2','HV4','HVP1','HVP2','HVP3','HVP4','HVP5','RP2','RP3','MHUC1','RP1', 'ICCHEAP']\n",
    "print('The p-value for the Barlett Test: ', calculate_bartlett_sphericity(neighbourhood[pca_devep])[1])\n",
    "print('The KMO for this set of variables is: ', calculate_kmo(neighbourhood[pca_devep])[1])\n",
    "pca_1(neighbourhood, pca_devep)"
   ]
  },
  {
   "cell_type": "code",
   "execution_count": null,
   "metadata": {
    "colab": {
     "base_uri": "https://localhost:8080/",
     "height": 639
    },
    "executionInfo": {
     "elapsed": 333549,
     "status": "ok",
     "timestamp": 1609782650809,
     "user": {
      "displayName": "",
      "photoUrl": "",
      "userId": ""
     },
     "user_tz": 0
    },
    "id": "PF1EJk3Etu0V",
    "outputId": "cb50f312-15c7-4df7-a870-97c3f1d6e274"
   },
   "outputs": [],
   "source": [
    "pca_2(neighbourhood, pca_devep, 3)"
   ]
  },
  {
   "cell_type": "code",
   "execution_count": null,
   "metadata": {
    "executionInfo": {
     "elapsed": 334030,
     "status": "ok",
     "timestamp": 1609782651298,
     "user": {
      "displayName": "",
      "photoUrl": "",
      "userId": ""
     },
     "user_tz": 0
    },
    "id": "iTqeoicftu0V"
   },
   "outputs": [],
   "source": [
    "neighbourhood, pc_devep = pca_3(neighbourhood, pca_devep, 3)\n",
    "neighbourhood.rename(columns = {'PC0':'Wealthier Areas','PC1':'Rural Areas', 'PC2':'Gentrified Areas'}, inplace = True)\n",
    "neighbourhood.drop(columns = pca_devep, inplace = True)"
   ]
  },
  {
   "cell_type": "markdown",
   "metadata": {
    "id": "gcYp7WhaJG9G"
   },
   "source": [
    "###### **Correlation Matrix**"
   ]
  },
  {
   "cell_type": "code",
   "execution_count": null,
   "metadata": {
    "executionInfo": {
     "elapsed": 334028,
     "status": "ok",
     "timestamp": 1609782651301,
     "user": {
      "displayName": "",
      "photoUrl": "",
      "userId": ""
     },
     "user_tz": 0
    },
    "id": "uTy3lpmJH2tR"
   },
   "outputs": [],
   "source": [
    "neighbourhood.drop(columns=['RHP3','IC1','IC2'], inplace=True)"
   ]
  },
  {
   "cell_type": "code",
   "execution_count": null,
   "metadata": {
    "colab": {
     "base_uri": "https://localhost:8080/"
    },
    "executionInfo": {
     "elapsed": 341639,
     "status": "ok",
     "timestamp": 1609782658919,
     "user": {
      "displayName": "",
      "photoUrl": "",
      "userId": ""
     },
     "user_tz": 0
    },
    "id": "4YGPt887J7fC",
    "outputId": "5ad0ea96-d5f5-4303-dda7-a29087569a6d"
   },
   "outputs": [],
   "source": [
    "neighbourhood = corr_df(neighbourhood, 0.85)"
   ]
  },
  {
   "cell_type": "code",
   "execution_count": null,
   "metadata": {
    "executionInfo": {
     "elapsed": 341636,
     "status": "ok",
     "timestamp": 1609782658921,
     "user": {
      "displayName": "",
      "photoUrl": "",
      "userId": ""
     },
     "user_tz": 0
    },
    "id": "31GtCWFCzK91"
   },
   "outputs": [],
   "source": [
    "neighbourhood=neighbourhood.drop(columns=['AGE902','AGE901','CHIL1','CHIL2','CHIL3','AGEC1','AGEC2','AGEC1', 'AGEC2', \n",
    "                                          'AGEC3','AGEC4', 'AGEC5', 'AGEC7', 'CHILC2', 'CHILC3','CHILC4', 'CHILC5','HUPA1', 'HUPA2', 'HUPA3', 'HUPA4', 'HUPA7',\n",
    "                                          'RHP1','RP4', 'IC15', 'IC16', 'IC17','IC18', 'IC19', 'IC20', 'IC21', 'IC22', 'IC23', 'TPE1', 'TPE2', 'PEC1','PEC2',\n",
    "                                          'TPE3','TPE4', 'TPE5', 'TPE6', 'TPE7', 'TPE8', 'TPE9','TPE10','TPE13','TPE12',\n",
    "                                          'LFC6','OCC1','OCC2','OCC3','OCC4','OCC5',\n",
    "                                          'OCC6','OCC7','OCC8','OCC9','OCC10','OCC11','OCC12','OCC13','ETH7',\"ETH13\",'LFC1',  'LFC8', 'LFC9','ETH8','ETH9','ETH10','ETH11','ETH12','ETH14','ETH15',\n",
    " 'ETH16','EC1','POP90C5', 'OEDC1', 'OEDC2', 'OEDC3', 'OEDC4','OEDC5', 'OEDC6', 'OEDC7','SEC2','SEC3','ANC1', 'ANC2', 'ANC3', 'ANC4', 'ANC5', 'ANC6','ANC7', 'ANC8', 'ANC9', 'ANC10', 'ANC11', 'ANC12', 'ANC13','ANC14', 'ANC15','VOC1','VOC2','AC1','AC2'])"
   ]
  },
  {
   "cell_type": "code",
   "execution_count": null,
   "metadata": {
    "colab": {
     "base_uri": "https://localhost:8080/"
    },
    "executionInfo": {
     "elapsed": 341634,
     "status": "ok",
     "timestamp": 1609782658925,
     "user": {
      "displayName": "",
      "photoUrl": "",
      "userId": ""
     },
     "user_tz": 0
    },
    "id": "QAK_rjAC2AIT",
    "outputId": "700dee00-bd13-48c2-8ac0-5a219d62e4df"
   },
   "outputs": [],
   "source": [
    "neighbourhood.columns"
   ]
  },
  {
   "cell_type": "code",
   "execution_count": null,
   "metadata": {
    "executionInfo": {
     "elapsed": 342183,
     "status": "ok",
     "timestamp": 1609782659482,
     "user": {
      "displayName": "",
      "photoUrl": "",
      "userId": ""
     },
     "user_tz": 0
    },
    "id": "XbnAIT5ZvJS4"
   },
   "outputs": [],
   "source": [
    "neighbourhood.drop(columns = ['POP901', 'POP902', 'DW3', 'DW7', 'DW8', 'DW9', 'HU1', 'HU2','HU4','HHAS2','TPE11', 'LFC2', 'LFC10', 'SEC1', 'SEC4', 'SEC5', 'VC1', 'VC2', 'VC3', 'VC4', 'LSC4', 'HC3', 'HC6', 'HC7', 'HC9', 'HC10', 'HC14','HC15', 'HC20', 'HC21', 'MHUC2', 'AFC1', 'AFC2', 'AFC3', 'AFC4', 'AFC5','AFC6', 'CONTROLN'], inplace=True)"
   ]
  },
  {
   "cell_type": "markdown",
   "metadata": {
    "id": "MnxBYHohvfp2"
   },
   "source": [
    "#**3. Clustering Methods**"
   ]
  },
  {
   "cell_type": "markdown",
   "metadata": {
    "id": "L6guzw0spJjo"
   },
   "source": [
    "## **RFA Clustering**"
   ]
  },
  {
   "cell_type": "markdown",
   "metadata": {
    "id": "XrMRyIv7bWA4"
   },
   "source": [
    "### RFA Kmeans"
   ]
  },
  {
   "cell_type": "code",
   "execution_count": null,
   "metadata": {
    "executionInfo": {
     "elapsed": 341272,
     "status": "ok",
     "timestamp": 1609782659483,
     "user": {
      "displayName": "",
      "photoUrl": "",
      "userId": ""
     },
     "user_tz": 0
    },
    "id": "ZJow--9UNE_B"
   },
   "outputs": [],
   "source": [
    "donor_profile_variables=rfa_after_treatment[['AVG_TIME_BTWN_GIFT', 'RESPONSE_RATE', 'RECENCY', 'FREQUENCY', 'MONETARY', 'AVGGIFT']].copy()\n",
    "scaler_dp = StandardScaler().fit(donor_profile_variables)\n",
    "donor_profile_variables[donor_profile_variables.columns.to_list()] = scaler_dp.transform(donor_profile_variables)"
   ]
  },
  {
   "cell_type": "code",
   "execution_count": null,
   "metadata": {
    "executionInfo": {
     "elapsed": 341267,
     "status": "ok",
     "timestamp": 1609782659485,
     "user": {
      "displayName": "",
      "photoUrl": "",
      "userId": ""
     },
     "user_tz": 0
    },
    "id": "-494BYdbroL9"
   },
   "outputs": [],
   "source": [
    "#We noticed, after doing an initial clustering analysis, that there were still some outliers in the Monetary and Average Gift variables\n",
    "#So we removed them here (and we also removed them from the second cluster analysis)\n",
    "\n",
    "donor_profile_variables = donor_profile_variables[~(donor_profile_variables['MONETARY'] > 20)]\n",
    "donor_profile_variables = donor_profile_variables[~(donor_profile_variables['AVGGIFT'] > 20)]\n",
    "neighbourhood = pd.concat([neighbourhood, donor_profile_variables], join='inner', axis = 1)[neighbourhood.columns.to_list()]"
   ]
  },
  {
   "cell_type": "code",
   "execution_count": null,
   "metadata": {
    "colab": {
     "base_uri": "https://localhost:8080/"
    },
    "executionInfo": {
     "elapsed": 374023,
     "status": "ok",
     "timestamp": 1609782692246,
     "user": {
      "displayName": "",
      "photoUrl": "",
      "userId": ""
     },
     "user_tz": 0
    },
    "id": "2eOEaWkgNfuf",
    "outputId": "0c09ae3c-da88-42ca-cda8-638cb714757e"
   },
   "outputs": [],
   "source": [
    "hopkins(donor_profile_variables)"
   ]
  },
  {
   "cell_type": "code",
   "execution_count": null,
   "metadata": {
    "colab": {
     "base_uri": "https://localhost:8080/",
     "height": 0
    },
    "executionInfo": {
     "elapsed": 391890,
     "status": "ok",
     "timestamp": 1609782710123,
     "user": {
      "displayName": "",
      "photoUrl": "",
      "userId": ""
     },
     "user_tz": 0
    },
    "id": "LNmU9Jq4NvbB",
    "outputId": "f1611443-646f-4aed-d9b8-788d274d5d20"
   },
   "outputs": [],
   "source": [
    "k_means_elbow(donor_profile_variables, 2, 10, 'Elbow Graph for Donor Profile Variables')"
   ]
  },
  {
   "cell_type": "code",
   "execution_count": null,
   "metadata": {
    "executionInfo": {
     "elapsed": 391887,
     "status": "ok",
     "timestamp": 1609782710125,
     "user": {
      "displayName": "",
      "photoUrl": "",
      "userId": ""
     },
     "user_tz": 0
    },
    "id": "W83bD4FVN4Px"
   },
   "outputs": [],
   "source": [
    "#avg_silhouette_graph(donor_profile_variables)"
   ]
  },
  {
   "cell_type": "code",
   "execution_count": null,
   "metadata": {
    "colab": {
     "base_uri": "https://localhost:8080/",
     "height": 0
    },
    "executionInfo": {
     "elapsed": 396390,
     "status": "ok",
     "timestamp": 1609782714639,
     "user": {
      "displayName": "",
      "photoUrl": "",
      "userId": ""
     },
     "user_tz": 0
    },
    "id": "gUZXXW7NOP1l",
    "outputId": "1d4f6a24-79bd-4285-cc19-4f1dcd5105e1"
   },
   "outputs": [],
   "source": [
    "donor_profile_variables_solution, donor_profile_variables_descript = kmeans(donor_profile_variables, 4)\n",
    "cluster_profiles(\n",
    "    df = donor_profile_variables_solution, \n",
    "    label_columns = ['Labels'], \n",
    "    figsize = (28, 7), \n",
    "    #compar_titles = ['Labels']\n",
    ")"
   ]
  },
  {
   "cell_type": "code",
   "execution_count": null,
   "metadata": {
    "colab": {
     "base_uri": "https://localhost:8080/",
     "height": 0
    },
    "executionInfo": {
     "elapsed": 397713,
     "status": "ok",
     "timestamp": 1609782715969,
     "user": {
      "displayName": "",
      "photoUrl": "",
      "userId": ""
     },
     "user_tz": 0
    },
    "id": "Co3DzMohOjHM",
    "outputId": "6b6ec7bb-3cf5-40ba-f215-c620c7894ff0"
   },
   "outputs": [],
   "source": [
    "donor_profile_variables_solution.groupby('Labels').boxplot(column=donor_profile_variables.columns.to_list(), figsize=(25,15), rot=10)"
   ]
  },
  {
   "cell_type": "code",
   "execution_count": null,
   "metadata": {
    "colab": {
     "base_uri": "https://localhost:8080/"
    },
    "executionInfo": {
     "elapsed": 397705,
     "status": "ok",
     "timestamp": 1609782715970,
     "user": {
      "displayName": "",
      "photoUrl": "",
      "userId": ""
     },
     "user_tz": 0
    },
    "id": "aDYBwPyD6vVx",
    "outputId": "e4ecbb91-ed92-4af6-cc79-728848818462"
   },
   "outputs": [],
   "source": [
    "r2(donor_profile_variables_solution.drop(columns=['Labels']), donor_profile_variables_solution['Labels'])"
   ]
  },
  {
   "cell_type": "markdown",
   "metadata": {
    "id": "fkeRhX2G6v3j"
   },
   "source": [
    "### **Hierarchical Clustering on top of Kmeans**"
   ]
  },
  {
   "cell_type": "code",
   "execution_count": null,
   "metadata": {
    "executionInfo": {
     "elapsed": 397701,
     "status": "ok",
     "timestamp": 1609782715972,
     "user": {
      "displayName": "",
      "photoUrl": "",
      "userId": ""
     },
     "user_tz": 0
    },
    "id": "efeCVfXD6v3l"
   },
   "outputs": [],
   "source": [
    "#kmeans_centroids, donor_profile_variables_centroids = hierarchical_ontop_of_kmeans2(donor_profile_variables, 'ward')"
   ]
  },
  {
   "cell_type": "code",
   "execution_count": null,
   "metadata": {
    "executionInfo": {
     "elapsed": 397694,
     "status": "ok",
     "timestamp": 1609782715972,
     "user": {
      "displayName": "",
      "photoUrl": "",
      "userId": ""
     },
     "user_tz": 0
    },
    "id": "J4GsPNZx6v3l"
   },
   "outputs": [],
   "source": [
    "#kmeans_centroids_solution, kmeans_centroids_descript = hierarchical(kmeans_centroids, 4, 'ward')"
   ]
  },
  {
   "cell_type": "code",
   "execution_count": null,
   "metadata": {
    "executionInfo": {
     "elapsed": 397690,
     "status": "ok",
     "timestamp": 1609782715974,
     "user": {
      "displayName": "",
      "photoUrl": "",
      "userId": ""
     },
     "user_tz": 0
    },
    "id": "g7EESELR6v3n"
   },
   "outputs": [],
   "source": [
    "#for i in range(1,200):\n",
    "#    donor_profile_variables_centroids['labels'][donor_profile_variables_centroids['labels'] == i] = kmeans_centroids_solution['Labels'].to_list()[i]"
   ]
  },
  {
   "cell_type": "code",
   "execution_count": null,
   "metadata": {
    "executionInfo": {
     "elapsed": 397685,
     "status": "ok",
     "timestamp": 1609782715974,
     "user": {
      "displayName": "",
      "photoUrl": "",
      "userId": ""
     },
     "user_tz": 0
    },
    "id": "r3p3P5i86v3n"
   },
   "outputs": [],
   "source": [
    "#donor_profile_variables_centroids.groupby('labels').mean()"
   ]
  },
  {
   "cell_type": "code",
   "execution_count": null,
   "metadata": {
    "executionInfo": {
     "elapsed": 397680,
     "status": "ok",
     "timestamp": 1609782715975,
     "user": {
      "displayName": "",
      "photoUrl": "",
      "userId": ""
     },
     "user_tz": 0
    },
    "id": "IkRnGMWF6v3p"
   },
   "outputs": [],
   "source": [
    "#r2(donor_profile_variables_centroids.drop(columns=['labels']), donor_profile_variables_centroids['labels'])"
   ]
  },
  {
   "cell_type": "markdown",
   "metadata": {
    "id": "9_3IFa-P6v3p"
   },
   "source": [
    "### **Kmeans Clustering on top of SOM units**"
   ]
  },
  {
   "cell_type": "code",
   "execution_count": null,
   "metadata": {
    "executionInfo": {
     "elapsed": 397676,
     "status": "ok",
     "timestamp": 1609782715976,
     "user": {
      "displayName": "",
      "photoUrl": "",
      "userId": ""
     },
     "user_tz": 0
    },
    "id": "7BkYmAK76v3p"
   },
   "outputs": [],
   "source": [
    "#sm =SOM_1(donor_profile_variables,50,50)"
   ]
  },
  {
   "cell_type": "code",
   "execution_count": null,
   "metadata": {
    "executionInfo": {
     "elapsed": 397670,
     "status": "ok",
     "timestamp": 1609782715976,
     "user": {
      "displayName": "",
      "photoUrl": "",
      "userId": ""
     },
     "user_tz": 0
    },
    "id": "oz16_mMk6v3q"
   },
   "outputs": [],
   "source": [
    "#nodeclus_labels=k_means_som(sm,4,30,30) #returns the cluster labels"
   ]
  },
  {
   "cell_type": "code",
   "execution_count": null,
   "metadata": {
    "executionInfo": {
     "elapsed": 397664,
     "status": "ok",
     "timestamp": 1609782715976,
     "user": {
      "displayName": "",
      "photoUrl": "",
      "userId": ""
     },
     "user_tz": 0
    },
    "id": "33wQxytZ6v3r"
   },
   "outputs": [],
   "source": [
    "#donor_profile_variables_kmeansom_solution,donor_profile_variables_kmeansom_variable_centroids=SOM_Labeler(donor_profile_variables,sm,nodeclus_labels)"
   ]
  },
  {
   "cell_type": "code",
   "execution_count": null,
   "metadata": {
    "executionInfo": {
     "elapsed": 397661,
     "status": "ok",
     "timestamp": 1609782715978,
     "user": {
      "displayName": "",
      "photoUrl": "",
      "userId": ""
     },
     "user_tz": 0
    },
    "id": "fh2LUoMy6v3t"
   },
   "outputs": [],
   "source": [
    "#r2(donor_profile_variables_kmeansom_solution.drop(columns=['label', \"BMU\"]), donor_profile_variables_kmeansom_solution['label'])"
   ]
  },
  {
   "cell_type": "markdown",
   "metadata": {
    "id": "H5nsMcP76v3t"
   },
   "source": [
    "### **Hierarchical Clustering on top of SOM units**"
   ]
  },
  {
   "cell_type": "code",
   "execution_count": null,
   "metadata": {
    "executionInfo": {
     "elapsed": 397656,
     "status": "ok",
     "timestamp": 1609782715978,
     "user": {
      "displayName": "",
      "photoUrl": "",
      "userId": ""
     },
     "user_tz": 0
    },
    "id": "gJnvF2wc6v3t"
   },
   "outputs": [],
   "source": [
    "#sm =SOM_1(donor_profile_variables,50,50)"
   ]
  },
  {
   "cell_type": "code",
   "execution_count": null,
   "metadata": {
    "executionInfo": {
     "elapsed": 397651,
     "status": "ok",
     "timestamp": 1609782715980,
     "user": {
      "displayName": "",
      "photoUrl": "",
      "userId": ""
     },
     "user_tz": 0
    },
    "id": "jrAJ_kC96v3u"
   },
   "outputs": [],
   "source": [
    "#nodeclus_labels_hier=hierarchical_som(sm,4,30,30)"
   ]
  },
  {
   "cell_type": "code",
   "execution_count": null,
   "metadata": {
    "executionInfo": {
     "elapsed": 397646,
     "status": "ok",
     "timestamp": 1609782715980,
     "user": {
      "displayName": "",
      "photoUrl": "",
      "userId": ""
     },
     "user_tz": 0
    },
    "id": "Zc1V0jVe6v3v"
   },
   "outputs": [],
   "source": [
    "#donor_profile_variables_solution_hierarchical_som , donor_profile_variable_centroids_hierarchical_som =SOM_Labeler(donor_profile_variables,sm, nodeclus_labels_hier)"
   ]
  },
  {
   "cell_type": "code",
   "execution_count": null,
   "metadata": {
    "executionInfo": {
     "elapsed": 397643,
     "status": "ok",
     "timestamp": 1609782715981,
     "user": {
      "displayName": "",
      "photoUrl": "",
      "userId": ""
     },
     "user_tz": 0
    },
    "id": "gSvsW-Mm6v3v"
   },
   "outputs": [],
   "source": [
    "#donor_profile_variables_solution_hierarchical_som['label'].value_counts()"
   ]
  },
  {
   "cell_type": "code",
   "execution_count": null,
   "metadata": {
    "executionInfo": {
     "elapsed": 397637,
     "status": "ok",
     "timestamp": 1609782715982,
     "user": {
      "displayName": "",
      "photoUrl": "",
      "userId": ""
     },
     "user_tz": 0
    },
    "id": "aHPUctTa6v3w"
   },
   "outputs": [],
   "source": [
    "#r2(donor_profile_variables_solution_hierarchical_som.drop(columns=['label', \"BMU\"]), donor_profile_variables_solution_hierarchical_som['label'])"
   ]
  },
  {
   "cell_type": "markdown",
   "metadata": {
    "id": "HTod9UzCijrD"
   },
   "source": [
    "### RFM Analysis By Quartiles\n"
   ]
  },
  {
   "cell_type": "code",
   "execution_count": null,
   "metadata": {
    "executionInfo": {
     "elapsed": 398229,
     "status": "ok",
     "timestamp": 1609782716580,
     "user": {
      "displayName": "",
      "photoUrl": "",
      "userId": ""
     },
     "user_tz": 0
    },
    "id": "B5BW1cKEiC1V"
   },
   "outputs": [],
   "source": [
    "#Create the 3 variables of quartiles\n",
    "quartiles = rfa_after_treatment.quantile(q=[0.25,0.50,0.75])\n",
    "quartiles=quartiles.to_dict()\n",
    "\n",
    "rfmSeg = rfa_after_treatment.copy()\n",
    "rfmSeg['R_Quartile'] = rfmSeg['RECENCY'].apply(RClass, args=('RECENCY',quartiles,))\n",
    "rfmSeg['F_Quartile'] = rfmSeg['FREQUENCY'].apply(FMClass, args=('FREQUENCY',quartiles,))\n",
    "rfmSeg['M_Quartile'] = rfmSeg['MONETARY'].apply(FMClass, args=('MONETARY',quartiles,))\n",
    "\n",
    "rfmSeg['RFMClass'] = rfmSeg.R_Quartile.map(str) \\\n",
    "                            + rfmSeg.F_Quartile.map(str) \\\n",
    "                            + rfmSeg.M_Quartile.map(str)"
   ]
  },
  {
   "cell_type": "code",
   "execution_count": null,
   "metadata": {
    "colab": {
     "base_uri": "https://localhost:8080/",
     "height": 0
    },
    "executionInfo": {
     "elapsed": 398224,
     "status": "ok",
     "timestamp": 1609782716582,
     "user": {
      "displayName": "",
      "photoUrl": "",
      "userId": ""
     },
     "user_tz": 0
    },
    "id": "TYcblkLwjgbZ",
    "outputId": "39be05db-a024-4d4e-ec95-cdf9b8dc611f"
   },
   "outputs": [],
   "source": [
    "rfmSeg['Total Score'] = rfmSeg['R_Quartile'] + rfmSeg['F_Quartile'] +rfmSeg['M_Quartile']\n",
    "rfmSeg[\"Total Score\"].hist()"
   ]
  },
  {
   "cell_type": "code",
   "execution_count": null,
   "metadata": {
    "colab": {
     "base_uri": "https://localhost:8080/",
     "height": 0
    },
    "executionInfo": {
     "elapsed": 398216,
     "status": "ok",
     "timestamp": 1609782716583,
     "user": {
      "displayName": "",
      "photoUrl": "",
      "userId": ""
     },
     "user_tz": 0
    },
    "id": "jL3Flkp5jyB5",
    "outputId": "dcfb5398-928e-46f1-d7a8-d03ccc5053ac"
   },
   "outputs": [],
   "source": [
    "rfmSeg.groupby('Total Score').agg('RECENCY').mean().plot(kind='bar', colormap='Blues_r')\n",
    "rfmSeg.groupby('Total Score').agg('FREQUENCY').mean().plot(kind='bar', colormap='Blues_r')\n",
    "rfmSeg.groupby('Total Score').agg('MONETARY').mean().plot(kind='bar', colormap='Blues_r')"
   ]
  },
  {
   "cell_type": "markdown",
   "metadata": {
    "id": "V1quwAMwJjv_"
   },
   "source": [
    "## **Clusters Neighbourhood**"
   ]
  },
  {
   "cell_type": "markdown",
   "metadata": {
    "id": "gS3B22nN_psG"
   },
   "source": [
    "###**Simple K-Means**"
   ]
  },
  {
   "cell_type": "code",
   "execution_count": null,
   "metadata": {
    "executionInfo": {
     "elapsed": 398215,
     "status": "ok",
     "timestamp": 1609782716587,
     "user": {
      "displayName": "",
      "photoUrl": "",
      "userId": ""
     },
     "user_tz": 0
    },
    "id": "1GtKAFc6yN08"
   },
   "outputs": [],
   "source": [
    "demographic_variables=neighbourhood[['Black Communities','Single Adults Neighbourhood','Modern Flats','Wealthier Areas', 'Single Parents Neighbourhood','New Houses','ALL_VETS']].copy()"
   ]
  },
  {
   "cell_type": "code",
   "execution_count": null,
   "metadata": {
    "colab": {
     "base_uri": "https://localhost:8080/"
    },
    "executionInfo": {
     "elapsed": 432709,
     "status": "ok",
     "timestamp": 1609782751088,
     "user": {
      "displayName": "",
      "photoUrl": "",
      "userId": ""
     },
     "user_tz": 0
    },
    "id": "Gbl9jKwAWN7s",
    "outputId": "747c2a93-1a49-4604-f2dc-b8c65f249623"
   },
   "outputs": [],
   "source": [
    "hopkins(demographic_variables)"
   ]
  },
  {
   "cell_type": "code",
   "execution_count": null,
   "metadata": {
    "colab": {
     "base_uri": "https://localhost:8080/",
     "height": 0
    },
    "executionInfo": {
     "elapsed": 449439,
     "status": "ok",
     "timestamp": 1609782767826,
     "user": {
      "displayName": "",
      "photoUrl": "",
      "userId": ""
     },
     "user_tz": 0
    },
    "id": "0ZnVj4J9H1ul",
    "outputId": "1d8b5133-3064-4602-9753-a7ecea2400c7"
   },
   "outputs": [],
   "source": [
    "k_means_elbow(demographic_variables, 2, 10, 'Elbow Graph for demographic Variables')"
   ]
  },
  {
   "cell_type": "code",
   "execution_count": null,
   "metadata": {
    "executionInfo": {
     "elapsed": 449431,
     "status": "ok",
     "timestamp": 1609782767827,
     "user": {
      "displayName": "",
      "photoUrl": "",
      "userId": ""
     },
     "user_tz": 0
    },
    "id": "nerO8IbburjL"
   },
   "outputs": [],
   "source": [
    "#avg_silhouette_graph(demographic_variables)"
   ]
  },
  {
   "cell_type": "code",
   "execution_count": null,
   "metadata": {
    "colab": {
     "base_uri": "https://localhost:8080/",
     "height": 0
    },
    "executionInfo": {
     "elapsed": 453001,
     "status": "ok",
     "timestamp": 1609782771406,
     "user": {
      "displayName": "",
      "photoUrl": "",
      "userId": ""
     },
     "user_tz": 0
    },
    "id": "8SE4y9_FH81q",
    "outputId": "50e13174-4db1-43fb-8e05-612508d3010f"
   },
   "outputs": [],
   "source": [
    "demographic_variables_solution, demographic_variables_description = kmeans(demographic_variables, 4)\n",
    "\n",
    "cluster_profiles(\n",
    "    df = demographic_variables_solution, \n",
    "    label_columns = ['Labels'], \n",
    "    figsize = (28, 7), \n",
    "    #compar_titles = ['Labels']\n",
    ")"
   ]
  },
  {
   "cell_type": "code",
   "execution_count": null,
   "metadata": {
    "executionInfo": {
     "elapsed": 452987,
     "status": "ok",
     "timestamp": 1609782771408,
     "user": {
      "displayName": "",
      "photoUrl": "",
      "userId": ""
     },
     "user_tz": 0
    },
    "id": "STx4cClvElSY"
   },
   "outputs": [],
   "source": [
    "#silhouette_graph(demographic_variables, 3)"
   ]
  },
  {
   "cell_type": "code",
   "execution_count": null,
   "metadata": {
    "colab": {
     "base_uri": "https://localhost:8080/",
     "height": 0
    },
    "executionInfo": {
     "elapsed": 454973,
     "status": "ok",
     "timestamp": 1609782773403,
     "user": {
      "displayName": "",
      "photoUrl": "",
      "userId": ""
     },
     "user_tz": 0
    },
    "id": "k5ZglJ-UhNez",
    "outputId": "51c213fb-64e3-45e9-ad6f-8655174665c9"
   },
   "outputs": [],
   "source": [
    "demographic_variables_solution.groupby('Labels').boxplot(column=demographic_variables.columns.to_list(), figsize=(25,15), rot=10)"
   ]
  },
  {
   "cell_type": "code",
   "execution_count": null,
   "metadata": {
    "colab": {
     "base_uri": "https://localhost:8080/",
     "height": 0
    },
    "executionInfo": {
     "elapsed": 454967,
     "status": "ok",
     "timestamp": 1609782773405,
     "user": {
      "displayName": "",
      "photoUrl": "",
      "userId": ""
     },
     "user_tz": 0
    },
    "id": "126xcFc-wpLp",
    "outputId": "4436e172-90fe-439a-8d09-338d0cac0298"
   },
   "outputs": [],
   "source": [
    "#As we can see there aren't any differences between this variables among the clusters\n",
    "\n",
    "pd.concat([demographic_variables_solution['Labels'], users_data[['AGE', 'NUMCHLD', 'HIT']]], join='inner', axis=1).groupby('Labels').mean()"
   ]
  },
  {
   "cell_type": "code",
   "execution_count": null,
   "metadata": {
    "colab": {
     "base_uri": "https://localhost:8080/"
    },
    "executionInfo": {
     "elapsed": 454962,
     "status": "ok",
     "timestamp": 1609782773407,
     "user": {
      "displayName": "",
      "photoUrl": "",
      "userId": ""
     },
     "user_tz": 0
    },
    "id": "zDqIJJ8n3NMO",
    "outputId": "c62f03e6-6863-4bf1-b551-145f0b1c46fb"
   },
   "outputs": [],
   "source": [
    "r2(demographic_variables, demographic_variables_solution['Labels'])"
   ]
  },
  {
   "cell_type": "markdown",
   "metadata": {
    "id": "EneOelm6iFLj"
   },
   "source": [
    "### **Hierarchical Clustering on top of Kmeans**"
   ]
  },
  {
   "cell_type": "code",
   "execution_count": null,
   "metadata": {
    "executionInfo": {
     "elapsed": 454958,
     "status": "ok",
     "timestamp": 1609782773408,
     "user": {
      "displayName": "",
      "photoUrl": "",
      "userId": ""
     },
     "user_tz": 0
    },
    "id": "WjkSBvwEYzta"
   },
   "outputs": [],
   "source": [
    "#kmeans_centroids, demographic_variables_centroids = hierarchical_ontop_of_kmeans2(demographic_variables, 'ward')"
   ]
  },
  {
   "cell_type": "code",
   "execution_count": null,
   "metadata": {
    "executionInfo": {
     "elapsed": 454953,
     "status": "ok",
     "timestamp": 1609782773409,
     "user": {
      "displayName": "",
      "photoUrl": "",
      "userId": ""
     },
     "user_tz": 0
    },
    "id": "2w2Yi1UvdX3G"
   },
   "outputs": [],
   "source": [
    "##kmeans_centroids_solution, kmeans_centroids_descript = hierarchical(kmeans_centroids, 4, 'ward')"
   ]
  },
  {
   "cell_type": "code",
   "execution_count": null,
   "metadata": {
    "executionInfo": {
     "elapsed": 454949,
     "status": "ok",
     "timestamp": 1609782773411,
     "user": {
      "displayName": "",
      "photoUrl": "",
      "userId": ""
     },
     "user_tz": 0
    },
    "id": "4_A8cwuFfm6W"
   },
   "outputs": [],
   "source": [
    "#for i in range(1,200):\n",
    "#    demographic_variables_centroids['labels'][demographic_variables_centroids['labels'] == i] = kmeans_centroids_solution['Labels'].to_list()[i]"
   ]
  },
  {
   "cell_type": "code",
   "execution_count": null,
   "metadata": {
    "executionInfo": {
     "elapsed": 454942,
     "status": "ok",
     "timestamp": 1609782773411,
     "user": {
      "displayName": "",
      "photoUrl": "",
      "userId": ""
     },
     "user_tz": 0
    },
    "id": "N3hyaeHih-iC"
   },
   "outputs": [],
   "source": [
    "#demographic_variables_centroids.groupby('labels').mean()"
   ]
  },
  {
   "cell_type": "code",
   "execution_count": null,
   "metadata": {
    "executionInfo": {
     "elapsed": 454938,
     "status": "ok",
     "timestamp": 1609782773412,
     "user": {
      "displayName": "",
      "photoUrl": "",
      "userId": ""
     },
     "user_tz": 0
    },
    "id": "BDC-NE8ig0Gb"
   },
   "outputs": [],
   "source": [
    "#r2(demographic_variables_centroids.drop(columns=['labels']), demographic_variables_centroids['labels'])"
   ]
  },
  {
   "cell_type": "markdown",
   "metadata": {
    "id": "VWC1z4CVAsVc"
   },
   "source": [
    "### **Kmeans Clustering on top of SOM units**"
   ]
  },
  {
   "cell_type": "code",
   "execution_count": null,
   "metadata": {
    "executionInfo": {
     "elapsed": 454931,
     "status": "ok",
     "timestamp": 1609782773412,
     "user": {
      "displayName": "",
      "photoUrl": "",
      "userId": ""
     },
     "user_tz": 0
    },
    "id": "uSx8cU5kLycL"
   },
   "outputs": [],
   "source": [
    "#sm =SOM_1(demographic_variables,50,50)"
   ]
  },
  {
   "cell_type": "code",
   "execution_count": null,
   "metadata": {
    "executionInfo": {
     "elapsed": 454928,
     "status": "ok",
     "timestamp": 1609782773414,
     "user": {
      "displayName": "",
      "photoUrl": "",
      "userId": ""
     },
     "user_tz": 0
    },
    "id": "0-A-I088oS7C"
   },
   "outputs": [],
   "source": [
    "#nodeclus_labels=k_means_som(sm,4,30,30) #returns the cluster labels"
   ]
  },
  {
   "cell_type": "code",
   "execution_count": null,
   "metadata": {
    "executionInfo": {
     "elapsed": 454924,
     "status": "ok",
     "timestamp": 1609782773415,
     "user": {
      "displayName": "",
      "photoUrl": "",
      "userId": ""
     },
     "user_tz": 0
    },
    "id": "oUv-i_72oTFp"
   },
   "outputs": [],
   "source": [
    "#demographic_variables_kmeansom_solution,demographic_variable_kmeansom_centroids=SOM_Labeler(demographic_variables,sm,nodeclus_labels)"
   ]
  },
  {
   "cell_type": "code",
   "execution_count": null,
   "metadata": {
    "executionInfo": {
     "elapsed": 454918,
     "status": "ok",
     "timestamp": 1609782773415,
     "user": {
      "displayName": "",
      "photoUrl": "",
      "userId": ""
     },
     "user_tz": 0
    },
    "id": "kPPLQXLwxAtY"
   },
   "outputs": [],
   "source": [
    "#r2(demographic_variables_kmeansom_solution.drop(columns=['label', \"BMU\"]), demographic_variables_kmeansom_solution['label'])"
   ]
  },
  {
   "cell_type": "markdown",
   "metadata": {
    "id": "bXXRT8MB2Ast"
   },
   "source": [
    "### **Hierarchical Clustering on top of SOM units**"
   ]
  },
  {
   "cell_type": "code",
   "execution_count": null,
   "metadata": {
    "executionInfo": {
     "elapsed": 454913,
     "status": "ok",
     "timestamp": 1609782773415,
     "user": {
      "displayName": "",
      "photoUrl": "",
      "userId": ""
     },
     "user_tz": 0
    },
    "id": "n8RyTnXIIryl"
   },
   "outputs": [],
   "source": [
    "#sm =SOM_1(demographic_variables,50,50)"
   ]
  },
  {
   "cell_type": "code",
   "execution_count": null,
   "metadata": {
    "executionInfo": {
     "elapsed": 454909,
     "status": "ok",
     "timestamp": 1609782773416,
     "user": {
      "displayName": "",
      "photoUrl": "",
      "userId": ""
     },
     "user_tz": 0
    },
    "id": "6ImF2WkDPgv1"
   },
   "outputs": [],
   "source": [
    "#nodeclus_labels_hier=hierarchical_som(sm,4,30,30)"
   ]
  },
  {
   "cell_type": "code",
   "execution_count": null,
   "metadata": {
    "executionInfo": {
     "elapsed": 454901,
     "status": "ok",
     "timestamp": 1609782773416,
     "user": {
      "displayName": "",
      "photoUrl": "",
      "userId": ""
     },
     "user_tz": 0
    },
    "id": "oFuZa8wjQU21"
   },
   "outputs": [],
   "source": [
    "#demographic_variables_solution_hierarchical_som , demographic_variable_centroids_hierarchical_som =SOM_Labeler(demographic_variables,sm, nodeclus_labels_hier)"
   ]
  },
  {
   "cell_type": "code",
   "execution_count": null,
   "metadata": {
    "executionInfo": {
     "elapsed": 454898,
     "status": "ok",
     "timestamp": 1609782773418,
     "user": {
      "displayName": "",
      "photoUrl": "",
      "userId": ""
     },
     "user_tz": 0
    },
    "id": "WTeSzLqzhVDM"
   },
   "outputs": [],
   "source": [
    "#demographic_variables_solution_hierarchical_som['label'].value_counts()"
   ]
  },
  {
   "cell_type": "code",
   "execution_count": null,
   "metadata": {
    "executionInfo": {
     "elapsed": 454892,
     "status": "ok",
     "timestamp": 1609782773418,
     "user": {
      "displayName": "",
      "photoUrl": "",
      "userId": ""
     },
     "user_tz": 0
    },
    "id": "Bjz-kNoLhg08"
   },
   "outputs": [],
   "source": [
    "#r2(demographic_variables_solution_hierarchical_som.drop(columns=['label', \"BMU\"]), demographic_variables_solution_hierarchical_som['label'])"
   ]
  },
  {
   "cell_type": "markdown",
   "metadata": {
    "id": "fKSsUSSyabdH"
   },
   "source": [
    "# **Final Clustering Solution**"
   ]
  },
  {
   "cell_type": "markdown",
   "metadata": {
    "id": "oPLQi1fxXdq9"
   },
   "source": [
    "## **Merging Both Cluster Solutions**"
   ]
  },
  {
   "cell_type": "code",
   "execution_count": null,
   "metadata": {
    "colab": {
     "base_uri": "https://localhost:8080/",
     "height": 206
    },
    "executionInfo": {
     "elapsed": 448220,
     "status": "ok",
     "timestamp": 1609782773418,
     "user": {
      "displayName": "",
      "photoUrl": "",
      "userId": ""
     },
     "user_tz": 0
    },
    "id": "66F1FDa_afDe",
    "outputId": "519e6e5b-d9a6-4de3-ffde-4fe63d6e6dd7"
   },
   "outputs": [],
   "source": [
    "donor_profile_variables_solution.rename(columns={'Labels':'Donor_Profile_Labels'}, inplace=True)\n",
    "demographic_variables_solution.rename(columns={'Labels':'Demographic_Labels'}, inplace=True)\n",
    "final_clustering_solution=pd.concat([donor_profile_variables_solution, demographic_variables_solution], join='inner', axis=1)\n",
    "final_clustering_solution.groupby(['Donor_Profile_Labels', 'Demographic_Labels'])\\\n",
    "    .size()\\\n",
    "    .to_frame()\\\n",
    "    .reset_index()\\\n",
    "    .pivot('Donor_Profile_Labels', 'Demographic_Labels', 0)"
   ]
  },
  {
   "cell_type": "code",
   "execution_count": null,
   "metadata": {
    "colab": {
     "base_uri": "https://localhost:8080/",
     "height": 1000
    },
    "executionInfo": {
     "elapsed": 448985,
     "status": "ok",
     "timestamp": 1609782774199,
     "user": {
      "displayName": "",
      "photoUrl": "",
      "userId": ""
     },
     "user_tz": 0
    },
    "id": "CsIAgjh9bx5u",
    "outputId": "2adf4c11-ccd7-4519-cf05-ed9233f0db24"
   },
   "outputs": [],
   "source": [
    "final_centroids = final_clustering_solution.groupby(['Donor_Profile_Labels', 'Demographic_Labels'])\\\n",
    "    [final_clustering_solution.drop(columns=['Donor_Profile_Labels', 'Demographic_Labels']).columns.to_list()].mean()\n",
    "\n",
    "hclust = AgglomerativeClustering(\n",
    "    linkage='ward', \n",
    "    affinity='euclidean', \n",
    "    distance_threshold=0, \n",
    "    n_clusters=None\n",
    ")\n",
    "hclust_labels = hclust.fit_predict(final_centroids)\n",
    "\n",
    "linkage='ward'\n",
    "# Adapted from:\n",
    "# https://scikit-learn.org/stable/auto_examples/cluster/plot_agglomerative_dendrogram.html#sphx-glr-auto-examples-cluster-plot-agglomerative-dendrogram-py\n",
    "\n",
    "# create the counts of samples under each node (number of points being merged)\n",
    "counts = np.zeros(hclust.children_.shape[0])\n",
    "n_samples = len(hclust.labels_)\n",
    "\n",
    "# hclust.children_ contains the observation ids that are being merged together\n",
    "# At the i-th iteration, children[i][0] and children[i][1] are merged to form node n_samples + i\n",
    "for i, merge in enumerate(hclust.children_):\n",
    "    # track the number of observations in the current cluster being formed\n",
    "    current_count = 0\n",
    "    for child_idx in merge:\n",
    "        if child_idx < n_samples:\n",
    "            # If this is True, then we are merging an observation\n",
    "            current_count += 1  # leaf node\n",
    "        else:\n",
    "            # Otherwise, we are merging a previously formed cluster\n",
    "            current_count += counts[child_idx - n_samples]\n",
    "    counts[i] = current_count\n",
    "\n",
    "# the hclust.children_ is used to indicate the two points/clusters being merged (dendrogram's u-joins)\n",
    "# the hclust.distances_ indicates the distance between the two points/clusters (height of the u-joins)\n",
    "# the counts indicate the number of points being merged (dendrogram's x-axis)\n",
    "linkage_matrix = np.column_stack(\n",
    "    [hclust.children_, hclust.distances_, counts]\n",
    ").astype(float)\n",
    "\n",
    "# Plot the corresponding dendrogram\n",
    "sns.set()\n",
    "fig = plt.figure(figsize=(11,5))\n",
    "# The Dendrogram parameters need to be tuned   , labels=df_centroids.index\n",
    "y_threshold = 4.5\n",
    "dendrogram(linkage_matrix, truncate_mode='level', p=5, color_threshold=y_threshold, above_threshold_color='k')\n",
    "plt.hlines(y_threshold, 0, 1000, colors=\"r\", linestyles=\"dashed\")\n",
    "plt.title(f'Hierarchical Clustering - {linkage.title()}\\'s Dendrogram', fontsize=21)\n",
    "plt.xlabel('Number of points in node (or index of point if no parenthesis)')\n",
    "plt.ylabel(f'Euclidean Distance', fontsize=13)\n",
    "plt.show()"
   ]
  },
  {
   "cell_type": "code",
   "execution_count": null,
   "metadata": {
    "colab": {
     "base_uri": "https://localhost:8080/",
     "height": 143
    },
    "executionInfo": {
     "elapsed": 449387,
     "status": "ok",
     "timestamp": 1609782774614,
     "user": {
      "displayName": "",
      "photoUrl": "",
      "userId": ""
     },
     "user_tz": 0
    },
    "id": "F3O9cA57dWfe",
    "outputId": "e5bfd0ca-3f05-4be8-dd71-6c7fb988aa3b"
   },
   "outputs": [],
   "source": [
    "hclust = AgglomerativeClustering(\n",
    "    linkage='ward', \n",
    "    affinity='euclidean', \n",
    "    n_clusters=4\n",
    ")\n",
    "hclust_labels = hclust.fit_predict(final_centroids)\n",
    "final_centroids['hclust_labels'] = hclust_labels\n",
    "\n",
    "cluster_mapper = final_centroids['hclust_labels'].to_dict()\n",
    "\n",
    "df_ = final_clustering_solution.copy()\n",
    "\n",
    "# Mapping the hierarchical clusters on the centroids to the observations\n",
    "df_['merged_labels'] = df_.apply(\n",
    "    lambda row: cluster_mapper[\n",
    "        ( row['Demographic_Labels'], row['Donor_Profile_Labels'])\n",
    "    ], axis=1\n",
    ")\n",
    "\n",
    "#Merge cluster contigency table\n",
    "# Getting size of each final cluster\n",
    "df_counts = df_.groupby('merged_labels')\\\n",
    "    .size()\\\n",
    "    .to_frame()\n",
    "\n",
    "# Getting the product and behavior labels\n",
    "df_counts = df_counts\\\n",
    "    .rename({v:k for k, v in cluster_mapper.items()})\\\n",
    "    .reset_index()\n",
    "\n",
    "df_counts['Donor_Profile_Labels'] = df_counts['merged_labels'].apply(lambda x: x[0])\n",
    "df_counts['Demographic_Labels'] = df_counts['merged_labels'].apply(lambda x: x[1])\n",
    "df_counts.pivot('Donor_Profile_Labels', 'Demographic_Labels', 0)"
   ]
  },
  {
   "cell_type": "code",
   "execution_count": null,
   "metadata": {
    "colab": {
     "base_uri": "https://localhost:8080/",
     "height": 1000
    },
    "executionInfo": {
     "elapsed": 453884,
     "status": "ok",
     "timestamp": 1609782779123,
     "user": {
      "displayName": "",
      "photoUrl": "",
      "userId": ""
     },
     "user_tz": 0
    },
    "id": "oZ5j5bugfLJW",
    "outputId": "5571bb27-b748-4187-e6e0-189c65b9bfe7"
   },
   "outputs": [],
   "source": [
    "final_clustering_solution = df_.copy() \n",
    "\n",
    "cluster_profiles(\n",
    "    df = final_clustering_solution, \n",
    "    label_columns = ['Donor_Profile_Labels', 'Demographic_Labels','merged_labels'], \n",
    "    figsize = (28, 13), \n",
    "    compar_titles = ['Donor_Profile_Labels', 'Demographic_Labels', \"Merged clusters\"]\n",
    ")"
   ]
  },
  {
   "cell_type": "code",
   "execution_count": null,
   "metadata": {
    "colab": {
     "base_uri": "https://localhost:8080/",
     "height": 1000
    },
    "executionInfo": {
     "elapsed": 455613,
     "status": "ok",
     "timestamp": 1609782780865,
     "user": {
      "displayName": "",
      "photoUrl": "",
      "userId": ""
     },
     "user_tz": 0
    },
    "id": "BnMu-vAbpY2U",
    "outputId": "fbc74db5-2612-47ee-9f52-6d4e6030a27d"
   },
   "outputs": [],
   "source": [
    "final_clustering_solution.groupby('merged_labels').boxplot(column=final_clustering_solution.drop(columns=['Donor_Profile_Labels', 'Demographic_Labels','merged_labels']).columns.to_list(), figsize=(25,15), rot=90)"
   ]
  },
  {
   "cell_type": "markdown",
   "metadata": {
    "id": "47oUwk3fFDJb"
   },
   "source": [
    "## **Categorical Variables Analysis**\n",
    "\n",
    "\n",
    "\n"
   ]
  },
  {
   "cell_type": "markdown",
   "metadata": {
    "id": "fSoDSXvOsQh_"
   },
   "source": [
    "### Missing Values Imputation "
   ]
  },
  {
   "cell_type": "code",
   "execution_count": null,
   "metadata": {
    "executionInfo": {
     "elapsed": 61485,
     "status": "ok",
     "timestamp": 1609775376389,
     "user": {
      "displayName": "",
      "photoUrl": "",
      "userId": ""
     },
     "user_tz": 0
    },
    "id": "dEMouVJdQsNs"
   },
   "outputs": [],
   "source": [
    "users_data[\"DATASRCE\"]= users_data[\"DATASRCE\"].replace(\" \", np.nan)"
   ]
  },
  {
   "cell_type": "code",
   "execution_count": null,
   "metadata": {
    "executionInfo": {
     "elapsed": 61479,
     "status": "ok",
     "timestamp": 1609775376389,
     "user": {
      "displayName": "",
      "photoUrl": "",
      "userId": ""
     },
     "user_tz": 0
    },
    "id": "luGTh6bCAxhJ"
   },
   "outputs": [],
   "source": [
    "users_data_nan_URB =  users_data[[\"URBANICITY\"]][users_data[[\"URBANICITY\"]].isnull().any(axis=1)]\n",
    "users_data_nan_SES =  users_data[[\"SES\",]][users_data[[\"SES\"]].isnull().any(axis=1)]\n",
    "users_data_nan_INC =  users_data[[\"INCOME\"]][users_data[[\"INCOME\"]].isnull().any(axis=1)]\n",
    "users_data_nan_DSC =  users_data[[\"DATASRCE\"]][users_data[[\"DATASRCE\"]].isnull().any(axis=1)]\n",
    "\n",
    "users_data_not_nan_URB =  users_data[[\"URBANICITY\"]][~users_data[[\"URBANICITY\"]].isnull().any(axis=1)]\n",
    "users_data_not_nan_SES=  users_data[[\"SES\"]][~users_data[[\"SES\"]].isnull().any(axis=1)]\n",
    "users_data_not_nan_INC =  users_data[[\"INCOME\"]][~users_data[[\"INCOME\"]].isnull().any(axis=1)]\n",
    "users_data_not_nan_DSC =  users_data[[\"DATASRCE\"]][~users_data[[\"DATASRCE\"]].isnull().any(axis=1)]\n",
    "\n",
    "users_data_nan_URB_X=users_data_nan_URB.drop(columns=['URBANICITY'])\n",
    "users_data_nan_SES_X=users_data_nan_SES.drop(columns=['SES'])\n",
    "users_data_nan_INC_X=users_data_nan_INC.drop(columns=['INCOME'])\n",
    "users_data_nan_DSC_X=users_data_nan_DSC.drop(columns=['DATASRCE'])\n",
    "\n",
    "predictor_nan_URB=pd.concat([users_data_not_nan_URB,final_clustering_solution.drop(columns=['Donor_Profile_Labels','Demographic_Labels','merged_labels'])],axis=1,join='inner')\n",
    "predictor_nan_SES=pd.concat([users_data_not_nan_SES,final_clustering_solution.drop(columns=['Donor_Profile_Labels','Demographic_Labels','merged_labels'])],axis=1,join='inner')\n",
    "predictor_nan_INC=pd.concat([users_data_not_nan_INC,final_clustering_solution.drop(columns=['Donor_Profile_Labels','Demographic_Labels','merged_labels'])],axis=1,join='inner')\n",
    "predictor_nan_DSC=pd.concat([users_data_not_nan_DSC,final_clustering_solution.drop(columns=['Donor_Profile_Labels','Demographic_Labels','merged_labels'])],axis=1,join='inner')\n",
    "\n",
    "predictor_nan_URB_y=predictor_nan_URB['URBANICITY']\n",
    "predictor_nan_SES_y=predictor_nan_SES['SES']\n",
    "predictor_nan_INC_y=predictor_nan_INC['INCOME']\n",
    "predictor_nan_DSC_y=predictor_nan_DSC['DATASRCE']\n",
    "\n",
    "predictor_nan_URB=predictor_nan_URB.drop(columns=[ 'URBANICITY'])\n",
    "predictor_nan_SES=predictor_nan_SES.drop(columns=[ 'SES'])\n",
    "predictor_nan_INC=predictor_nan_INC.drop(columns=['INCOME'])\n",
    "predictor_nan_DSC=predictor_nan_DSC.drop(columns=['DATASRCE'])\n",
    "\n",
    "to_predict_nan_URB=pd.concat([users_data_nan_URB,final_clustering_solution.drop(columns=['Donor_Profile_Labels','Demographic_Labels','merged_labels'])],axis=1,join='inner')\n",
    "to_predict_nan_SES=pd.concat([users_data_nan_SES,final_clustering_solution.drop(columns=['Donor_Profile_Labels','Demographic_Labels','merged_labels'])],axis=1,join='inner')\n",
    "to_predict_nan_INC=pd.concat([users_data_nan_INC,final_clustering_solution.drop(columns=['Donor_Profile_Labels','Demographic_Labels','merged_labels'])],axis=1,join='inner')\n",
    "to_predict_nan_DSC=pd.concat([users_data_nan_DSC,final_clustering_solution.drop(columns=['Donor_Profile_Labels','Demographic_Labels','merged_labels'])],axis=1,join='inner')\n",
    "\n",
    "to_predict_nan_URB_y=to_predict_nan_URB['URBANICITY']\n",
    "to_predict_nan_SES_y=to_predict_nan_SES['SES']\n",
    "to_predict_nan_INC_y=to_predict_nan_INC['INCOME']\n",
    "to_predict_nan_DSC_y=to_predict_nan_DSC['DATASRCE']\n",
    "\n",
    "to_predict_nan_URB=to_predict_nan_URB.drop(columns=['URBANICITY'])\n",
    "to_predict_nan_SES=to_predict_nan_SES.drop(columns=['SES'])\n",
    "to_predict_nan_INC=to_predict_nan_INC.drop(columns=['INCOME'])\n",
    "to_predict_nan_DSC=to_predict_nan_DSC.drop(columns=['DATASRCE'])"
   ]
  },
  {
   "cell_type": "code",
   "execution_count": null,
   "metadata": {
    "executionInfo": {
     "elapsed": 61479,
     "status": "ok",
     "timestamp": 1609775376391,
     "user": {
      "displayName": "",
      "photoUrl": "",
      "userId": ""
     },
     "user_tz": 0
    },
    "id": "afuhQ-COtAuW"
   },
   "outputs": [],
   "source": [
    "final_clustering_solution=pd.concat([final_clustering_solution,users_data[['INCOME','URBANICITY','SES', \"DATASRCE\"]]],axis=1,join='inner')"
   ]
  },
  {
   "cell_type": "code",
   "execution_count": null,
   "metadata": {
    "executionInfo": {
     "elapsed": 61478,
     "status": "ok",
     "timestamp": 1609775376392,
     "user": {
      "displayName": "",
      "photoUrl": "",
      "userId": ""
     },
     "user_tz": 0
    },
    "id": "RuJ_iaOzI-vA"
   },
   "outputs": [],
   "source": [
    "X_train_URB, X_val_URB, y_train_URB, y_val_URB = train_test_split(predictor_nan_URB, predictor_nan_URB_y, test_size = 0.30, stratify = predictor_nan_URB_y, random_state = 15)\n",
    "X_train_SES, X_val_SES, y_train_SES, y_val_SES = train_test_split(predictor_nan_SES, predictor_nan_SES_y, test_size = 0.30, stratify = predictor_nan_SES_y, random_state = 15)\n",
    "X_train_INC, X_val_INC, y_train_INC, y_val_INC = train_test_split(predictor_nan_INC, predictor_nan_INC_y, test_size = 0.30, stratify = predictor_nan_INC_y, random_state = 15)\n",
    "X_train_DSC, X_val_DSC, y_train_DSC, y_val_DSC = train_test_split(predictor_nan_DSC, predictor_nan_DSC_y, test_size = 0.30, stratify = predictor_nan_DSC_y, random_state = 15)"
   ]
  },
  {
   "cell_type": "code",
   "execution_count": null,
   "metadata": {
    "colab": {
     "base_uri": "https://localhost:8080/"
    },
    "executionInfo": {
     "elapsed": 127389,
     "status": "ok",
     "timestamp": 1609775442307,
     "user": {
      "displayName": "",
      "photoUrl": "",
      "userId": ""
     },
     "user_tz": 0
    },
    "id": "corkZA8JPs7S",
    "outputId": "145ac557-6350-43e9-d4f9-94336c3e155f"
   },
   "outputs": [],
   "source": [
    "GradientBoost_Final_SES = GradientBoostingClassifier(n_estimators=160, learning_rate=0.05, subsample=0.8, min_samples_split=105, min_samples_leaf=1, max_depth=7, max_features='sqrt', random_state=15).fit(X_train_SES, y_train_SES)\n",
    "metrics(y_train_SES, GradientBoost_Final_SES.predict(X_train_SES), y_val_SES, GradientBoost_Final_SES.predict(X_val_SES))\n",
    "final_clustering_solution['SES'][final_clustering_solution.index.isin(to_predict_nan_SES.index)]=GradientBoost_Final_SES.predict(to_predict_nan_SES)"
   ]
  },
  {
   "cell_type": "code",
   "execution_count": null,
   "metadata": {
    "colab": {
     "base_uri": "https://localhost:8080/"
    },
    "executionInfo": {
     "elapsed": 241873,
     "status": "ok",
     "timestamp": 1609775556793,
     "user": {
      "displayName": "",
      "photoUrl": "",
      "userId": ""
     },
     "user_tz": 0
    },
    "id": "fwRb6dx7RF8_",
    "outputId": "c37989a4-f2ac-4eb4-c4c5-94423f68e050"
   },
   "outputs": [],
   "source": [
    "GradientBoost_Final_URB = GradientBoostingClassifier(n_estimators=160, learning_rate=0.05, subsample=0.8, min_samples_split=105, min_samples_leaf=1, max_depth=7, max_features='sqrt', random_state=15).fit(X_train_URB, y_train_URB)\n",
    "metrics(y_train_URB, GradientBoost_Final_URB.predict(X_train_URB), y_val_URB, GradientBoost_Final_URB.predict(X_val_URB))\n",
    "final_clustering_solution['URBANICITY'][final_clustering_solution.index.isin(to_predict_nan_URB.index)]=GradientBoost_Final_URB.predict(to_predict_nan_URB)"
   ]
  },
  {
   "cell_type": "code",
   "execution_count": null,
   "metadata": {
    "executionInfo": {
     "elapsed": 241875,
     "status": "ok",
     "timestamp": 1609775556798,
     "user": {
      "displayName": "",
      "photoUrl": "",
      "userId": ""
     },
     "user_tz": 0
    },
    "id": "M9XjrxieSUNm"
   },
   "outputs": [],
   "source": [
    "# GradientBoost_Final_INC = GradientBoostingClassifier(n_estimators=300, learning_rate=0.01, subsample=0.8, max_depth=10, max_features='sqrt', random_state=15).fit(X_train_INC, y_train_INC)\n",
    "# metrics(y_train_INC, GradientBoost_Final_INC.predict(X_train_INC), y_val_INC, GradientBoost_Final_INC.predict(X_val_INC))"
   ]
  },
  {
   "cell_type": "code",
   "execution_count": null,
   "metadata": {
    "colab": {
     "base_uri": "https://localhost:8080/"
    },
    "executionInfo": {
     "elapsed": 344285,
     "status": "ok",
     "timestamp": 1609775659212,
     "user": {
      "displayName": "",
      "photoUrl": "",
      "userId": ""
     },
     "user_tz": 0
    },
    "id": "FuyBR66OHp69",
    "outputId": "1d205fba-3d9a-4e00-83fd-e38c8763566f"
   },
   "outputs": [],
   "source": [
    "GradientBoost_Final_DSC = GradientBoostingClassifier(n_estimators=300, learning_rate=0.01, subsample=0.8, min_samples_split=105, min_samples_leaf=1, max_depth=7, max_features='sqrt', random_state=15).fit(X_train_DSC, y_train_DSC)\n",
    "metrics(y_train_DSC, GradientBoost_Final_DSC.predict(X_train_DSC), y_val_DSC, GradientBoost_Final_DSC.predict(X_val_DSC))\n",
    "final_clustering_solution['DATASRCE'][final_clustering_solution.index.isin(to_predict_nan_DSC.index)]=GradientBoost_Final_DSC.predict(to_predict_nan_DSC)"
   ]
  },
  {
   "cell_type": "markdown",
   "metadata": {
    "id": "tuj8tocBa9kR"
   },
   "source": [
    "### Category per Cluster"
   ]
  },
  {
   "cell_type": "code",
   "execution_count": null,
   "metadata": {
    "executionInfo": {
     "elapsed": 344286,
     "status": "ok",
     "timestamp": 1609775659215,
     "user": {
      "displayName": "",
      "photoUrl": "",
      "userId": ""
     },
     "user_tz": 0
    },
    "id": "JKJGeJ5KbBUH"
   },
   "outputs": [],
   "source": [
    "teste=pd.concat([final_clustering_solution[['merged_labels', \"URBANICITY\", \"INCOME\", \"SES\", \"DATASRCE\"]], users_data[['FEMALE', 'COLLECT1', 'VETERANS', 'BIBLE', 'CATLG', 'HOMEE',\n",
    "                  'PETS', 'CDPLAY', 'STEREO', 'PCOWNERS', 'PHOTO', 'CRAFTS',\n",
    "                  'FISHER', 'GARDENIN', 'BOATS', 'WALKER', 'KIDSTUFF', 'CARDS',\n",
    "                  'PLATES','MBCRAFT',\n",
    "       'MBGARDEN', 'MBBOOKS', 'MBCOLECT', 'MAGFAML', 'MAGFEM', 'MAGMALE',\n",
    "       'PUBGARDN', 'PUBCULIN', 'PUBHLTH', 'PUBDOITY', 'PUBNEWFN', 'PUBPHOTO',\n",
    "       'PUBOPP']]], join='inner', axis=1)\n",
    "\n",
    "teste[\"URBANICITY\"] = teste[\"URBANICITY\"].astype(\"int64\")\n",
    "teste[\"SES\"] = teste[\"SES\"].astype(\"int64\")\n",
    "# final_clustering_solution[\"INCOME\"] = final_clustering_solution[\"INCOME\"].astype(\"int64\")"
   ]
  },
  {
   "cell_type": "code",
   "execution_count": null,
   "metadata": {
    "colab": {
     "base_uri": "https://localhost:8080/",
     "height": 0
    },
    "executionInfo": {
     "elapsed": 344900,
     "status": "ok",
     "timestamp": 1609775659831,
     "user": {
      "displayName": "",
      "photoUrl": "",
      "userId": ""
     },
     "user_tz": 0
    },
    "id": "uF_LpiHSDiaf",
    "outputId": "2f7246cc-d4e9-4895-a5b2-5fdb7c7cdc84"
   },
   "outputs": [],
   "source": [
    "#PROPORTION OF WOMEN\n",
    "\n",
    "testefemale = teste.groupby(['merged_labels', 'FEMALE']).agg({'INCOME': 'count'})\n",
    "female_pcts = testefemale.groupby(level=0).apply(lambda x:100 * x / float(x.sum())).reset_index()\n",
    "female_pcts = female_pcts[female_pcts[\"FEMALE\"] == 0]\n",
    "\n",
    "fig, ax2 = plt.subplots(figsize=(15, 5))\n",
    "plt.gca().set_ylim(bottom=0, top=50)\n",
    "ticks = [0, 1,2,3]\n",
    "plt.xticks(ticks,rotation=90)\n",
    "ax2.bar(female_pcts[\"merged_labels\"], female_pcts[\"INCOME\"], color='darkolivegreen')\n",
    "ax2.set(xlabel=\"Proportion of Women\", ylabel=\"Cluster Number\", title=\"Proportion of Women per Cluster\")"
   ]
  },
  {
   "cell_type": "code",
   "execution_count": null,
   "metadata": {
    "colab": {
     "base_uri": "https://localhost:8080/",
     "height": 0
    },
    "executionInfo": {
     "elapsed": 346787,
     "status": "ok",
     "timestamp": 1609775661721,
     "user": {
      "displayName": "",
      "photoUrl": "",
      "userId": ""
     },
     "user_tz": 0
    },
    "id": "rRakK6nyafZg",
    "outputId": "cfc66866-620d-4eb2-ce61-5d349be5bc53"
   },
   "outputs": [],
   "source": [
    "testeDATASRCE = teste.rename(columns={\"FEMALE\": \"TOT_INDIV\"}).groupby(['merged_labels', 'DATASRCE']).agg({'TOT_INDIV': 'count'}).reset_index()\n",
    "cluster0DATASRCE = testeDATASRCE[testeDATASRCE[\"merged_labels\"] == 0]\n",
    "cluster1DATASRCE = testeDATASRCE[testeDATASRCE[\"merged_labels\"] == 1]\n",
    "cluster2DATASRCE = testeDATASRCE[testeDATASRCE[\"merged_labels\"] == 2]\n",
    "cluster3DATASRCE= testeDATASRCE[testeDATASRCE[\"merged_labels\"] == 3]\n",
    "\n",
    "cluster0DATASRCE.plot(\"DATASRCE\", \"TOT_INDIV\", kind='bar', colormap='YlGn_r').set(xlabel=\"DATASRCE Category\", ylabel=\"Number of People\", title=\"DATASRCE on the 1st Cluster\")\n",
    "cluster1DATASRCE.plot(\"DATASRCE\", \"TOT_INDIV\", kind='bar', colormap='YlGn_r').set(xlabel=\"DATASRCE Category\", ylabel=\"Number of People\", title=\"DATASRCE on the 2nd Cluster\")\n",
    "cluster2DATASRCE.plot(\"DATASRCE\", \"TOT_INDIV\", kind='bar', colormap='YlGn_r').set(xlabel=\"DATASRCE Category\", ylabel=\"Number of People\", title=\"DATASRCE on the 3rd Cluster\")\n",
    "cluster3DATASRCE.plot(\"DATASRCE\", \"TOT_INDIV\", kind='bar', colormap='YlGn_r').set(xlabel=\"DATASRCE Category\", ylabel=\"Number of People\", title=\"DATASRCE on the 4th Cluster\")"
   ]
  },
  {
   "cell_type": "code",
   "execution_count": null,
   "metadata": {
    "colab": {
     "base_uri": "https://localhost:8080/",
     "height": 0
    },
    "executionInfo": {
     "elapsed": 347866,
     "status": "ok",
     "timestamp": 1609775662803,
     "user": {
      "displayName": "",
      "photoUrl": "",
      "userId": ""
     },
     "user_tz": 0
    },
    "id": "l57cz9VVakKN",
    "outputId": "a173761d-98ad-4e39-a40b-be6f12df4469"
   },
   "outputs": [],
   "source": [
    "testeSES = teste.rename(columns={\"FEMALE\": \"TOT_INDIV\"}).groupby(['merged_labels', 'SES']).agg({'TOT_INDIV': 'count'}).reset_index()\n",
    "cluster0ses = testeSES[testeSES[\"merged_labels\"] == 0]\n",
    "cluster1ses = testeSES[testeSES[\"merged_labels\"] == 1]\n",
    "cluster2ses = testeSES[testeSES[\"merged_labels\"] == 2]\n",
    "cluster3ses = testeSES[testeSES[\"merged_labels\"] == 3]\n",
    "\n",
    "cluster0ses.plot(\"SES\", \"TOT_INDIV\", kind='bar', colormap='YlGn_r').set(xlabel=\"SES Category\", ylabel=\"Number of People\", title=\"SES on the 1st Cluster\")\n",
    "\n",
    "cluster1ses.plot(\"SES\", \"TOT_INDIV\", kind='bar', colormap='YlGn_r').set(xlabel=\"SES Category\", ylabel=\"Number of People\", title=\"SES on the 2nd Cluster\")\n",
    "cluster2ses.plot(\"SES\", \"TOT_INDIV\", kind='bar', colormap='YlGn_r').set(xlabel=\"SES Category\", ylabel=\"Number of People\", title=\"SES on the 3rd Cluster\")\n",
    "cluster3ses.plot(\"SES\", \"TOT_INDIV\", kind='bar', colormap='YlGn_r').set(xlabel=\"SES Category\", ylabel=\"Number of People\", title=\"SES on the 4th Cluster\")"
   ]
  },
  {
   "cell_type": "code",
   "execution_count": null,
   "metadata": {
    "colab": {
     "base_uri": "https://localhost:8080/",
     "height": 0
    },
    "executionInfo": {
     "elapsed": 348881,
     "status": "ok",
     "timestamp": 1609775663822,
     "user": {
      "displayName": "",
      "photoUrl": "",
      "userId": ""
     },
     "user_tz": 0
    },
    "id": "FGJi-5Qjam0q",
    "outputId": "843fbc71-56e8-4c8a-967d-93d1571630b1"
   },
   "outputs": [],
   "source": [
    "testeURBAN = teste.rename(columns={\"FEMALE\": \"TOT_INDIV\"}).groupby(['merged_labels', 'URBANICITY']).agg({'TOT_INDIV': 'count'}).reset_index()\n",
    "cluster0urb = testeURBAN[testeURBAN[\"merged_labels\"] == 0]\n",
    "cluster1urb = testeURBAN[testeURBAN[\"merged_labels\"] == 1]\n",
    "cluster2urb = testeURBAN[testeURBAN[\"merged_labels\"] == 2]\n",
    "cluster3urb = testeURBAN[testeURBAN[\"merged_labels\"] == 3]\n",
    "\n",
    "cluster0urb.plot(\"URBANICITY\", \"TOT_INDIV\", kind='bar', colormap='YlGn_r').set(xlabel=\"Urbanicity Category\", ylabel=\"Number of People\", title=\"Urbanicity on the 1st Cluster\")\n",
    "cluster1urb.plot(\"URBANICITY\", \"TOT_INDIV\", kind='bar', colormap='YlGn_r').set(xlabel=\"Urbanicity Category\", ylabel=\"Number of People\", title=\"Urbanicity on the 2nd Cluster\")\n",
    "cluster2urb.plot(\"URBANICITY\", \"TOT_INDIV\", kind='bar', colormap='YlGn_r').set(xlabel=\"Urbanicity Category\", ylabel=\"Number of People\", title=\"Urbanicity on the 3rd Cluster\")\n",
    "cluster3urb.plot(\"URBANICITY\", \"TOT_INDIV\", kind='bar', colormap='YlGn_r').set(xlabel=\"Urbanicity Category\", ylabel=\"Number of People\", title=\"Urbanicity on the 4th Cluster\")"
   ]
  },
  {
   "cell_type": "code",
   "execution_count": null,
   "metadata": {
    "colab": {
     "base_uri": "https://localhost:8080/",
     "height": 0
    },
    "executionInfo": {
     "elapsed": 350154,
     "status": "ok",
     "timestamp": 1609775665098,
     "user": {
      "displayName": "",
      "photoUrl": "",
      "userId": ""
     },
     "user_tz": 0
    },
    "id": "fDZoxSroaoTs",
    "outputId": "e78b8510-a682-48c2-d48b-6dddabfe24ef"
   },
   "outputs": [],
   "source": [
    "testeINCOME= teste.groupby(['merged_labels', 'INCOME']).agg({'FEMALE': 'count'}).reset_index()\n",
    "cluster0income = testeINCOME[testeINCOME[\"merged_labels\"] == 0]\n",
    "cluster1income = testeINCOME[testeINCOME[\"merged_labels\"] == 1]\n",
    "cluster2income = testeINCOME[testeINCOME[\"merged_labels\"] == 2]\n",
    "cluster3income = testeINCOME[testeINCOME[\"merged_labels\"] == 3]\n",
    "\n",
    "cluster0income.plot(\"INCOME\", \"FEMALE\", kind='bar', colormap='YlGn_r').set(xlabel=\"INCOME Category\", ylabel=\"Cluster Number\", title=\"INCOME on the 1st Cluster\")\n",
    "cluster1income.plot(\"INCOME\", \"FEMALE\", kind='bar', colormap='YlGn_r').set(xlabel=\"INCOME Category\", ylabel=\"Cluster Number\", title=\"INCOME on the 2nd Cluster\")\n",
    "cluster2income.plot(\"INCOME\", \"FEMALE\", kind='bar', colormap='YlGn_r').set(xlabel=\"INCOME Category\", ylabel=\"Cluster Number\", title=\"INCOME on the 3rd Cluster\")\n",
    "cluster3income.plot(\"INCOME\", \"FEMALE\", kind='bar', colormap='YlGn_r').set(xlabel=\"INCOME Category\", ylabel=\"Cluster Number\", title=\"INCOME on the 4th Cluster\")"
   ]
  },
  {
   "cell_type": "markdown",
   "metadata": {
    "id": "qf3Sa2s_aUGv"
   },
   "source": [
    "### Interests per Cluster"
   ]
  },
  {
   "cell_type": "code",
   "execution_count": null,
   "metadata": {
    "executionInfo": {
     "elapsed": 350155,
     "status": "ok",
     "timestamp": 1609775665101,
     "user": {
      "displayName": "",
      "photoUrl": "",
      "userId": ""
     },
     "user_tz": 0
    },
    "id": "A1yjV5sPgkAv"
   },
   "outputs": [],
   "source": [
    "teste['INTERESTS_SUM'] = teste[['COLLECT1', 'VETERANS', 'BIBLE', 'CATLG', 'HOMEE', 'PETS', 'CDPLAY', 'STEREO', 'PCOWNERS', 'PHOTO', 'CRAFTS','FISHER', 'GARDENIN', 'BOATS', 'WALKER', 'KIDSTUFF', 'CARDS','PLATES']].sum(axis=1)"
   ]
  },
  {
   "cell_type": "code",
   "execution_count": null,
   "metadata": {
    "executionInfo": {
     "elapsed": 350153,
     "status": "ok",
     "timestamp": 1609775665102,
     "user": {
      "displayName": "",
      "photoUrl": "",
      "userId": ""
     },
     "user_tz": 0
    },
    "id": "zrRGdON6e-Cp"
   },
   "outputs": [],
   "source": [
    "teste[\"UD_INTERESTS\"] = teste[['MBCRAFT','MBGARDEN', 'MBBOOKS', 'MBCOLECT', 'MAGFAML', 'MAGFEM', 'MAGMALE','PUBGARDN', 'PUBCULIN', 'PUBHLTH', 'PUBDOITY', 'PUBNEWFN', 'PUBPHOTO','PUBOPP']].sum(axis=1)"
   ]
  },
  {
   "cell_type": "code",
   "execution_count": null,
   "metadata": {
    "colab": {
     "base_uri": "https://localhost:8080/",
     "height": 1000
    },
    "executionInfo": {
     "elapsed": 352138,
     "status": "ok",
     "timestamp": 1609775667089,
     "user": {
      "displayName": "",
      "photoUrl": "",
      "userId": ""
     },
     "user_tz": 0
    },
    "id": "A3ohSIQvfJqC",
    "outputId": "9bc0bbcc-12c9-487a-e4be-03af23322c95"
   },
   "outputs": [],
   "source": [
    "testeMBBOOKS= teste.groupby(['merged_labels', 'MBBOOKS']).agg({'FEMALE': 'count'}).reset_index()\n",
    "cluster0MBBOOKS = testeMBBOOKS[testeMBBOOKS[\"merged_labels\"] == 0]\n",
    "cluster1MBBOOKS = testeMBBOOKS[testeMBBOOKS[\"merged_labels\"] == 1]\n",
    "cluster2MBBOOKS = testeMBBOOKS[testeMBBOOKS[\"merged_labels\"] == 2]\n",
    "cluster3MBBOOKS = testeMBBOOKS[testeMBBOOKS[\"merged_labels\"] == 3]\n",
    "\n",
    "cluster0MBBOOKS.plot(\"MBBOOKS\", \"FEMALE\", kind='bar', colormap='YlGn_r').set(xlabel=\"MBBOOKS Category\", ylabel=\"Cluster Number\", title=\"MBBOOKS on the 1st Cluster\")\n",
    "cluster1MBBOOKS.plot(\"MBBOOKS\", \"FEMALE\", kind='bar', colormap='YlGn_r').set(xlabel=\"MBBOOKS Category\", ylabel=\"Cluster Number\", title=\"MBBOOKS on the 2nd Cluster\")\n",
    "cluster2MBBOOKS.plot(\"MBBOOKS\", \"FEMALE\", kind='bar', colormap='YlGn_r').set(xlabel=\"MBBOOKS Category\", ylabel=\"Cluster Number\", title=\"MBBOOKS on the 3rd Cluster\")\n",
    "cluster3MBBOOKS.plot(\"MBBOOKS\", \"FEMALE\", kind='bar', colormap='YlGn_r').set(xlabel=\"MBBOOKS Category\", ylabel=\"Cluster Number\", title=\"MBBOOKS on the 4th Cluster\")"
   ]
  },
  {
   "cell_type": "code",
   "execution_count": null,
   "metadata": {
    "colab": {
     "base_uri": "https://localhost:8080/",
     "height": 206
    },
    "executionInfo": {
     "elapsed": 352136,
     "status": "ok",
     "timestamp": 1609775667090,
     "user": {
      "displayName": "",
      "photoUrl": "",
      "userId": ""
     },
     "user_tz": 0
    },
    "id": "oVvEC0BOe-C1",
    "outputId": "71f77952-625f-41ba-ebf6-24c669d27acf"
   },
   "outputs": [],
   "source": [
    "teste.groupby(['merged_labels']).agg({'INTERESTS_SUM': 'mean'})"
   ]
  },
  {
   "cell_type": "code",
   "execution_count": null,
   "metadata": {
    "colab": {
     "base_uri": "https://localhost:8080/",
     "height": 206
    },
    "executionInfo": {
     "elapsed": 352133,
     "status": "ok",
     "timestamp": 1609775667091,
     "user": {
      "displayName": "",
      "photoUrl": "",
      "userId": ""
     },
     "user_tz": 0
    },
    "id": "3P_Sv60SUjE4",
    "outputId": "d4210b4d-6aff-49b8-b7f3-ef6f22228ff2"
   },
   "outputs": [],
   "source": [
    "teste.groupby(['merged_labels']).agg({'UD_INTERESTS': 'mean'})"
   ]
  },
  {
   "cell_type": "code",
   "execution_count": null,
   "metadata": {
    "colab": {
     "base_uri": "https://localhost:8080/",
     "height": 369
    },
    "executionInfo": {
     "elapsed": 352130,
     "status": "ok",
     "timestamp": 1609775667091,
     "user": {
      "displayName": "",
      "photoUrl": "",
      "userId": ""
     },
     "user_tz": 0
    },
    "id": "A4JmIza2ZAem",
    "outputId": "ff1c34e4-3714-4a13-8b79-908ac4bcead4"
   },
   "outputs": [],
   "source": [
    "#PROPORTION OF COLLECT1\n",
    "\n",
    "testeCOLLECT1 = teste.groupby(['merged_labels', 'COLLECT1']).agg({'INCOME': 'count'})\n",
    "COLLECT1_pcts = testeCOLLECT1.groupby(level=0).apply(lambda x:100 * x / float(x.sum())).reset_index()\n",
    "COLLECT1_pcts = COLLECT1_pcts[COLLECT1_pcts[\"COLLECT1\"] ==1]\n",
    "\n",
    "fig, ax2 = plt.subplots(figsize=(5, 5))\n",
    "plt.gca().set_ylim(bottom=0, top=7)\n",
    "ticks = [0, 1,2,3]\n",
    "plt.xticks(ticks,rotation=90)\n",
    "ax2.bar(COLLECT1_pcts[\"merged_labels\"], COLLECT1_pcts[\"INCOME\"], color='darkolivegreen')\n",
    "ax2.set(xlabel=\"Cluster Number\", title=\"COLLECT1\")"
   ]
  },
  {
   "cell_type": "code",
   "execution_count": null,
   "metadata": {
    "colab": {
     "base_uri": "https://localhost:8080/",
     "height": 369
    },
    "executionInfo": {
     "elapsed": 352128,
     "status": "ok",
     "timestamp": 1609775667092,
     "user": {
      "displayName": "",
      "photoUrl": "",
      "userId": ""
     },
     "user_tz": 0
    },
    "id": "r7NmE9QGZufD",
    "outputId": "128584b2-0119-4222-ab64-360e673c2142"
   },
   "outputs": [],
   "source": [
    "#PROPORTION OF VETERANS\n",
    "\n",
    "testeVETERANS = teste.groupby(['merged_labels', 'VETERANS']).agg({'INCOME': 'count'})\n",
    "VETERANS_pcts = testeVETERANS.groupby(level=0).apply(lambda x:100 * x / float(x.sum())).reset_index()\n",
    "VETERANS_pcts = VETERANS_pcts[VETERANS_pcts[\"VETERANS\"] ==1]\n",
    "\n",
    "fig, ax2 = plt.subplots(figsize=(5, 5))\n",
    "plt.gca().set_ylim(bottom=0, top=15)\n",
    "ticks = [0, 1,2,3]\n",
    "plt.xticks(ticks,rotation=90)\n",
    "ax2.bar(VETERANS_pcts[\"merged_labels\"],VETERANS_pcts[\"INCOME\"], color='darkolivegreen')\n",
    "ax2.set(xlabel=\"Cluster Number\",  title=\"VETERANS\")"
   ]
  },
  {
   "cell_type": "code",
   "execution_count": null,
   "metadata": {
    "colab": {
     "base_uri": "https://localhost:8080/",
     "height": 369
    },
    "executionInfo": {
     "elapsed": 352886,
     "status": "ok",
     "timestamp": 1609775667852,
     "user": {
      "displayName": "",
      "photoUrl": "",
      "userId": ""
     },
     "user_tz": 0
    },
    "id": "kR8PVNl3bd8j",
    "outputId": "b3c30636-1c5d-41a5-d152-30a6aaf21c90"
   },
   "outputs": [],
   "source": [
    "#PROPORTION OF BIBLE\n",
    "\n",
    "testeBIBLE = teste.groupby(['merged_labels', 'BIBLE']).agg({'INCOME': 'count'})\n",
    "BIBLE_pcts = testeBIBLE.groupby(level=0).apply(lambda x:100 * x / float(x.sum())).reset_index()\n",
    "BIBLE_pcts = BIBLE_pcts[BIBLE_pcts[\"BIBLE\"] ==1]\n",
    "\n",
    "fig, ax2 = plt.subplots(figsize=(5, 5))\n",
    "plt.gca().set_ylim(bottom=0, top=13)\n",
    "ticks = [0, 1,2,3]\n",
    "plt.xticks(ticks,rotation=90)\n",
    "ax2.bar(BIBLE_pcts[\"merged_labels\"],BIBLE_pcts[\"INCOME\"], color='darkolivegreen')\n",
    "ax2.set(xlabel=\"Cluster Number\", title=\"BIBLE\")"
   ]
  },
  {
   "cell_type": "code",
   "execution_count": null,
   "metadata": {
    "colab": {
     "base_uri": "https://localhost:8080/",
     "height": 369
    },
    "executionInfo": {
     "elapsed": 352883,
     "status": "ok",
     "timestamp": 1609775667853,
     "user": {
      "displayName": "",
      "photoUrl": "",
      "userId": ""
     },
     "user_tz": 0
    },
    "id": "8IMagbjmbyNZ",
    "outputId": "844aadee-fb37-4772-e55c-764225d2863d"
   },
   "outputs": [],
   "source": [
    "#PROPORTION OF CATLG\n",
    "\n",
    "testeCATLG = teste.groupby(['merged_labels', 'CATLG']).agg({'INCOME': 'count'})\n",
    "CATLG_pcts = testeCATLG.groupby(level=0).apply(lambda x:100 * x / float(x.sum())).reset_index()\n",
    "CATLG_pcts = CATLG_pcts[CATLG_pcts[\"CATLG\"] ==1]\n",
    "\n",
    "fig, ax2 = plt.subplots(figsize=(5, 5))\n",
    "plt.gca().set_ylim(bottom=0, top=12)\n",
    "ticks = [0, 1,2,3]\n",
    "plt.xticks(ticks,rotation=90)\n",
    "ax2.bar(CATLG_pcts[\"merged_labels\"],CATLG_pcts[\"INCOME\"], color='darkolivegreen')\n",
    "ax2.set(xlabel=\"Cluster Number\", title=\"CATLG\")"
   ]
  },
  {
   "cell_type": "code",
   "execution_count": null,
   "metadata": {
    "colab": {
     "base_uri": "https://localhost:8080/",
     "height": 369
    },
    "executionInfo": {
     "elapsed": 352882,
     "status": "ok",
     "timestamp": 1609775667854,
     "user": {
      "displayName": "",
      "photoUrl": "",
      "userId": ""
     },
     "user_tz": 0
    },
    "id": "4-Rx9qvScAnt",
    "outputId": "04353e6a-0c1d-4127-f5db-823998a62ff3"
   },
   "outputs": [],
   "source": [
    "#PROPORTION OF HOMEE\n",
    "\n",
    "testeHOMEE = teste.groupby(['merged_labels', 'HOMEE']).agg({'INCOME': 'count'})\n",
    "HOMEE_pcts = testeHOMEE.groupby(level=0).apply(lambda x:100 * x / float(x.sum())).reset_index()\n",
    "HOMEE_pcts = HOMEE_pcts[HOMEE_pcts[\"HOMEE\"] ==1]\n",
    "\n",
    "fig, ax2 = plt.subplots(figsize=(5, 5))\n",
    "plt.gca().set_ylim(bottom=0, top=1.6)\n",
    "ticks = [0, 1,2,3]\n",
    "plt.xticks(ticks,rotation=90)\n",
    "ax2.bar(HOMEE_pcts[\"merged_labels\"],HOMEE_pcts[\"INCOME\"], color='darkolivegreen')\n",
    "ax2.set(xlabel=\"Cluster Number\", title=\"HOMEE\")"
   ]
  },
  {
   "cell_type": "code",
   "execution_count": null,
   "metadata": {
    "colab": {
     "base_uri": "https://localhost:8080/",
     "height": 369
    },
    "executionInfo": {
     "elapsed": 353524,
     "status": "ok",
     "timestamp": 1609775668500,
     "user": {
      "displayName": "",
      "photoUrl": "",
      "userId": ""
     },
     "user_tz": 0
    },
    "id": "98wrkT5JcShb",
    "outputId": "90b13faa-027a-42aa-acf5-f6a7bd74b79d"
   },
   "outputs": [],
   "source": [
    "#PROPORTION OF PETS\n",
    "\n",
    "testePETS = teste.groupby(['merged_labels', 'PETS']).agg({'INCOME': 'count'})\n",
    "PETS_pcts = testePETS.groupby(level=0).apply(lambda x:100 * x / float(x.sum())).reset_index()\n",
    "PETS_pcts = PETS_pcts[PETS_pcts[\"PETS\"] ==1]\n",
    "\n",
    "fig, ax2 = plt.subplots(figsize=(5, 5))\n",
    "plt.gca().set_ylim(bottom=0, top=20)\n",
    "ticks = [0, 1,2,3]\n",
    "plt.xticks(ticks,rotation=90)\n",
    "ax2.bar(PETS_pcts[\"merged_labels\"],PETS_pcts[\"INCOME\"], color='darkolivegreen')\n",
    "ax2.set(xlabel=\"Cluster Number\",title=\"PETS\")"
   ]
  },
  {
   "cell_type": "code",
   "execution_count": null,
   "metadata": {
    "colab": {
     "base_uri": "https://localhost:8080/",
     "height": 369
    },
    "executionInfo": {
     "elapsed": 353523,
     "status": "ok",
     "timestamp": 1609775668502,
     "user": {
      "displayName": "",
      "photoUrl": "",
      "userId": ""
     },
     "user_tz": 0
    },
    "id": "zv-ZPR7Bc10V",
    "outputId": "5df0ea19-6ab5-4bb4-f044-89685a5c81b4"
   },
   "outputs": [],
   "source": [
    "#PROPORTION OF CDPLAY\n",
    "\n",
    "testeCDPLAY = teste.groupby(['merged_labels', 'CDPLAY']).agg({'INCOME': 'count'})\n",
    "CDPLAY_pcts = testeCDPLAY.groupby(level=0).apply(lambda x:100 * x / float(x.sum())).reset_index()\n",
    "CDPLAY_pcts = CDPLAY_pcts[CDPLAY_pcts[\"CDPLAY\"] ==1]\n",
    "\n",
    "fig, ax2 = plt.subplots(figsize=(5, 5))\n",
    "plt.gca().set_ylim(bottom=0, top=20)\n",
    "ticks = [0, 1,2,3]\n",
    "plt.xticks(ticks,rotation=90)\n",
    "ax2.bar(CDPLAY_pcts[\"merged_labels\"],CDPLAY_pcts[\"INCOME\"], color='darkolivegreen')\n",
    "ax2.set(xlabel=\"Cluster Number\",title=\"CDPLAY\")"
   ]
  },
  {
   "cell_type": "code",
   "execution_count": null,
   "metadata": {
    "colab": {
     "base_uri": "https://localhost:8080/",
     "height": 369
    },
    "executionInfo": {
     "elapsed": 354429,
     "status": "ok",
     "timestamp": 1609775669410,
     "user": {
      "displayName": "",
      "photoUrl": "",
      "userId": ""
     },
     "user_tz": 0
    },
    "id": "f5HR5B6EdFDl",
    "outputId": "c7ff64d3-27d6-408a-e1ae-eb0d36c90575"
   },
   "outputs": [],
   "source": [
    "#PROPORTION OF STEREO\n",
    "\n",
    "testeSTEREO= teste.groupby(['merged_labels', 'STEREO']).agg({'INCOME': 'count'})\n",
    "STEREO_pcts = testeSTEREO.groupby(level=0).apply(lambda x:100 * x / float(x.sum())).reset_index()\n",
    "STEREO_pcts = STEREO_pcts[STEREO_pcts[\"STEREO\"] ==1]\n",
    "\n",
    "fig, ax2 = plt.subplots(figsize=(5, 5))\n",
    "plt.gca().set_ylim(bottom=0, top=20)\n",
    "ticks = [0, 1,2,3]\n",
    "plt.xticks(ticks,rotation=90)\n",
    "ax2.bar(STEREO_pcts[\"merged_labels\"],STEREO_pcts[\"INCOME\"], color='darkolivegreen')\n",
    "ax2.set(xlabel=\"Cluster Number\", title=\"STEREO\")"
   ]
  },
  {
   "cell_type": "code",
   "execution_count": null,
   "metadata": {
    "colab": {
     "base_uri": "https://localhost:8080/",
     "height": 369
    },
    "executionInfo": {
     "elapsed": 354428,
     "status": "ok",
     "timestamp": 1609775669411,
     "user": {
      "displayName": "",
      "photoUrl": "",
      "userId": ""
     },
     "user_tz": 0
    },
    "id": "6OM3et2bdPfN",
    "outputId": "d7844f0c-0892-426d-91c3-6a3f12730732"
   },
   "outputs": [],
   "source": [
    "#PROPORTION OF PCOWNERS\n",
    "\n",
    "testePCOWNERS= teste.groupby(['merged_labels', 'PCOWNERS']).agg({'INCOME': 'count'})\n",
    "PCOWNERS_pcts = testePCOWNERS.groupby(level=0).apply(lambda x:100 * x / float(x.sum())).reset_index()\n",
    "PCOWNERS_pcts = PCOWNERS_pcts[PCOWNERS_pcts[\"PCOWNERS\"] ==1]\n",
    "\n",
    "fig, ax2 = plt.subplots(figsize=(5, 5))\n",
    "plt.gca().set_ylim(bottom=0, top=20)\n",
    "ticks = [0, 1,2,3]\n",
    "plt.xticks(ticks,rotation=90)\n",
    "ax2.bar(PCOWNERS_pcts[\"merged_labels\"],PCOWNERS_pcts[\"INCOME\"], color='darkolivegreen')\n",
    "ax2.set(xlabel=\"Cluster Number\", title=\"PCOWNERS\")"
   ]
  },
  {
   "cell_type": "code",
   "execution_count": null,
   "metadata": {
    "colab": {
     "base_uri": "https://localhost:8080/",
     "height": 369
    },
    "executionInfo": {
     "elapsed": 354427,
     "status": "ok",
     "timestamp": 1609775669413,
     "user": {
      "displayName": "",
      "photoUrl": "",
      "userId": ""
     },
     "user_tz": 0
    },
    "id": "qMcoEEDOddPi",
    "outputId": "448c0aab-b887-4b87-8f90-2df37a28c6d9"
   },
   "outputs": [],
   "source": [
    "#PROPORTION OF PHOTO\n",
    "\n",
    "testePHOTO= teste.groupby(['merged_labels', 'PHOTO']).agg({'INCOME': 'count'})\n",
    "PHOTO_pcts = testePHOTO.groupby(level=0).apply(lambda x:100 * x / float(x.sum())).reset_index()\n",
    "PHOTO_pcts = PHOTO_pcts[PHOTO_pcts[\"PHOTO\"] ==1]\n",
    "\n",
    "fig, ax2 = plt.subplots(figsize=(5, 5))\n",
    "plt.gca().set_ylim(bottom=0, top=8)\n",
    "ticks = [0, 1,2,3]\n",
    "plt.xticks(ticks,rotation=90)\n",
    "ax2.bar(PHOTO_pcts[\"merged_labels\"],PHOTO_pcts[\"INCOME\"], color='darkolivegreen')\n",
    "ax2.set(xlabel=\"Cluster Number\", title=\"PHOTO\")"
   ]
  },
  {
   "cell_type": "code",
   "execution_count": null,
   "metadata": {
    "colab": {
     "base_uri": "https://localhost:8080/",
     "height": 369
    },
    "executionInfo": {
     "elapsed": 355268,
     "status": "ok",
     "timestamp": 1609775670258,
     "user": {
      "displayName": "",
      "photoUrl": "",
      "userId": ""
     },
     "user_tz": 0
    },
    "id": "3Kc1dMy-dvDQ",
    "outputId": "f7c9cb0f-1964-495f-9d37-d8cf953e4616"
   },
   "outputs": [],
   "source": [
    "#PROPORTION OF CRAFTS\n",
    "\n",
    "testeCRAFTS= teste.groupby(['merged_labels', 'CRAFTS']).agg({'INCOME': 'count'})\n",
    "CRAFTS_pcts = testeCRAFTS.groupby(level=0).apply(lambda x:100 * x / float(x.sum())).reset_index()\n",
    "CRAFTS_pcts = CRAFTS_pcts[CRAFTS_pcts[\"CRAFTS\"] ==1]\n",
    "\n",
    "fig, ax2 = plt.subplots(figsize=(5, 5))\n",
    "plt.gca().set_ylim(bottom=0, top=12)\n",
    "ticks = [0, 1,2,3]\n",
    "plt.xticks(ticks,rotation=90)\n",
    "ax2.bar(CRAFTS_pcts[\"merged_labels\"],CRAFTS_pcts[\"INCOME\"], color='darkolivegreen')\n",
    "ax2.set(xlabel=\"Cluster Number\",title=\"CRAFTS\")"
   ]
  },
  {
   "cell_type": "code",
   "execution_count": null,
   "metadata": {
    "colab": {
     "base_uri": "https://localhost:8080/",
     "height": 369
    },
    "executionInfo": {
     "elapsed": 355266,
     "status": "ok",
     "timestamp": 1609775670259,
     "user": {
      "displayName": "",
      "photoUrl": "",
      "userId": ""
     },
     "user_tz": 0
    },
    "id": "aJ0EpwjTeIwV",
    "outputId": "401cc976-54f4-46d9-f071-8d8e15a20dfb"
   },
   "outputs": [],
   "source": [
    "#PROPORTION OF FISHER\n",
    "\n",
    "testeFISHER= teste.groupby(['merged_labels', 'FISHER']).agg({'INCOME': 'count'})\n",
    "FISHER_pcts = testeFISHER.groupby(level=0).apply(lambda x:100 * x / float(x.sum())).reset_index()\n",
    "FISHER_pcts = FISHER_pcts[FISHER_pcts[\"FISHER\"] ==1]\n",
    "\n",
    "fig, ax2 = plt.subplots(figsize=(5, 5))\n",
    "plt.gca().set_ylim(bottom=0, top=10)\n",
    "ticks = [0, 1,2,3]\n",
    "plt.xticks(ticks,rotation=90)\n",
    "ax2.bar(FISHER_pcts[\"merged_labels\"],FISHER_pcts[\"INCOME\"], color='darkolivegreen')\n",
    "ax2.set(xlabel=\"Cluster Number\", title=\"FISHER\")"
   ]
  },
  {
   "cell_type": "code",
   "execution_count": null,
   "metadata": {
    "colab": {
     "base_uri": "https://localhost:8080/",
     "height": 369
    },
    "executionInfo": {
     "elapsed": 355265,
     "status": "ok",
     "timestamp": 1609775670260,
     "user": {
      "displayName": "",
      "photoUrl": "",
      "userId": ""
     },
     "user_tz": 0
    },
    "id": "5Rr0RtZ3eUyR",
    "outputId": "d9b27e97-50a9-46d5-e446-548dc6165aef"
   },
   "outputs": [],
   "source": [
    "#PROPORTION OF GARDENIN\n",
    "\n",
    "testeGARDENIN= teste.groupby(['merged_labels', 'GARDENIN']).agg({'INCOME': 'count'})\n",
    "GARDENIN_pcts = testeGARDENIN.groupby(level=0).apply(lambda x:100 * x / float(x.sum())).reset_index()\n",
    "GARDENIN_pcts = GARDENIN_pcts[GARDENIN_pcts[\"GARDENIN\"] ==1]\n",
    "\n",
    "fig, ax2 = plt.subplots(figsize=(5, 5))\n",
    "plt.gca().set_ylim(bottom=0, top=20)\n",
    "ticks = [0, 1,2,3]\n",
    "plt.xticks(ticks,rotation=90)\n",
    "ax2.bar(GARDENIN_pcts[\"merged_labels\"],GARDENIN_pcts[\"INCOME\"], color='darkolivegreen')\n",
    "ax2.set(xlabel=\"Cluster Number\", title=\"GARDENIN\")"
   ]
  },
  {
   "cell_type": "code",
   "execution_count": null,
   "metadata": {
    "colab": {
     "base_uri": "https://localhost:8080/",
     "height": 369
    },
    "executionInfo": {
     "elapsed": 355955,
     "status": "ok",
     "timestamp": 1609775670953,
     "user": {
      "displayName": "",
      "photoUrl": "",
      "userId": ""
     },
     "user_tz": 0
    },
    "id": "cL-OXlsneg2o",
    "outputId": "9e80c0e0-b49f-407f-a6ef-8f3ce6265c4c"
   },
   "outputs": [],
   "source": [
    "#PROPORTION OF BOATS\n",
    "\n",
    "testeBOATS= teste.groupby(['merged_labels', 'BOATS']).agg({'INCOME': 'count'})\n",
    "BOATS_pcts = testeBOATS.groupby(level=0).apply(lambda x:100 * x / float(x.sum())).reset_index()\n",
    "BOATS_pcts = BOATS_pcts[BOATS_pcts[\"BOATS\"] ==1]\n",
    "\n",
    "fig, ax2 = plt.subplots(figsize=(5, 5))\n",
    "plt.gca().set_ylim(bottom=0, top=3)\n",
    "ticks = [0, 1,2,3]\n",
    "plt.xticks(ticks,rotation=90)\n",
    "ax2.bar(BOATS_pcts[\"merged_labels\"],BOATS_pcts[\"INCOME\"], color='darkolivegreen')\n",
    "ax2.set(xlabel=\"Cluster Number\", title=\"BOATS\")"
   ]
  },
  {
   "cell_type": "code",
   "execution_count": null,
   "metadata": {
    "colab": {
     "base_uri": "https://localhost:8080/",
     "height": 369
    },
    "executionInfo": {
     "elapsed": 355953,
     "status": "ok",
     "timestamp": 1609775670953,
     "user": {
      "displayName": "",
      "photoUrl": "",
      "userId": ""
     },
     "user_tz": 0
    },
    "id": "4y11qFK3fRYE",
    "outputId": "100bdce8-df4e-4e30-8b40-2d795725927f"
   },
   "outputs": [],
   "source": [
    "#PROPORTION OF WALKER\n",
    "\n",
    "testeWALKER= teste.groupby(['merged_labels', 'WALKER']).agg({'INCOME': 'count'})\n",
    "WALKER_pcts = testeWALKER.groupby(level=0).apply(lambda x:100 * x / float(x.sum())).reset_index()\n",
    "WALKER_pcts = WALKER_pcts[WALKER_pcts[\"WALKER\"] ==1]\n",
    "\n",
    "fig, ax2 = plt.subplots(figsize=(5, 5))\n",
    "plt.gca().set_ylim(bottom=0, top=15)\n",
    "ticks = [0, 1,2,3]\n",
    "plt.xticks(ticks,rotation=90)\n",
    "ax2.bar(WALKER_pcts[\"merged_labels\"],WALKER_pcts[\"INCOME\"], color='darkolivegreen')\n",
    "ax2.set(xlabel=\"Cluster Number\", title=\"WALKER\")"
   ]
  },
  {
   "cell_type": "code",
   "execution_count": null,
   "metadata": {
    "colab": {
     "base_uri": "https://localhost:8080/",
     "height": 369
    },
    "executionInfo": {
     "elapsed": 356895,
     "status": "ok",
     "timestamp": 1609775671898,
     "user": {
      "displayName": "",
      "photoUrl": "",
      "userId": ""
     },
     "user_tz": 0
    },
    "id": "WfIp0wyVfnSO",
    "outputId": "337a1546-9d3a-47d6-b5aa-a7c533251b52"
   },
   "outputs": [],
   "source": [
    "#PROPORTION OF KIDSTUFF\n",
    "\n",
    "testeKIDSTUFF= teste.groupby(['merged_labels', 'KIDSTUFF']).agg({'INCOME': 'count'})\n",
    "KIDSTUFF_pcts = testeKIDSTUFF.groupby(level=0).apply(lambda x:100 * x / float(x.sum())).reset_index()\n",
    "KIDSTUFF_pcts = KIDSTUFF_pcts[KIDSTUFF_pcts[\"KIDSTUFF\"] ==1]\n",
    "\n",
    "fig, ax2 = plt.subplots(figsize=(5, 5))\n",
    "plt.gca().set_ylim(bottom=0, top=3)\n",
    "ticks = [0, 1,2,3]\n",
    "plt.xticks(ticks,rotation=90)\n",
    "ax2.bar(KIDSTUFF_pcts[\"merged_labels\"],KIDSTUFF_pcts[\"INCOME\"], color='darkolivegreen')\n",
    "ax2.set(xlabel=\"Cluster Number\", title=\"KIDSTUFF\")"
   ]
  },
  {
   "cell_type": "code",
   "execution_count": null,
   "metadata": {
    "colab": {
     "base_uri": "https://localhost:8080/",
     "height": 369
    },
    "executionInfo": {
     "elapsed": 356895,
     "status": "ok",
     "timestamp": 1609775671900,
     "user": {
      "displayName": "",
      "photoUrl": "",
      "userId": ""
     },
     "user_tz": 0
    },
    "id": "Ue-OtR1mf3RC",
    "outputId": "aeed769e-2dc8-44d9-b8e1-cea9dff8df9c"
   },
   "outputs": [],
   "source": [
    "#PROPORTION OF CARDS\n",
    "\n",
    "testeCARDS= teste.groupby(['merged_labels', 'CARDS']).agg({'INCOME': 'count'})\n",
    "CARDS_pcts = testeCARDS.groupby(level=0).apply(lambda x:100 * x / float(x.sum())).reset_index()\n",
    "CARDS_pcts = CARDS_pcts[CARDS_pcts[\"CARDS\"] ==1]\n",
    "\n",
    "fig, ax2 = plt.subplots(figsize=(5, 5))\n",
    "plt.gca().set_ylim(bottom=0, top=2)\n",
    "ticks = [0, 1,2,3]\n",
    "plt.xticks(ticks,rotation=90)\n",
    "ax2.bar(CARDS_pcts[\"merged_labels\"],CARDS_pcts[\"INCOME\"], color='darkolivegreen')\n",
    "ax2.set(xlabel=\"Cluster Number\", title=\"CARDS\")"
   ]
  },
  {
   "cell_type": "code",
   "execution_count": null,
   "metadata": {
    "colab": {
     "base_uri": "https://localhost:8080/",
     "height": 369
    },
    "executionInfo": {
     "elapsed": 356891,
     "status": "ok",
     "timestamp": 1609775671900,
     "user": {
      "displayName": "",
      "photoUrl": "",
      "userId": ""
     },
     "user_tz": 0
    },
    "id": "_zJESU3xgH8H",
    "outputId": "128f27e7-d616-419f-b63a-3a069cc28ae1"
   },
   "outputs": [],
   "source": [
    "#PROPORTION OF PLATES\n",
    "\n",
    "testePLATES= teste.groupby(['merged_labels', 'PLATES']).agg({'INCOME': 'count'})\n",
    "PLATES_pcts = testePLATES.groupby(level=0).apply(lambda x:100 * x / float(x.sum())).reset_index()\n",
    "PLATES_pcts = PLATES_pcts[PLATES_pcts[\"PLATES\"] ==1]\n",
    "\n",
    "fig, ax2 = plt.subplots(figsize=(5, 5))\n",
    "plt.gca().set_ylim(bottom=0, top=1)\n",
    "ticks = [0, 1,2,3]\n",
    "plt.xticks(ticks,rotation=90)\n",
    "ax2.bar(PLATES_pcts[\"merged_labels\"],PLATES_pcts[\"INCOME\"], color='darkolivegreen')\n",
    "ax2.set(xlabel=\"Cluster Number\",title=\"PLATES\")"
   ]
  },
  {
   "cell_type": "markdown",
   "metadata": {
    "id": "hXQVHY5-5kqP"
   },
   "source": [
    "## **Classifying the observations not used in the cluster analysis**"
   ]
  },
  {
   "cell_type": "code",
   "execution_count": null,
   "metadata": {
    "executionInfo": {
     "elapsed": 356890,
     "status": "ok",
     "timestamp": 1609775671901,
     "user": {
      "displayName": "",
      "photoUrl": "",
      "userId": ""
     },
     "user_tz": 0
    },
    "id": "XEHDSkMv5j9O"
   },
   "outputs": [],
   "source": [
    "training_df = final_clustering_solution.drop(columns=['Donor_Profile_Labels', 'Demographic_Labels']).copy()"
   ]
  },
  {
   "cell_type": "code",
   "execution_count": null,
   "metadata": {
    "executionInfo": {
     "elapsed": 356889,
     "status": "ok",
     "timestamp": 1609775671902,
     "user": {
      "displayName": "",
      "photoUrl": "",
      "userId": ""
     },
     "user_tz": 0
    },
    "id": "Ds6rIwJt6I_2"
   },
   "outputs": [],
   "source": [
    "to_predict_ds = df[~df.index.isin(training_df.index)]"
   ]
  },
  {
   "cell_type": "code",
   "execution_count": null,
   "metadata": {
    "executionInfo": {
     "elapsed": 359221,
     "status": "ok",
     "timestamp": 1609775674238,
     "user": {
      "displayName": "",
      "photoUrl": "",
      "userId": ""
     },
     "user_tz": 0
    },
    "id": "hlCp3A0u-eo0"
   },
   "outputs": [],
   "source": [
    "to_predict_ds['ICCHEAP'] = to_predict_ds[['IC6','IC7','IC8','IC9']].sum(axis = 1)\n",
    "to_predict_ds['ICMEDIUM'] = to_predict_ds[['IC10','IC11']].sum(axis = 1)\n",
    "to_predict_ds['ICEXPENSIVE'] = to_predict_ds[['IC12','IC13']].sum(axis = 1)\n",
    "\n",
    "to_predict_ds.drop(columns = ['IC6','IC7','IC8','IC9','IC10','IC11','IC12','IC13'], inplace = True)\n",
    "\n",
    "to_predict_ds.drop(columns = ['MARR2','MARR3','MARR4'], inplace = True)\n",
    "\n",
    "to_predict_ds['1stSECTOR'] = to_predict_ds[['EIC1', 'EIC2', 'EIC3']].sum(axis = 1)\n",
    "to_predict_ds['2ndSECTOR'] = to_predict_ds[['EIC4']].sum(axis = 1)\n",
    "to_predict_ds['3rdSECTOR'] = to_predict_ds[['EIC5','EIC6', 'EIC7', 'EIC8', 'EIC9', 'EIC11', 'EIC12', 'EIC13', 'EIC15', 'EIC16','EIC10','EIC14']].sum(axis = 1)\n",
    "\n",
    "to_predict_ds['Less_Educated'] = to_predict_ds[['EC2', 'EC3']].sum(axis = 1)\n",
    "to_predict_ds['High_School'] = to_predict_ds[['EC4', 'EC5']].sum(axis = 1)\n",
    "to_predict_ds['University'] = to_predict_ds[['EC6','EC7','EC8']].sum(axis = 1)\n",
    "\n",
    "\n",
    "to_predict_ds['Other_ETH']=to_predict_ds[['ETH3','ETH4','ETH6']].sum(axis=1)\n",
    "\n",
    "to_predict_ds.drop(columns = ['EIC1', 'EIC2', 'EIC3', 'EIC4', 'EIC5','EIC6', 'EIC7', 'EIC8', 'EIC9', 'EIC10', 'EIC11', 'EIC12', 'EIC13','EIC14', 'EIC15', 'EIC16'], inplace = True)\n",
    "to_predict_ds.drop(columns = ['EC2', 'EC3', 'EC4', 'EC5','EC6', 'EC7', 'EC8'], inplace = True)\n",
    "\n",
    "for i in ['ADATE_2', \"LASTDATE\", 'DOB']:\n",
    "    to_predict_ds[i] =  pd.to_datetime(to_predict_ds[i], infer_datetime_format=True)\n",
    "\n",
    "to_predict_ds['AGE'] = to_predict_ds['DOB'].apply(lambda x : (2017 - x.year))\n",
    "\n",
    "for column in ['ICCHEAP','ICMEDIUM', 'ICEXPENSIVE', '1stSECTOR','2ndSECTOR','3rdSECTOR']:\n",
    "  to_predict_ds[column][to_predict_ds[column] > 100] = 100\n",
    "\n",
    "to_predict_ds[\"NR_MONTHS\"] = (to_predict_ds['ADATE_2'].apply(lambda x: x.year) - to_predict_ds['LASTDATE'].apply(lambda x: x.year)) * 12 + to_predict_ds['ADATE_2'].apply(lambda x: x.month) - to_predict_ds['LASTDATE'].apply(lambda x: x.month)\n",
    "\n",
    "to_predict_ds.rename(columns={\"NR_MONTHS\": \"RECENCY\", \"RAMNTALL\": \"MONETARY\", \"NGIFTALL\": \"FREQUENCY\"}, inplace=True)\n",
    "to_predict_ds[\"RESPONSE_RATE\"] = to_predict_ds[\"FREQUENCY\"]/to_predict_ds[\"NUMPROM\"]\n",
    "\n",
    "all_dates=to_predict_ds[['RDATE_3']].rename(columns={'RDATE_3':'TOTAL_DATES'}).copy()\n",
    "all_dates['TOTAL_DATES']=np.nan\n",
    "all_dates['TOTAL_DATES']=all_dates['TOTAL_DATES'].fillna('')\n",
    "\n",
    "for i in ['RDATE_3', 'RDATE_4', 'RDATE_5', 'RDATE_6', 'RDATE_7', 'RDATE_8',\n",
    "       'RDATE_9', 'RDATE_10', 'RDATE_11', 'RDATE_12', 'RDATE_13', 'RDATE_14',\n",
    "       'RDATE_15', 'RDATE_16', 'RDATE_17', 'RDATE_18', 'RDATE_19', 'RDATE_20',\n",
    "       'RDATE_21', 'RDATE_22', 'RDATE_23', 'RDATE_24']:\n",
    "\n",
    "       all_dates['TOTAL_DATES'][~(to_predict_ds[i].isna())]=all_dates['TOTAL_DATES'][~(to_predict_ds[i].isna())]+' '+to_predict_ds[i][~(to_predict_ds[i].isna())] \n",
    "\n",
    "\n",
    "all_dates=all_dates['TOTAL_DATES'].str.split(' ', expand=True).drop(columns=0)\n",
    "all_dates.columns=['GIFT_1','GIFT_2','GIFT_3','GIFT_4','GIFT_5','GIFT_6','GIFT_7','GIFT_8','GIFT_9','GIFT_10','GIFT_11','GIFT_12','GIFT_13','GIFT_14','GIFT_15']\n",
    "\n",
    "for i in ['GIFT_1','GIFT_2','GIFT_3','GIFT_4','GIFT_5','GIFT_6','GIFT_7','GIFT_8','GIFT_9','GIFT_10','GIFT_11','GIFT_12','GIFT_13','GIFT_14','GIFT_15']:\n",
    "    all_dates[i] =  pd.to_datetime(all_dates[i], infer_datetime_format=True)\n",
    "\n",
    "min_date=all_dates[['GIFT_2','GIFT_3','GIFT_4','GIFT_5','GIFT_6','GIFT_7','GIFT_8','GIFT_9','GIFT_10','GIFT_11','GIFT_12','GIFT_13','GIFT_14','GIFT_15']].copy()\n",
    "max_date=all_dates[['GIFT_1','GIFT_2','GIFT_3','GIFT_4','GIFT_5','GIFT_6','GIFT_7','GIFT_8','GIFT_9','GIFT_10','GIFT_11','GIFT_12','GIFT_13','GIFT_14']].copy()\n",
    "avg_time=max_date.copy()\n",
    "\n",
    "for i, j in zip(max_date.columns.to_list(), min_date.columns.to_list()):\n",
    "    avg_time[i]=((max_date[i].apply(lambda x: x.year) - min_date[j].apply(lambda x: x.year)) * 12 + max_date[i].apply(lambda x: x.month) - min_date[j].apply(lambda x: x.month))\n",
    "\n",
    "to_predict_ds[\"AVG_TIME_BTWN_GIFT\"]=avg_time.mean(axis=1).fillna(avg_time.mean(axis=1).max())\n",
    "\n",
    "to_predict_ds[\"ALL_VETS\"] = to_predict_ds[[\"MALEMILI\", \"MALEVET\"]].sum(axis=1)\n",
    "\n",
    "to_predict_ds.drop(columns = [\"MALEMILI\", \"MALEVET\"], inplace=True)\n",
    "\n",
    "to_predict_ds[to_std_later] = scaler_neigh.transform(to_predict_ds[to_std_later])\n",
    "\n",
    "to_predict_ds['Black Communities'] = 0\n",
    "to_predict_ds['Hispanic Communities'] = 0\n",
    "to_predict_ds['Native White Kids'] = 0\n",
    "\n",
    "to_predict_ds[['Black Communities','Hispanic Communities','Native White Kids']]=pc_eth.transform(to_predict_ds[pca_eth])\n",
    "to_predict_ds.drop(columns=pca_eth, inplace=True)\n",
    "\n",
    "to_predict_ds['Single Adults Neighbourhood'] = 0\n",
    "to_predict_ds['Single Parents Neighbourhood'] = 0\n",
    "to_predict_ds['Younger Neighbourhood'] = 0\n",
    "\n",
    "to_predict_ds[['Single Adults Neighbourhood','Single Parents Neighbourhood', 'Younger Neighbourhood']]=pc_fam.transform(to_predict_ds[pca_fam])\n",
    "to_predict_ds.drop(columns=pca_fam, inplace=True)\n",
    "\n",
    "to_predict_ds['Modern Flats'] = 0\n",
    "to_predict_ds['New Houses'] = 0\n",
    "to_predict_ds['Old Dwelling'] = 0\n",
    "\n",
    "to_predict_ds[['Modern Flats','New Houses', 'Old Dwelling']]=pc_hous.transform(to_predict_ds[pca_hous])\n",
    "to_predict_ds.drop(columns=pca_hous, inplace=True)\n",
    "\n",
    "to_predict_ds['Wealthier Areas'] = 0\n",
    "to_predict_ds['Rural Areas'] = 0\n",
    "to_predict_ds['Gentrified Areas'] = 0\n",
    "\n",
    "to_predict_ds[['Wealthier Areas','Rural Areas', 'Gentrified Areas']]=pc_devep.transform(to_predict_ds[pca_devep])\n",
    "to_predict_ds.drop(columns=pca_devep, inplace=True)\n",
    "\n",
    "to_predict_ds=to_predict_ds[training_df.drop(columns=['merged_labels','INCOME','URBANICITY', 'SES', 'DATASRCE']).columns.to_list()]\n",
    "\n",
    "to_predict_ds[donor_profile_variables.columns.to_list()] = scaler_dp.transform(to_predict_ds[donor_profile_variables.columns.to_list()])"
   ]
  },
  {
   "cell_type": "code",
   "execution_count": null,
   "metadata": {
    "colab": {
     "base_uri": "https://localhost:8080/"
    },
    "executionInfo": {
     "elapsed": 842133,
     "status": "ok",
     "timestamp": 1609776157153,
     "user": {
      "displayName": "",
      "photoUrl": "",
      "userId": ""
     },
     "user_tz": 0
    },
    "id": "wECSbkLLX4vT",
    "outputId": "bd0120bc-e789-498b-d89e-4e20f7253908"
   },
   "outputs": [],
   "source": [
    "X = training_df.drop(columns = ['merged_labels','INCOME','URBANICITY', 'SES', 'DATASRCE'])\n",
    "y = training_df['merged_labels']\n",
    "\n",
    "X_train, X_val, y_train, y_val = train_test_split(X, y, test_size = 0.30, stratify = y, random_state = 15)\n",
    "\n",
    "\n",
    "#AdaBoost first GridSearch\n",
    "#model = AdaBoostClassifier()\n",
    "\n",
    "#parameter_space_Ada = {\n",
    "#     'n_estimators': [500,1500,2500,3000,3500],\n",
    "#    'learning_rate': [1,0.01,0.0001],\n",
    "#    'random_state':[15],\n",
    "#}\n",
    "\n",
    "#AdaBoost = GridSearchCV(model, parameter_space_Ada, n_jobs = -1, cv=3)\n",
    "#AdaBoost.fit(X_train, y_train)\n",
    "#AdaBoost.best_params_\n",
    "#{'learning_rate': 0.01, 'n_estimators': 3500, 'random_state': 15}\n",
    "\n",
    "model = AdaBoostClassifier(n_estimators = 3500, learning_rate = 0.01, random_state = 15).fit(X_train, y_train)\n",
    "\n",
    "metrics(y_train, model.predict(X_train), y_val, model.predict(X_val))"
   ]
  },
  {
   "cell_type": "code",
   "execution_count": null,
   "metadata": {
    "executionInfo": {
     "elapsed": 846609,
     "status": "ok",
     "timestamp": 1609776161632,
     "user": {
      "displayName": "",
      "photoUrl": "",
      "userId": ""
     },
     "user_tz": 0
    },
    "id": "AXqPslj0m4-q"
   },
   "outputs": [],
   "source": [
    "to_predict_ds['merged_labels'] = model.predict(to_predict_ds)"
   ]
  },
  {
   "cell_type": "code",
   "execution_count": null,
   "metadata": {
    "colab": {
     "base_uri": "https://localhost:8080/"
    },
    "executionInfo": {
     "elapsed": 846608,
     "status": "ok",
     "timestamp": 1609776161634,
     "user": {
      "displayName": "",
      "photoUrl": "",
      "userId": ""
     },
     "user_tz": 0
    },
    "id": "NhFDtqnsRGnn",
    "outputId": "f8cb0f0e-6bb8-40ee-e4c1-05281f8b0116"
   },
   "outputs": [],
   "source": [
    "to_predict_ds['merged_labels'].value_counts()"
   ]
  },
  {
   "cell_type": "code",
   "execution_count": null,
   "metadata": {
    "colab": {
     "base_uri": "https://localhost:8080/",
     "height": 519
    },
    "executionInfo": {
     "elapsed": 847288,
     "status": "ok",
     "timestamp": 1609776162317,
     "user": {
      "displayName": "",
      "photoUrl": "",
      "userId": ""
     },
     "user_tz": 0
    },
    "id": "b_HMXAjnMo8E",
    "outputId": "ca78745c-54d3-43c5-8984-4c3e9006b793"
   },
   "outputs": [],
   "source": [
    "zippy = pd.DataFrame(model.feature_importances_, columns = ['Mean Decrease Impurity'])\n",
    "zippy['col'] = X_train.columns\n",
    "tidy = zippy.melt(id_vars='col').rename(columns=str.title)\n",
    "tidy.sort_values(['Value'], ascending = False, inplace = True)\n",
    "\n",
    "plt.figure(figsize=(15,8))\n",
    "sns.barplot(y='Col', x='Value', data=tidy, color=\"darkolivegreen\")"
   ]
  }
 ],
 "metadata": {
  "colab": {
   "name": "Cópia de Cópia de Untitled1.ipynb",
   "provenance": [
    {
     "file_id": "https://github.com/martaldsantos/pva_project/blob/master/DM_restruturado_k-means.ipynb",
     "timestamp": 1609789061574
    }
   ]
  },
  "kernelspec": {
   "display_name": "Python 3",
   "language": "python",
   "name": "python3"
  },
  "language_info": {
   "codemirror_mode": {
    "name": "ipython",
    "version": 3
   },
   "file_extension": ".py",
   "mimetype": "text/x-python",
   "name": "python",
   "nbconvert_exporter": "python",
   "pygments_lexer": "ipython3",
   "version": "3.8.3"
  }
 },
 "nbformat": 4,
 "nbformat_minor": 1
}
